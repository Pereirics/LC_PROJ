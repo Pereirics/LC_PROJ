{
 "cells": [
  {
   "cell_type": "markdown",
   "id": "4a1a4254",
   "metadata": {},
   "source": [
    "---\n",
    "Lógica Computacional TP1.Exercício2\n",
    "======================\n",
    "##### G01 - Bruno Dias da Gião A96544, João Luis da Cruz Pereira A95375\n, David Alberto Agra A95726\n",
    "\n",
    "\n",
    "---"
   ]
  },
  {
   "cell_type": "markdown",
   "id": "ea73e715",
   "metadata": {},
   "source": [
    "## Exercício 2 - Enunciado"
   ]
  },
  {
   "cell_type": "markdown",
   "id": "65713ef0",
   "metadata": {},
   "source": [
    "2. Um sistema de tráfego  é representado por um grafo orientado ligado. Os nodos denotam pontos de acesso e  os arcos denotam vias de comunicação só com um sentido .  O grafo tem de ser ligado: entre cada par de nodos $\\langle n_1,n_2 \\rangle$ tem de existir um caminho $n_1 \\leadsto n_2$ e um caminho $n_2\\leadsto n_1$.\n",
    "    1. Gerar aleatoriamente o grafo com  $N \\in\\{8..15\\}$  nodos e com ramos verificando:\n",
    "        1. Cada nodo tem um número aleatório de descendentes $d\\in\\{0 .. 3\\}\\,$ cujos destinos são também gerados aleatoriamente. \n",
    "        2. Se  existirem “loops”  ou destinos repetidos, deve-se gerar outro grafo.\n",
    "    2. Pretende-se fazer  manutenção interrompendo  determinadas vias. Determinar o maior número de vias que é possível remover mantendo o grafo ligado.\n",
    "\n",
    "---"
   ]
  },
  {
   "cell_type": "markdown",
   "id": "d9eb042b",
   "metadata": {},
   "source": [
    "## Exercício 2 - Solução"
   ]
  },
  {
   "cell_type": "code",
   "execution_count": null,
   "id": "64df0399",
   "metadata": {},
   "outputs": [],
   "source": []
  },
  {
   "cell_type": "markdown",
   "id": "4e40b6d5",
   "metadata": {},
   "source": [
    "### Exercício 2 - Código"
   ]
  },
  {
   "cell_type": "code",
   "execution_count": null,
   "id": "def87122",
   "metadata": {},
   "outputs": [],
   "source": []
  },
  {
   "cell_type": "markdown",
   "id": "6d7529af",
   "metadata": {},
   "source": [
    "### Exercício 2 - Testes"
   ]
  },
  {
   "cell_type": "code",
   "execution_count": null,
   "id": "33eb44d1",
   "metadata": {},
   "outputs": [],
   "source": []
  }
 ],
 "metadata": {
  "kernelspec": {
   "display_name": "Python 3 (ipykernel)",
   "language": "python",
   "name": "python3"
  },
  "language_info": {
   "codemirror_mode": {
    "name": "ipython",
    "version": 3
   },
   "file_extension": ".py",
   "mimetype": "text/x-python",
   "name": "python",
   "nbconvert_exporter": "python",
   "pygments_lexer": "ipython3",
   "version": "3.11.5"
  }
 },
 "nbformat": 4,
 "nbformat_minor": 5
}
