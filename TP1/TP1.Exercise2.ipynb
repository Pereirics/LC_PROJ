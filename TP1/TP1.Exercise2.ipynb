{
 "cells": [
  {
   "cell_type": "markdown",
   "id": "ea73e715",
   "metadata": {},
   "source": [
    "## Exercício 2 - Enunciado"
   ]
  },
  {
   "cell_type": "markdown",
   "id": "65713ef0",
   "metadata": {},
   "source": [
    "2. Um sistema de tráfego  é representado por um grafo orientado ligado. Os nodos denotam pontos de acesso e  os arcos denotam vias de comunicação só com um sentido .  O grafo tem de ser ligado: entre cada par de nodos $\\langle n_1,n_2 \\rangle$ tem de existir um caminho $n_1 \\leadsto n_2$ e um caminho $n_2\\leadsto n_1$.\n",
    "    1. Gerar aleatoriamente o grafo com  $N \\in\\{8..15\\}$  nodos e com ramos verificando:\n",
    "        1. Cada nodo tem um número aleatório de descendentes $d\\in\\{0 .. 3\\}\\,$ cujos destinos são também gerados aleatoriamente. \n",
    "        2. Se existirem “loops”  ou destinos repetidos, deve-se gerar outro grafo.\n",
    "    2. Pretende-se fazer manutenção interrompendo  determinadas vias. Determinar o maior número de vias que é possível remover mantendo o grafo ligado.\n"
   ]
  },
  {
   "cell_type": "code",
   "execution_count": null,
   "outputs": [],
   "source": [
    "from ortools.sat.python import cp_model\n",
    "import matplotlib.pyplot as plt\n",
    "import networkx as nx\n",
    "import random"
   ],
   "metadata": {
    "collapsed": false
   },
   "id": "570f74e70c06bce4"
  },
  {
   "cell_type": "markdown",
   "id": "3762f7ee23bd6cfa",
   "metadata": {},
   "source": [
    "Geramos um grafo aleatório fortemente conexo em que cada nodo tem no máximo 3 descendentes"
   ]
  },
  {
   "cell_type": "code",
   "execution_count": null,
   "outputs": [],
   "source": [
    "N = 15\n",
    "max_neighbors = 3\n",
    "G = nx.DiGraph()\n",
    "G.add_nodes_from(range(N))\n",
    "nodes = list(G.nodes())\n",
    "while not nx.is_strongly_connected(G):\n",
    "    G.clear_edges()\n",
    "    for node in nodes:\n",
    "        neighbors = set(G.neighbors(node))\n",
    "        rnd = random.randint(1, max_neighbors)\n",
    "        while len(neighbors) < rnd:\n",
    "            target_node = random.choice(nodes)\n",
    "            if target_node != node and target_node not in neighbors:\n",
    "                G.add_edge(node, target_node)\n",
    "                neighbors.add(target_node)\n",
    "                \n",
    "pos = nx.kamada_kawai_layout(G)\n",
    "plt.title(f'Original | #edges -> {len(G.edges())})')\n",
    "nx.draw(G, pos, with_labels=True, node_size=300)\n",
    "plt.show()"
   ],
   "metadata": {
    "collapsed": false
   },
   "id": "12318f968b6b4d2"
  },
  {
   "cell_type": "markdown",
   "id": "3611f4d5432eafd3",
   "metadata": {},
   "source": [
    "Associamos a cada aresta uma variável que pode tomar valores 0 ou 1 em que 1 significa que a aresta foi removida"
   ]
  },
  {
   "cell_type": "code",
   "execution_count": null,
   "outputs": [],
   "source": [
    "model = cp_model.CpModel()\n",
    "\n",
    "edge_vars = {}\n",
    "\n",
    "for u, v in G.edges():\n",
    "    edge_vars[u, v] = model.NewIntVar(0, 1, f'edge_{u}_{v}')"
   ],
   "metadata": {
    "collapsed": false
   },
   "id": "2f896c4d47d9b11f"
  },
  {
   "cell_type": "markdown",
   "id": "1942b1dfcef639bf",
   "metadata": {},
   "source": [
    "Adicionamos uma restrição para garantir que existe pelo menos um caminho entre cada par de nodos em que as arestas desse caminho não são removidas"
   ]
  },
  {
   "cell_type": "code",
   "execution_count": null,
   "outputs": [],
   "source": [
    "for i in range(N):\n",
    "    for j in range(N):\n",
    "        if i != j:\n",
    "            paths = nx.all_simple_edge_paths(G, i, j)\n",
    "            vals = [sum(edge_vars[x] for x in k) for k in paths]\n",
    "            model.AddMinEquality(0, vals)"
   ],
   "metadata": {
    "collapsed": false
   },
   "id": "38974a79c29efd4b"
  },
  {
   "cell_type": "markdown",
   "id": "a2beb16affd7aaec",
   "metadata": {},
   "source": [
    "Maximizamos o número de arestas removidas e iniciamos o solver"
   ]
  },
  {
   "cell_type": "code",
   "execution_count": null,
   "outputs": [],
   "source": [
    "model.Maximize(sum(edge_vars.values()))\n",
    "            \n",
    "solver = cp_model.CpSolver()\n",
    "s = solver.Solve(model)"
   ],
   "metadata": {
    "collapsed": false
   },
   "id": "7e13d759d406a077"
  },
  {
   "cell_type": "markdown",
   "id": "529edd9060d2ce0a",
   "metadata": {},
   "source": [
    "Removemos as arestas que estão com o valor 1 e temos o resultado"
   ]
  },
  {
   "cell_type": "code",
   "execution_count": null,
   "id": "64df0399",
   "metadata": {},
   "outputs": [],
   "source": [
    "for u, v in edge_vars:\n",
    "    if solver.Value(edge_vars[u, v]) == 1:\n",
    "        G.remove_edge(u, v)\n",
    "        \n",
    "plt.title(f'Minimal | #edges -> {len(G.edges())}')\n",
    "pos = nx.kamada_kawai_layout(G)\n",
    "nx.draw(G, pos, with_labels=True, node_size=300)\n",
    "plt.show()\n"
   ]
  }
 ],
 "metadata": {
  "authors": [
   {
    "name": "Bruno Dias da Gião A96544"
   },
   {
    "name": "João Luis da Cruz Pereira A95375"
   },
   {
    "name": "David Alberto Agra A95726"
   }
  ],
  "kernelspec": {
   "display_name": "Python 3 (ipykernel)",
   "language": "python",
   "name": "python3"
  },
  "language_info": {
   "codemirror_mode": {
    "name": "ipython",
    "version": 3
   },
   "file_extension": ".py",
   "mimetype": "text/x-python",
   "name": "python",
   "nbconvert_exporter": "python",
   "pygments_lexer": "ipython3",
   "version": "3.11.5"
  },
  "title": "Lógica Computacional - TP1 Exercício 2 - G01"
 },
 "nbformat": 4,
 "nbformat_minor": 5
}
