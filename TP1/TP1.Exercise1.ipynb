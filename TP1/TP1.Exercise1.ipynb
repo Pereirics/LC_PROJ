{
 "cells": [
  {
   "cell_type": "markdown",
   "id": "4a1a4254",
   "metadata": {},
   "source": [
    "---\n",
    "Lógica Computacional TP1.Exercício1\n",
    "======================\n",
    "##### G01 - Bruno Dias da Gião A96544, João Luis da Cruz Pereira A95375, David Alberto Agra A95726\n",
    "\n",
    "\n",
    "---"
   ]
  },
  {
   "cell_type": "markdown",
   "id": "ea73e715",
   "metadata": {},
   "source": [
    "## Exercício 1 - Enunciado"
   ]
  },
  {
   "cell_type": "markdown",
   "id": "65713ef0",
   "metadata": {},
   "source": [
    "\n",
    "1. Pretende-se construir o horário semanal de aulas de uma turma.\n",
    "    1. Existe um conjunto de salas $S$ classificadas em “grandes” e “pequenas”.\n",
    "    2. O tempo do horário está organizado em “slots” de uma hora. O total do tempo disponível é 5 horas de manhã e 5 horas às tarde.\n",
    "    3. Existe um conjunto $D\\,$ de disciplinas.  Cada disciplina tem um atributo $d\\in\\{1,2\\}$ que classifica a duração de cada sessão (um ou dois “slots”) , um atributo $a\\in\\{2,3\\}$ que define o número de sessões semanais e um atributo $\\,s\\in\\{0,1\\}\\,$ que diz se a sessão necessita de uma sala grande ou não.\n",
    "     d. Existe um conjunto $P$ de professores. Cada professor tem associado um conjunto  $h$ das disciplinas que está habilitado a lecionar.\n",
    "     e. O horário está organizado em sessões concorrentes onde cada sessão é definido por uma disciplina desce que salas e professores verifiquem as seguintes restrições.\n",
    "        1. Para cada disciplina todas as aulas decorrem na mesma sala e com o mesmo professor.\n",
    "        2. O número total de horas lecionadas por cada professor está num intervalo de $\\pm 20\\%\\,$do número médio de horas lecionadas pela totalidade dos professores.\n",
    "        3. Nenhuma sala pode ser ocupada simultaneamente por mais do que uma aula e nenhum professor pode lecionar simultaneamente mais do que uma aula.\n",
    "        4. Em cada disciplina, cada aula é lecionada por um professor habilitado para essa disciplina e ocorre numa sala de tamanho apropriado à disciplina.\n",
    "        \n",
    "\n",
    "\n",
    "    Use o package `ortools` para encontrar uma solução que verifique todas as restrições e maximize o número de partes de dia (manhãs ou tardes) que estão livres de qualquer aula.\n",
    "---"
   ]
  },
  {
   "cell_type": "markdown",
   "id": "d9eb042b",
   "metadata": {},
   "source": [
    "## Exercício 1 - Solução"
   ]
  },
  {
   "cell_type": "code",
   "execution_count": null,
   "id": "64df0399",
   "metadata": {},
   "outputs": [],
   "source": []
  },
  {
   "cell_type": "markdown",
   "id": "6d7529af",
   "metadata": {},
   "source": [
    "### Exercício 1 - Testes"
   ]
  },
  {
   "cell_type": "markdown",
   "id": "424c482d-3667-4003-8877-eca628f1e32b",
   "metadata": {},
   "source": [
    "Variáveis de testes (correr antes das restrições)"
   ]
  },
  {
   "cell_type": "code",
   "execution_count": 243,
   "id": "ab3d30b7-500d-4510-8252-1c5abbf36ecc",
   "metadata": {
    "tags": []
   },
   "outputs": [],
   "source": [
    "S = 3\n",
    "D = 3\n",
    "P = 3\n",
    "\n",
    "gp = [0, 1, 1] # salas x grandes pequenas\n",
    "ph = [[0, 1, 0], [1, 1, 0], [0, 0, 1]] # professores x disciplinas\n",
    "dd = [1, 2, 1] # disciplinas x duração\n",
    "na = [2, 3, 2] # diciplinas x nº aulas\n",
    "ts = [0, 1, 0] # diciplinas x tamanho sala"
   ]
  },
  {
   "cell_type": "code",
   "execution_count": null,
   "id": "c2559f39-1965-4caa-a3ad-598f198f33f7",
   "metadata": {},
   "outputs": [],
   "source": []
  },
  {
   "cell_type": "markdown",
   "id": "4e40b6d5",
   "metadata": {},
   "source": [
    "### Exercício 1 - Código"
   ]
  },
  {
   "cell_type": "code",
   "execution_count": 244,
   "id": "dd80e53a-a355-4430-904d-82b6ee3acc23",
   "metadata": {
    "tags": []
   },
   "outputs": [],
   "source": [
    "from ortools.linear_solver import pywraplp\n",
    "\n",
    "solver = pywraplp.Solver.CreateSolver('SCIP')"
   ]
  },
  {
   "cell_type": "code",
   "execution_count": 245,
   "id": "d6371ebc-6113-4bd8-abbe-a5167d4eaa9c",
   "metadata": {},
   "outputs": [],
   "source": [
    "dias = 1\n",
    "horas_manha = 5\n",
    "horas_tarde = 5\n",
    "h = {}"
   ]
  },
  {
   "cell_type": "code",
   "execution_count": 246,
   "id": "def87122",
   "metadata": {},
   "outputs": [],
   "source": [
    "for dia in range(dias):\n",
    "    h[dia] = {}\n",
    "    for hora in range(horas_manha+horas_tarde):\n",
    "        h[dia][hora] = {}\n",
    "        for s in range(S):\n",
    "            h[dia][hora][s] = {}\n",
    "            for d in range(D):\n",
    "                h[dia][hora][s][d] = {}\n",
    "                for p in range(P):\n",
    "                    h[dia][hora][s][d][p] = solver.BoolVar(\"[%i][%i][%i][%i][%i]\" % (dia, hora, s, d, p))\n",
    "\n",
    "# Professor poder dar a disciplina\n",
    "for dia in range(dias):\n",
    "    for hora in range(horas_manha+horas_tarde):\n",
    "        for s in range(S):\n",
    "            for d in range(D):\n",
    "                for p in range(P):\n",
    "                    solver.Add(h[dia][hora][s][d][p] <= ph[p][d])\n",
    "\n",
    "# Sala tem o tamanho certo\n",
    "#for dia in range(dias):\n",
    "#    for hora in range(horas_manha+horas_tarde):\n",
    "#        for s in range(S):\n",
    "#            for d in range(D):\n",
    "#                solver.Add(h[dia][hora][s][d][p] == gp[s] * ts[d])\n",
    "                    \n",
    "# Número de aulas correto\n",
    "for d in range(D):\n",
    "    solver.Add(sum(h[dia][hora][s][d][p] for dia in range(dias) for hora in range(horas_manha+horas_tarde) for s in range(S) for p in range(P)) == na[d])\n",
    "\n",
    "# Duração de aula correta\n",
    "#for dia in range(dias):\n",
    "#    for hora in range(horas_manha + horas_tarde):\n",
    "#        for s in range(S):\n",
    "#            for p in range(P):\n",
    "#                for d in range(D):\n",
    "#                    if dd[d] == 2 and hora < horas_manha + horas_tarde - 1:\n",
    "#                       solver.Add(h[dia][hora][s][d][p] == 1)\n",
    "#                       solver.Add(h[dia][hora + 1][s][d][p] == 1)\n",
    "#                    elif dd[d] == 1:\n",
    "#                        solver.Add(h[dia][hora][s][d][p] == 1)\n",
    "#                        if hora < horas_manha + horas_tarde - 1:\n",
    "#                            solver.Add(h[dia][hora + 1][s][d][p] == 0)\n",
    "\n",
    "\n",
    "# Uma aula por hora por professor\n",
    "for dia in range(dias):\n",
    "    for hora in range(horas_manha+horas_tarde):\n",
    "        for p in range(P):\n",
    "            solver.Add(sum(h[dia][hora][s][d][p] for d in range(D) for s in range(S)) <= 1)\n",
    "\n",
    "# A sala não pode estar ocupada por duas aulas ao mesmo tempo\n",
    "for dia in range(dias):\n",
    "    for hora in range(horas_manha+horas_tarde):\n",
    "        for s in range(S):\n",
    "            solver.Add(sum(h[dia][hora][s][d][p] for d in range(D) for p in range(P)) <= 1)\n",
    "        \n",
    "# Um professor por disciplina\n",
    "for d in range(D):\n",
    "    solver.Add(sum(h[dia][hora][s][d][p] for dia in range(dias) for hora in range(horas_manha + horas_tarde) for s in range(S) for p in range(P)) <= 1)\n",
    "\n",
    "# A mesma sala para cada disciplina\n",
    "for s in range(S):\n",
    "    for d in range(D):\n",
    "        solver.Add(sum(h[dia][hora][s][d][p] for dia in range(dias) for hora in range(horas_manha+horas_tarde) for p in range(P)) <= 1)\n"
   ]
  },
  {
   "cell_type": "code",
   "execution_count": 247,
   "id": "1d76e555-2180-4a59-b09b-f711a987379a",
   "metadata": {
    "tags": []
   },
   "outputs": [],
   "source": [
    "def print_horario():\n",
    "    # Create a 5D list to store the schedule\n",
    "    schedule = [[[[[0 for _ in range(P)] for _ in range(D)] for _ in range(S)] for _ in range(horas_manha + horas_tarde)] for _ in range(dias)]\n",
    "\n",
    "    # Extract the solution from the solver and populate the schedule\n",
    "    for dia in range(dias):\n",
    "        for hora in range(horas_manha + horas_tarde):\n",
    "            for s in range(S):\n",
    "                for d in range(D):\n",
    "                    for p in range(P):\n",
    "                        value = h[dia][hora][s][d][p].solution_value()\n",
    "                        if value == 1:\n",
    "                            schedule[dia][hora][s][d][p] = value\n",
    "\n",
    "    # Print the schedule in a human-readable format\n",
    "    for dia in range(dias):\n",
    "        print(f\"Day {dia + 1}:\")\n",
    "        for hora in range(horas_manha + horas_tarde):\n",
    "            print(f\"Hour {hora + 1}:\", end=\" \")\n",
    "            for s in range(S):\n",
    "                for d in range(D):\n",
    "                    for p in range(P):\n",
    "                        if h[dia][hora][s][d][p].solution_value() == 1:\n",
    "                            print(f\"Room {s + 1}, Discipline {d + 1}, Professor {p + 1}\")\n",
    "            print(\"\\n\")\n",
    "        print()  # Separate days with an empty line"
   ]
  },
  {
   "cell_type": "code",
   "execution_count": 248,
   "id": "33eb44d1",
   "metadata": {},
   "outputs": [
    {
     "name": "stdout",
     "output_type": "stream",
     "text": [
      "Não foi encontrada solução\n"
     ]
    }
   ],
   "source": [
    "r = solver.Solve()\n",
    "\n",
    "if r == pywraplp.Solver.OPTIMAL:\n",
    "    print(\"Solução encontrada\") \n",
    "    print_horario()\n",
    "else:\n",
    "    print(\"Não foi encontrada solução\")"
   ]
  }
 ],
 "metadata": {
  "kernelspec": {
   "display_name": "Python 3 (ipykernel)",
   "language": "python",
   "name": "python3"
  },
  "language_info": {
   "codemirror_mode": {
    "name": "ipython",
    "version": 3
   },
   "file_extension": ".py",
   "mimetype": "text/x-python",
   "name": "python",
   "nbconvert_exporter": "python",
   "pygments_lexer": "ipython3",
   "version": "3.10.13"
  }
 },
 "nbformat": 4,
 "nbformat_minor": 5
}
