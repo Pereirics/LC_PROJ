{
 "cells": [
  {
   "cell_type": "markdown",
   "id": "f88b024d",
   "metadata": {},
   "source": [
    "---\n",
    "Lógica Computacional TP1.Exercício1\n",
    "======================\n",
    "##### G01 - Bruno Dias da Gião A96544, João Luis da Cruz Pereira A95375, David Alberto Agra A95726\n",
    "\n",
    "---"
   ]
  },
  {
   "cell_type": "markdown",
   "id": "a9df6714",
   "metadata": {},
   "source": [
    "## Exercício 1 - Enunciado"
   ]
  },
  {
   "cell_type": "markdown",
   "id": "bd3c9f5d",
   "metadata": {},
   "source": [
    "1. Pretende-se construir o horário semanal de aulas de uma turma.\n",
    "    1. Existe um conjunto de salas $S$ classificadas em “grandes” e “pequenas”.\n",
    "    2. Existe um conjunto  $T_1$  de períodos de tempo de 1 hora e um conjunto $T_2$ de períodos de tempo de duas horas. O total do tempo disponível é 5 horas de manhã e 5 horas às tarde.\n",
    "    3. Existe um conjunto $D\\,$ de disciplinas.  Cada disciplina tem um atributo $d\\in\\{1,2\\}$ que classifica a duração de cada aula, um atributo $a\\in\\{2,3\\}$ que define o número de aulas semanais e um atributo $\\,s\\in\\{0,1\\}\\,$ que diz se a aula necessita de uma sala grande ou não.\n",
    "    4. Existe um conjunto $P$ de professores. Cada professor tem associado um conjunto  $h$ das disciplinas que está habilitado a lecionar.\n",
    "    O horário deve verificar as seguintes restrições\n",
    "        1. Para cada disciplina todas as aulas decorrem na mesma sala e com o mesmo professor.\n",
    "        2. Nenhum professor tem duas aulas sem um intervalo de pelo menos uma hora.\n",
    "        3. O número total de horas lecionadas por cada professor está num intervalo de $\\pm 20\\%\\,$do número médio de horas lecionadas pela totalidade dos professores.\n",
    "        4. Nenhuma sala pode ser ocupada simultaneamente por mais do que uma aula e nenhum professor pode lecionar simultaneamente mais do que uma aula.\n",
    "        5. Em cada disciplina, cada aula é lecionada por um professor habilitado para essa disciplina e ocorre numa sala de tamanho apropriado à disciplina.\n",
    "\n",
    "\n",
    "    Use o package `ortools` para encontrar uma solução que verifique todas as restrições e maximize o número de partes de dia (manhãs ou tardes) que estão livres de qualquer aula.\n",
    "    \n",
    "---"
   ]
  },
  {
   "cell_type": "markdown",
   "id": "14247e65",
   "metadata": {},
   "source": [
    "## Exercício 1 - Solução"
   ]
  },
  {
   "cell_type": "code",
   "execution_count": 14,
   "id": "eb635ded",
   "metadata": {
    "ExecuteTime": {
     "end_time": "2023-09-21T16:21:56.683074Z",
     "start_time": "2023-09-21T16:21:56.593395Z"
    }
   },
   "outputs": [],
   "source": []
  },
  {
   "cell_type": "markdown",
   "id": "3dc3f6b4",
   "metadata": {},
   "source": [
    "### Exercício 1 - Código"
   ]
  },
  {
   "cell_type": "code",
<<<<<<< HEAD
   "execution_count": null,
   "id": "40299b58",
   "metadata": {},
   "outputs": [],
=======
   "execution_count": 1,
   "id": "40299b58",
   "metadata": {
    "tags": []
   },
   "outputs": [
    {
     "ename": "NotImplementedError",
     "evalue": "Evaluating a LinearExpr instance as a Boolean is not implemented.",
     "output_type": "error",
     "traceback": [
      "\u001b[0;31m---------------------------------------------------------------------------\u001b[0m",
      "\u001b[0;31mNotImplementedError\u001b[0m                       Traceback (most recent call last)",
      "Cell \u001b[0;32mIn[1], line 42\u001b[0m\n\u001b[1;32m     40\u001b[0m \u001b[38;5;28;01mfor\u001b[39;00m i \u001b[38;5;129;01min\u001b[39;00m horario:\n\u001b[1;32m     41\u001b[0m     \u001b[38;5;28;01mfor\u001b[39;00m j \u001b[38;5;129;01min\u001b[39;00m i:\n\u001b[0;32m---> 42\u001b[0m         model\u001b[38;5;241m.\u001b[39mAddAllDifferent([disciplinaProf[k] \u001b[38;5;28;01mfor\u001b[39;00m k \u001b[38;5;129;01min\u001b[39;00m \u001b[38;5;28mrange\u001b[39m(\u001b[38;5;28mlen\u001b[39m(j)) \u001b[38;5;28;01mif\u001b[39;00m j[k]])\n\u001b[1;32m     43\u001b[0m         model\u001b[38;5;241m.\u001b[39mAddAllDifferent([disciplinaSala[k] \u001b[38;5;28;01mfor\u001b[39;00m k \u001b[38;5;129;01min\u001b[39;00m \u001b[38;5;28mrange\u001b[39m(\u001b[38;5;28mlen\u001b[39m(j)) \u001b[38;5;28;01mif\u001b[39;00m j[k]])\n",
      "Cell \u001b[0;32mIn[1], line 42\u001b[0m, in \u001b[0;36m<listcomp>\u001b[0;34m(.0)\u001b[0m\n\u001b[1;32m     40\u001b[0m \u001b[38;5;28;01mfor\u001b[39;00m i \u001b[38;5;129;01min\u001b[39;00m horario:\n\u001b[1;32m     41\u001b[0m     \u001b[38;5;28;01mfor\u001b[39;00m j \u001b[38;5;129;01min\u001b[39;00m i:\n\u001b[0;32m---> 42\u001b[0m         model\u001b[38;5;241m.\u001b[39mAddAllDifferent([disciplinaProf[k] \u001b[38;5;28;01mfor\u001b[39;00m k \u001b[38;5;129;01min\u001b[39;00m \u001b[38;5;28mrange\u001b[39m(\u001b[38;5;28mlen\u001b[39m(j)) \u001b[38;5;28;01mif\u001b[39;00m j[k]])\n\u001b[1;32m     43\u001b[0m         model\u001b[38;5;241m.\u001b[39mAddAllDifferent([disciplinaSala[k] \u001b[38;5;28;01mfor\u001b[39;00m k \u001b[38;5;129;01min\u001b[39;00m \u001b[38;5;28mrange\u001b[39m(\u001b[38;5;28mlen\u001b[39m(j)) \u001b[38;5;28;01mif\u001b[39;00m j[k]])\n",
      "File \u001b[0;32m~/anaconda3/envs/logica/lib/python3.11/site-packages/ortools/sat/python/cp_model.py:478\u001b[0m, in \u001b[0;36mLinearExpr.__bool__\u001b[0;34m(self)\u001b[0m\n\u001b[1;32m    477\u001b[0m \u001b[38;5;28;01mdef\u001b[39;00m \u001b[38;5;21m__bool__\u001b[39m(\u001b[38;5;28mself\u001b[39m):\n\u001b[0;32m--> 478\u001b[0m     \u001b[38;5;28;01mraise\u001b[39;00m \u001b[38;5;167;01mNotImplementedError\u001b[39;00m(\n\u001b[1;32m    479\u001b[0m         \u001b[38;5;124m\"\u001b[39m\u001b[38;5;124mEvaluating a LinearExpr instance as a Boolean is not implemented.\u001b[39m\u001b[38;5;124m\"\u001b[39m\n\u001b[1;32m    480\u001b[0m     )\n",
      "\u001b[0;31mNotImplementedError\u001b[0m: Evaluating a LinearExpr instance as a Boolean is not implemented."
     ]
    }
   ],
>>>>>>> 61a292f (Thing)
   "source": [
    "from ortools.sat.python import cp_model as cp\n",
    "\n",
    "model = cp.CpModel()\n",
    "\n",
    "dias_da_semana = 5\n",
    "horas_do_dia = 10\n",
    "disciplinas = { # (duracao, numero de aulas, necessita de sala grande)\n",
    "    0: (1, 2, False),\n",
    "    1: (2, 3, True)\n",
    "}\n",
    "\n",
    "professores = [ # conjunto de disciplinas\n",
    "    {0},\n",
    "    {1}\n",
    "]\n",
    "\n",
    "salas = [ # True -> grande, False -> pequena\n",
    "    True,\n",
    "    False\n",
    "]\n",
    "\n",
    "horario = [[[0 for _ in range(len(disciplinas))] for _ in range(horas_do_dia)] for _ in range(dias_da_semana)]\n",
    "\n",
    "for i in range(dias_da_semana):\n",
    "    for j in range(horas_do_dia):\n",
    "        for k in range(len(disciplinas)):\n",
    "            horario[i][j][k] = model.NewBoolVar(f\"disciplina{i}-{j}-{k}\")\n",
    "\n",
    "disciplinaSala = {}\n",
    "disciplinaProf = {}\n",
    "\n",
    "for d in disciplinas:\n",
    "    disciplinaSala[d] = model.NewIntVar(0, len(salas), 'sala')\n",
    "    disciplinaProf[d] = model.NewIntVar(0, len(professores), 'prof')\n",
    "    \n",
    "# for d in disciplinas:\n",
    "    # model.Add(d in professores[disciplinaProf[d]])\n",
    "    # model.Add(salas[disciplinaSala[d]] or not disciplinas[d][2])\n",
    "    \n",
    "for i in horario:\n",
    "    for j in i:\n",
    "        model.AddAllDifferent([disciplinaProf[k] for k in range(len(j)) if j[k]])\n",
    "        model.AddAllDifferent([disciplinaSala[k] for k in range(len(j)) if j[k]])\n",
    "\n"
   ]
  },
  {
   "cell_type": "markdown",
<<<<<<< HEAD
   "source": [
    "### Exercício 1 - Testes"
   ],
   "metadata": {
    "collapsed": false
   },
   "id": "2e76e6db7333e464"
=======
   "id": "2e76e6db7333e464",
   "metadata": {},
   "source": [
    "### Exercício 1 - Testes"
   ]
>>>>>>> 61a292f (Thing)
  },
  {
   "cell_type": "code",
   "execution_count": null,
   "id": "da676a64",
   "metadata": {
    "ExecuteTime": {
     "end_time": "2023-09-21T16:21:56.985958Z",
     "start_time": "2023-09-21T16:21:56.983046Z"
    }
   },
   "outputs": [],
   "source": [
    "solver = cp.CpSolver()\n",
    "solver.parameters.max_time_in_seconds = 60.0\n",
    "status = solver.Solve(model)\n",
    "\n",
    "if status == cp.OPTIMAL or status == cp.FEASIBLE:\n",
    "    print(horario)\n",
    "else:\n",
    "    print('Não existe solução')\n"
   ]
  }
 ],
 "metadata": {
  "kernelspec": {
   "display_name": "Python 3 (ipykernel)",
   "language": "python",
   "name": "python3"
  },
  "language_info": {
   "codemirror_mode": {
    "name": "ipython",
    "version": 3
   },
   "file_extension": ".py",
   "mimetype": "text/x-python",
   "name": "python",
   "nbconvert_exporter": "python",
   "pygments_lexer": "ipython3",
   "version": "3.11.5"
  }
 },
 "nbformat": 4,
 "nbformat_minor": 5
}
