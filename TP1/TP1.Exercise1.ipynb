{
 "cells": [
  {
   "cell_type": "markdown",
   "id": "4a1a4254",
   "metadata": {},
   "source": [
    "---\n",
    "Lógica Computacional TP1.Exercício1\n",
    "======================\n",
    "##### G01 - Bruno Dias da Gião A96544, João Luis da Cruz Pereira A95375, David Alberto Agra A95726\n",
    "\n",
    "\n",
    "---"
   ]
  },
  {
   "cell_type": "markdown",
   "id": "ea73e715",
   "metadata": {},
   "source": [
    "## Exercício 1 - Enunciado"
   ]
  },
  {
   "cell_type": "markdown",
   "id": "65713ef0",
   "metadata": {},
   "source": [
    "\n",
    "1. Pretende-se construir o horário semanal de aulas de uma turma.\n",
    "    1. Existe um conjunto de salas $S$ classificadas em “grandes” e “pequenas”.\n",
    "    2. O tempo do horário está organizado em “slots” de uma hora. O total do tempo disponível é 5 horas de manhã e 5 horas às tarde.\n",
    "    3. Existe um conjunto $D\\,$ de disciplinas.  Cada disciplina tem um atributo $d\\in\\{1,2\\}$ que classifica a duração de cada sessão (um ou dois “slots”) , um atributo $a\\in\\{2,3\\}$ que define o número de sessões semanais e um atributo $\\,s\\in\\{0,1\\}\\,$ que diz se a sessão necessita de uma sala grande ou não.\n",
    "     d. Existe um conjunto $P$ de professores. Cada professor tem associado um conjunto  $h$ das disciplinas que está habilitado a lecionar.\n",
    "     e. O horário está organizado em sessões concorrentes onde cada sessão é definido por uma disciplina desce que salas e professores verifiquem as seguintes restrições.\n",
    "        1. Para cada disciplina todas as aulas decorrem na mesma sala e com o mesmo professor.\n",
    "        2. O número total de horas lecionadas por cada professor está num intervalo de $\\pm 20\\%\\,$do número médio de horas lecionadas pela totalidade dos professores.\n",
    "        3. Nenhuma sala pode ser ocupada simultaneamente por mais do que uma aula e nenhum professor pode lecionar simultaneamente mais do que uma aula.\n",
    "        4. Em cada disciplina, cada aula é lecionada por um professor habilitado para essa disciplina e ocorre numa sala de tamanho apropriado à disciplina.\n",
    "        \n",
    "\n",
    "\n",
    "    Use o package `ortools` para encontrar uma solução que verifique todas as restrições e maximize o número de partes de dia (manhãs ou tardes) que estão livres de qualquer aula.\n",
    "---"
   ]
  },
  {
   "cell_type": "markdown",
   "id": "d9eb042b",
   "metadata": {},
   "source": [
    "## Exercício 1 - Solução"
   ]
  },
  {
   "cell_type": "code",
   "execution_count": null,
   "id": "64df0399",
   "metadata": {},
   "outputs": [],
   "source": []
  },
  {
   "cell_type": "markdown",
   "id": "6d7529af",
   "metadata": {},
   "source": [
    "### Exercício 1 - Testes"
   ]
  },
  {
   "cell_type": "markdown",
   "id": "424c482d-3667-4003-8877-eca628f1e32b",
   "metadata": {},
   "source": [
    "Variáveis de testes (correr antes das restrições)"
   ]
  },
  {
   "cell_type": "code",
   "execution_count": 217,
   "id": "42704801",
   "metadata": {
    "tags": []
   },
   "outputs": [],
   "source": [
    "S = 3\n",
    "D = 3\n",
    "P = 3\n",
    "\n",
    "gp = [0, 1, 1] # salas x grandes pequenas\n",
    "ph = [[0, 1, 0], [1, 1, 0], [0, 0, 1]] # professores x disciplinas\n",
    "dd = [2, 2, 2] # disciplinas x duração\n",
    "na = [2, 2, 2] # diciplinas x nº aulas\n",
    "ts = [0, 1, 0] # diciplinas x tamanho sala"
   ]
  },
  {
   "cell_type": "code",
   "execution_count": 218,
   "id": "c2559f39-1965-4caa-a3ad-598f198f33f7",
   "metadata": {},
   "outputs": [],
   "source": [
    "S = 3\n",
    "D = 4\n",
    "P = 4\n",
    "\n",
    "gp = [0, 1, 1] # salas x grandes pequenas\n",
    "ph = [[0, 1, 1, 0], [1, 0, 0, 1], [1, 0, 0, 0], [0, 0, 1, 0]] # professores x disciplinas\n",
    "dd = [2, 2, 2, 2] # disciplinas x duração\n",
    "na = [2, 2, 2, 2] # diciplinas x nº aulas\n",
    "ts = [0, 1, 1, 0] # diciplinas x tamanho sala"
   ]
  },
  {
   "cell_type": "markdown",
   "id": "4e40b6d5",
   "metadata": {},
   "source": [
    "### Exercício 1 - Código"
   ]
  },
  {
   "cell_type": "code",
   "execution_count": 219,
   "id": "dd80e53a-a355-4430-904d-82b6ee3acc23",
   "metadata": {
    "tags": []
   },
   "outputs": [],
   "source": [
    "from ortools.linear_solver import pywraplp\n",
    "from math import log\n",
    "\n",
    "solver = pywraplp.Solver.CreateSolver('SCIP')"
   ]
  },
  {
   "cell_type": "code",
   "execution_count": 220,
   "id": "d6371ebc-6113-4bd8-abbe-a5167d4eaa9c",
   "metadata": {},
   "outputs": [],
   "source": [
    "dias = 5\n",
    "horas_manha = 5\n",
    "horas_tarde = 5\n",
    "h = {}\n",
    "\n",
    "sala_disc = {}\n",
    "disc_prof = {}"
   ]
  },
  {
   "cell_type": "markdown",
   "id": "bc2f8e24",
   "metadata": {},
   "source": [
    "Criação de dicionário onde iremos guardar a ocorrência de aulas num determinado dia, hora, sala, disciplina e professor com recurso a um BoolVar que o solver irá decidir se é 1 ou 0 (Há aula/Não há aula)"
   ]
  },
  {
   "cell_type": "code",
   "execution_count": 221,
   "id": "cd9a8b34",
   "metadata": {},
   "outputs": [],
   "source": [
    "for dia in range(dias):\n",
    "    h[dia] = {}\n",
    "    for hora in range(horas_manha+horas_tarde):\n",
    "        h[dia][hora] = {}\n",
    "        for s in range(S):\n",
    "            h[dia][hora][s] = {}\n",
    "            for d in range(D):\n",
    "                h[dia][hora][s][d] = {}\n",
    "                for p in range(P):\n",
    "                    h[dia][hora][s][d][p] = solver.BoolVar(\"[%i][%i][%i][%i][%i]\" % (dia, hora, s, d, p))"
   ]
  },
  {
   "cell_type": "markdown",
   "id": "4d0b79bc",
   "metadata": {},
   "source": [
    "Criação de dois dicionários auxiliares que irão guardar qual é a sala de cada disciplina (única) e qual o professor de cada discilina (único)"
   ]
  },
  {
   "cell_type": "code",
   "execution_count": 222,
   "id": "d227c5cf",
   "metadata": {},
   "outputs": [],
   "source": [
    "for s in range(S):\n",
    "    sala_disc[s] = {}\n",
    "    for d in range(D):\n",
    "        sala_disc[s][d] = solver.BoolVar(\"[%i][%i]\" % (s, d))\n",
    "        \n",
    "for d in range(D):\n",
    "    disc_prof[d] = {}\n",
    "    for p in range(P):\n",
    "        disc_prof[d][p] = solver.BoolVar(\"[%i][%i]\" % (d, p))"
   ]
  },
  {
   "cell_type": "markdown",
   "id": "84e06037",
   "metadata": {},
   "source": [
    "Esta restrição garante que a duração de cada aula está correta, para isso estamos a percorrer todos os parâmetros (dias, horas, salas, disciplinas, professores) e para cada disciplina verificamos qual a duração de aula pretendida (1 ou 2 horas). Verificamos também casos base (1º hora da manhã, última hora da manhã, 1º hora da tarde, última hora da tarde). Fazemos isto pois no caso de a duração da aula ser de duas horas queremos verificar se há uma aula da mesma disciplina na hora anterior ou na hora seguinte. Para isso fazemos o somatório da hora anterior com a hora seguinte. Nos restantes casos só temos que verificar a hora seguinte quando é a 1º hora manhã/tarde ou a hora anterior quando é a última hora manhã/tarde."
   ]
  },
  {
   "cell_type": "code",
   "execution_count": 223,
   "id": "973f63e7",
   "metadata": {},
   "outputs": [],
   "source": [
    "# Duração de aula correta\n",
    "for dia in range(dias):\n",
    "    for hora in range(horas_manha + horas_tarde):\n",
    "        for s in range(S):\n",
    "            for d in range(D):\n",
    "                for p in range(P):\n",
    "                    if (dd[d] == 2 and hora != 0 and hora != horas_manha-1 and hora != horas_manha and hora != horas_manha+horas_tarde-1):\n",
    "                        solver.Add(h[dia][hora][s][d][p] <= solver.Sum(h[dia][h1][s][d][p] for h1 in range(hora-1, hora+2, 2)))\n",
    "                    elif (dd[d] == 2 and hora == horas_manha-1):\n",
    "                        solver.Add(h[dia][hora][s][d][p] <= h[dia][hora-1][s][d][p])\n",
    "                    elif (dd[d] == 2 and hora == horas_manha):\n",
    "                        solver.Add(h[dia][hora][s][d][p] <= h[dia][hora+1][s][d][p])\n",
    "                    elif (dd[d] == 2 and hora == 0):\n",
    "                        solver.Add(h[dia][hora][s][d][p] <= h[dia][hora+1][s][d][p])\n",
    "                    elif (dd[d] == 2) and hora == horas_manha+horas_tarde-1:\n",
    "                        solver.Add(h[dia][hora][s][d][p] <= h[dia][hora-1][s][d][p])\n",
    "                    else:\n",
    "                        solver.Add(h[dia][hora][s][d][p] == 0)"
   ]
  },
  {
   "cell_type": "markdown",
   "id": "3798fb88",
   "metadata": {},
   "source": [
    "Nesta situação, \"bloqueamos\" cada disciplina e de seguida percorremos todos os parâmetros para a mesma e verificamos que o somatório do número de aulas dessa disciplina é igual ao número de aulas a multiplicar pela duração da mesma."
   ]
  },
  {
   "cell_type": "code",
   "execution_count": 224,
   "id": "be9f0ba7",
   "metadata": {},
   "outputs": [],
   "source": [
    "# Número de horas de aulas correto\n",
    "for d in range(D):        \n",
    "    solver.Add(solver.Sum(h[dia][hora][s][d][p] for dia in range(dias) \n",
    "                                         for hora in range(horas_manha+horas_tarde)\n",
    "                                         for s in range(S) \n",
    "                                         for p in range(P)\n",
    "                          ) == na[d]*dd[d])"
   ]
  },
  {
   "cell_type": "markdown",
   "id": "f112d363",
   "metadata": {},
   "source": [
    "Para confirmar que o professor atribuído pode dar a disciplina fazemos o contrário e encontramos todas as disciplinas que o professor não está habilitado a dar a disciplina e colocamos todas as ocorrências dessa disciplina com esse professor como 0 (Não há aula). Adicionamos esse valor também ao dicionário auxiliar para posteriormente verificarmos que só há um professor por cada disciplina."
   ]
  },
  {
   "cell_type": "code",
   "execution_count": 225,
   "id": "e3944ce3",
   "metadata": {},
   "outputs": [],
   "source": [
    "# Professor poder dar a disciplina\n",
    "for dia in range(dias):\n",
    "    for hora in range(horas_manha+horas_tarde):\n",
    "        for s in range(S):\n",
    "            for d in range(D):\n",
    "                for p in range(P):\n",
    "                    if ph[p][d] == 0:\n",
    "                        solver.Add(h[dia][hora][s][d][p] == 0)\n",
    "                        solver.Add(disc_prof[d][p] == 0)"
   ]
  },
  {
   "cell_type": "markdown",
   "id": "4b68c1e0",
   "metadata": {},
   "source": [
    "No caso de verificar que a sala tem o tamanho adequado à disciplina, usamos um processo idêntico ao de verificar que o professor pode dar a disciplina. Percorremos todos os parâmetros e de seguida verificamos se o tamanho da sala necessário para a disciplina é diferente do tamanho da sala. De seguida adicionamos ao dicionário principal esse valor e também ao auxiliar para posteriormente verificarmos que só há uma sala por cada disciplina."
   ]
  },
  {
   "cell_type": "code",
   "execution_count": 226,
   "id": "c8b1dc65",
   "metadata": {},
   "outputs": [],
   "source": [
    "# Sala tem o tamanho certo\n",
    "for dia in range(dias):\n",
    "    for hora in range(horas_manha+horas_tarde):\n",
    "        for s in range(S):\n",
    "            for d in range(D):\n",
    "                for p in range(P):\n",
    "                    if ts[d] != gp[s]:\n",
    "                        solver.Add(h[dia][hora][s][d][p] == 0)\n",
    "                        solver.Add(sala_disc[s][d] == 0)"
   ]
  },
  {
   "cell_type": "markdown",
   "id": "6f26dd31",
   "metadata": {},
   "source": [
    "Um professor só pode dar uma aula por hora então vamos confirmar que em cada dia, em cada hora e para cada professor, o número total de horas de aulas é no máximo 1."
   ]
  },
  {
   "cell_type": "code",
   "execution_count": 227,
   "id": "a2ecde7b",
   "metadata": {},
   "outputs": [],
   "source": [
    "# Uma aula por hora por professor\n",
    "for dia in range(dias):\n",
    "    for hora in range(horas_manha+horas_tarde):\n",
    "        for p in range(P):\n",
    "            solver.Add(solver.Sum(h[dia][hora][s][d][p] for d in range(D) for s in range(S)) <= 1)"
   ]
  },
  {
   "cell_type": "code",
   "execution_count": 228,
   "id": "def87122",
   "metadata": {},
   "outputs": [],
   "source": [
    "# Não pode haver aulas da mesma disciplina ao mesmo tempo\n",
    "for dia in range(dias):\n",
    "    for hora in range(horas_manha+horas_tarde):\n",
    "        for d in range(D):\n",
    "            solver.Add(solver.Sum(h[dia][hora][s][d][p] for s in range(S) for p in range(P)) <= 1)\n",
    "        \n",
    "# Um professor por disciplina\n",
    "for d in range(D):\n",
    "    solver.Add(solver.Sum(disc_prof[d][p] for p in range(P)) == 1)\n",
    "\n",
    "for dia in range(dias):\n",
    "    for hora in range(horas_manha+horas_tarde):\n",
    "        for s in range(S):\n",
    "            for d in range(D):\n",
    "                for p in range(P): \n",
    "                    solver.Add(h[dia][hora][s][d][p] <= disc_prof[d][p])\n",
    "    \n",
    "    \n",
    "# A mesma sala para cada disciplina\n",
    "for d in range(D):\n",
    "    solver.Add(solver.Sum(sala_disc[s][d] for s in range(S)) == 1)\n",
    "\n",
    "for dia in range(dias):\n",
    "    for hora in range(horas_manha+horas_tarde):\n",
    "        for s in range(S):\n",
    "            for d in range(D):\n",
    "                for p in range(P):\n",
    "                    solver.Add(h[dia][hora][s][d][p] <= sala_disc[s][d])\n",
    "                    \n",
    "# Uma sala não pode estar ocupada por mais que uma disciplina na mesma hora\n",
    "for dia in range(dias):\n",
    "    for hora in range(horas_manha+horas_tarde):\n",
    "        for s in range(S):\n",
    "            solver.Add(solver.Sum(h[dia][hora][s][d][p] for d in range(D) for p in range(P)) <= 1)\n",
    "                    \n",
    "# Número de horas lecionadas de +/-20% \n",
    "total = 0\n",
    "for i in range(D):\n",
    "    total += na[d]*dd[d]\n",
    "media = total // P\n",
    "\n",
    "for p in range(P):\n",
    "    solver.Add(media*0.8 <= solver.Sum(disc_prof[d][p] * na[d] * dd[d] for d in range(D)) <= media*1.2)\n",
    "\n",
    "    \n",
    "# Maximizar partes de dia livre\n",
    "sum_hora = [[solver.IntVar(0, D, 'sum_hora') for hora in range(horas_manha+horas_tarde)] for dia in range(dias)]\n",
    "max_hora = [solver.IntVar(0, D, 'max_hora') for d in range(0, 5)]\n",
    "\n",
    "for dia in range(dias):\n",
    "    for hora in range(horas_manha+horas_tarde):\n",
    "        sum_hora[dia][hora] = solver.Sum(h[dia][hora][s][d][p] for s in range(S) for d in range(D) for p in range(P))\n",
    "\n",
    "for dia in range(dias):\n",
    "    for hora in range(horas_manha+horas_tarde):\n",
    "        for d in range(D):\n",
    "            if sum_hora[dia][hora] >= max_hora[d]:\n",
    "                max_hora[d] = sum_hora[dia][hora]\n",
    "\n",
    "solver.Maximize(solver.Sum(max_hora[d] for d in range(D)))"
   ]
  },
  {
   "cell_type": "code",
   "execution_count": 229,
   "id": "1d76e555-2180-4a59-b09b-f711a987379a",
   "metadata": {
    "tags": []
   },
   "outputs": [],
   "source": [
    "def print_horario():\n",
    "    # Create a 5D list to store the schedule\n",
    "    schedule = [[[[[0 for _ in range(P)] for _ in range(D)] for _ in range(S)] for _ in range(horas_manha + horas_tarde)] for _ in range(dias)]\n",
    "\n",
    "    # Extract the solution from the solver and populate the schedule\n",
    "    for dia in range(dias):\n",
    "        for hora in range(horas_manha + horas_tarde):\n",
    "            for s in range(S):\n",
    "                for d in range(D):\n",
    "                    for p in range(P):\n",
    "                        value = h[dia][hora][s][d][p].solution_value()\n",
    "                        if value == 1:\n",
    "                            schedule[dia][hora][s][d][p] = value\n",
    "\n",
    "    # Print the schedule in a human-readable format\n",
    "    for dia in range(dias):\n",
    "        print(f\"Day {dia + 1}:\")\n",
    "        for hora in range(horas_manha + horas_tarde):\n",
    "            print(f\"Hour {hora + 1}:\", end=\" \")\n",
    "            for s in range(S):\n",
    "                for d in range(D):\n",
    "                    for p in range(P):\n",
    "                        if h[dia][hora][s][d][p].solution_value() == 1:\n",
    "                            print(f\"Room {s + 1}, Discipline {d + 1}, Professor {p + 1}\")\n",
    "            print(\"\\n\")\n",
    "        print()  # Separate days with an empty line      "
   ]
  },
  {
   "cell_type": "code",
   "execution_count": 230,
   "id": "33eb44d1",
   "metadata": {
    "scrolled": true
   },
   "outputs": [
    {
     "name": "stdout",
     "output_type": "stream",
     "text": [
      "Solução encontrada\n",
      "Day 1:\n",
      "Hour 1: \n",
      "\n",
      "Hour 2: \n",
      "\n",
      "Hour 3: \n",
      "\n",
      "Hour 4: Room 1, Discipline 4, Professor 2\n",
      "\n",
      "\n",
      "Hour 5: Room 1, Discipline 4, Professor 2\n",
      "\n",
      "\n",
      "Hour 6: \n",
      "\n",
      "Hour 7: Room 1, Discipline 1, Professor 3\n",
      "\n",
      "\n",
      "Hour 8: Room 1, Discipline 1, Professor 3\n",
      "\n",
      "\n",
      "Hour 9: \n",
      "\n",
      "Hour 10: \n",
      "\n",
      "\n",
      "Day 2:\n",
      "Hour 1: \n",
      "\n",
      "Hour 2: \n",
      "\n",
      "Hour 3: \n",
      "\n",
      "Hour 4: \n",
      "\n",
      "Hour 5: \n",
      "\n",
      "Hour 6: \n",
      "\n",
      "Hour 7: \n",
      "\n",
      "Hour 8: \n",
      "\n",
      "Hour 9: \n",
      "\n",
      "Hour 10: \n",
      "\n",
      "\n",
      "Day 3:\n",
      "Hour 1: \n",
      "\n",
      "Hour 2: \n",
      "\n",
      "Hour 3: \n",
      "\n",
      "Hour 4: \n",
      "\n",
      "Hour 5: \n",
      "\n",
      "Hour 6: \n",
      "\n",
      "Hour 7: \n",
      "\n",
      "Hour 8: \n",
      "\n",
      "Hour 9: \n",
      "\n",
      "Hour 10: \n",
      "\n",
      "\n",
      "Day 4:\n",
      "Hour 1: \n",
      "\n",
      "Hour 2: \n",
      "\n",
      "Hour 3: \n",
      "\n",
      "Hour 4: \n",
      "\n",
      "Hour 5: \n",
      "\n",
      "Hour 6: \n",
      "\n",
      "Hour 7: \n",
      "\n",
      "Hour 8: \n",
      "\n",
      "Hour 9: \n",
      "\n",
      "Hour 10: \n",
      "\n",
      "\n",
      "Day 5:\n",
      "Hour 1: Room 1, Discipline 4, Professor 2\n",
      "\n",
      "\n",
      "Hour 2: Room 1, Discipline 4, Professor 2\n",
      "\n",
      "\n",
      "Hour 3: \n",
      "\n",
      "Hour 4: \n",
      "\n",
      "Hour 5: \n",
      "\n",
      "Hour 6: \n",
      "\n",
      "Hour 7: Room 2, Discipline 3, Professor 4\n",
      "Room 3, Discipline 2, Professor 1\n",
      "\n",
      "\n",
      "Hour 8: Room 2, Discipline 3, Professor 4\n",
      "Room 3, Discipline 2, Professor 1\n",
      "\n",
      "\n",
      "Hour 9: Room 1, Discipline 1, Professor 3\n",
      "Room 2, Discipline 3, Professor 4\n",
      "Room 3, Discipline 2, Professor 1\n",
      "\n",
      "\n",
      "Hour 10: Room 1, Discipline 1, Professor 3\n",
      "Room 2, Discipline 3, Professor 4\n",
      "Room 3, Discipline 2, Professor 1\n",
      "\n",
      "\n",
      "\n"
     ]
    }
   ],
   "source": [
    "r = solver.Solve()\n",
    "\n",
    "if r == pywraplp.Solver.OPTIMAL:\n",
    "    print(\"Solução encontrada\")\n",
    "    print_horario()\n",
    "elif r == pywraplp.Solver.INFEASIBLE:\n",
    "    print(\"Infeasible\")\n",
    "else:\n",
    "    print(\"Não foi encontrada solução\")"
   ]
  }
 ],
 "metadata": {
  "kernelspec": {
   "display_name": "Python 3 (ipykernel)",
   "language": "python",
   "name": "python3"
  },
  "language_info": {
   "codemirror_mode": {
    "name": "ipython",
    "version": 3
   },
   "file_extension": ".py",
   "mimetype": "text/x-python",
   "name": "python",
   "nbconvert_exporter": "python",
   "pygments_lexer": "ipython3",
   "version": "3.11.5"
  }
 },
 "nbformat": 4,
 "nbformat_minor": 5
}
