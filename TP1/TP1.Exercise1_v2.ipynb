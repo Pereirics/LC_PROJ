{
 "cells": [
  {
   "cell_type": "code",
   "execution_count": 40,
   "id": "d87e5309",
   "metadata": {},
   "outputs": [],
   "source": [
    "from ortools.linear_solver import pywraplp\n",
    "\n",
    "solver = pywraplp.Solver.CreateSolver('SCIP')\n",
    "\n",
    "dias = 1\n",
    "horas = 1\n",
    "\n",
    "# Aula - S D P T\n",
    "# Sala - 0 -> pequena, 1 -> grande\n",
    "# Tempo - 1 hora ou 2 horas\n",
    "# Disciplina - (ID, duração[1,2], numero de aulas[2,3], tipo de sala[0,1])\n",
    "# Professor - IDs de disciplinas que pode dar\n",
    "\n",
    "# Nº de salas\n",
    "S = 1\n",
    "\n",
    "# Nº de períodos de 1 hora\n",
    "T1 = 1\n",
    "\n",
    "# Nº de períodos de 2 horas\n",
    "T2 = 1\n",
    "\n",
    "# Nº de disciplinas\n",
    "D = 3\n",
    "\n",
    "# Nº de professores\n",
    "P = 2 \n",
    "\n",
    "# Atribuição de uma sala s a uma disciplina, a um professor que decorre num periodo de tempo t1/t2\n",
    "x = {}\n",
    "for s in range(S):\n",
    "    x[s] = {}\n",
    "    for dia in range(dias):\n",
    "        x[s][dia] = {}\n",
    "        for hora in range(horas):\n",
    "            x[s][dia][hora] = {}\n",
    "            for d in range(D):\n",
    "                x[s][dia][hora][d] = {}\n",
    "                for p in range(P):\n",
    "                    x[s][dia][hora][d][p] = {}\n",
    "                    for t1 in range(T1):\n",
    "                        x[s][dia][hora][d][p][t1] = {}\n",
    "                        for t2 in range(T2):\n",
    "                            x[s][dia][hora][d][p][t1][t2] = solver.BoolVar('x[%i][%i][%i][%i][%i][%i][%i]' % (s,dia,hora,d,p,t1,t2))\n",
    "\n",
    "# Para cada disciplina todas as aulas decorrem na mesma sala e com o mesmo prof\n",
    "for d in range(D):\n",
    "    solver.Add(sum([x[s][dia][hora][d][p][t1][t2] for s in range(S) for p in range(P)]) <= 1)               \n",
    "    \n",
    "# Nenhum professor tem duas aulas sem um intervalo de pelo menos uma hora\n",
    "for p in range(P):\n",
    "    for dia in range(dias):\n",
    "        for hora in range(horas):\n",
    "            for t1 in range(T1):\n",
    "                for t2 in range(T2):\n",
    "                    fim_aula = hora + t1 + t2*2\n",
    "                    solver.Add(sum(x[s][dia][fim_aula][d][p][t1_1][t2_2] for d in range(D) for t1_1 in range(T1) for t2_2 in range(T2)) <= 0)"
   ]
  },
  {
   "cell_type": "code",
   "execution_count": 1,
   "id": "f8f7ccbf",
   "metadata": {},
   "outputs": [
    {
     "ename": "NameError",
     "evalue": "name 'solver' is not defined",
     "output_type": "error",
     "traceback": [
      "\u001b[0;31m---------------------------------------------------------------------------\u001b[0m",
      "\u001b[0;31mNameError\u001b[0m                                 Traceback (most recent call last)",
      "Cell \u001b[0;32mIn[1], line 1\u001b[0m\n\u001b[0;32m----> 1\u001b[0m r \u001b[38;5;241m=\u001b[39m solver\u001b[38;5;241m.\u001b[39mSolve()\n\u001b[1;32m      2\u001b[0m \u001b[38;5;28;01mif\u001b[39;00m r \u001b[38;5;241m==\u001b[39m pywraplp\u001b[38;5;241m.\u001b[39mSolver\u001b[38;5;241m.\u001b[39mOPTIMAL:\n\u001b[1;32m      3\u001b[0m     \u001b[38;5;28mprint\u001b[39m(\u001b[38;5;124m\"\u001b[39m\u001b[38;5;124mSolução encontrada\u001b[39m\u001b[38;5;124m\"\u001b[39m, x\u001b[38;5;241m.\u001b[39msolution_value())\n",
      "\u001b[0;31mNameError\u001b[0m: name 'solver' is not defined"
     ]
    }
   ],
   "source": [
    "r = solver.Solve()\n",
    "if r == pywraplp.Solver.OPTIMAL:\n",
    "    print(\"Solução encontrada\", h.solution_value())\n",
    "else:\n",
    "    print(\"Não foi encontrada solução\")\n"
   ]
  }
 ],
 "metadata": {
  "kernelspec": {
   "display_name": "Python 3 (ipykernel)",
   "language": "python",
   "name": "python3"
  },
  "language_info": {
   "codemirror_mode": {
    "name": "ipython",
    "version": 3
   },
   "file_extension": ".py",
   "mimetype": "text/x-python",
   "name": "python",
   "nbconvert_exporter": "python",
   "pygments_lexer": "ipython3",
   "version": "3.11.5"
  }
 },
 "nbformat": 4,
 "nbformat_minor": 5
}
