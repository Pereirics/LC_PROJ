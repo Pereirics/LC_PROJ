{
 "cells": [
  {
   "cell_type": "markdown",
   "id": "f88b024d",
   "metadata": {},
   "source": [
    "---\n",
    "Lógica Computacional TP1.Exercício1\n",
    "======================\n",
    "##### G01 - Bruno Dias da Gião A96544, João Luis da Cruz Pereira A95375\n",
    "\n",
    "---"
   ]
  },
  {
   "cell_type": "markdown",
   "id": "a9df6714",
   "metadata": {},
   "source": [
    "## Exercício 1 - Enunciado"
   ]
  },
  {
   "cell_type": "markdown",
   "id": "bd3c9f5d",
   "metadata": {},
   "source": [
    "1. Pretende-se construir o horário semanal de aulas de uma turma.\n",
    "    1. Existe um conjunto de salas $S$ classificadas em “grandes” e “pequenas”.\n",
    "    2. Existe um conjunto  $T_1$  de períodos de tempo de 1 hora e um conjunto $T_2$ de períodos de tempo de duas horas. O total do tempo disponível é 5 horas de manhã e 5 horas às tarde.\n",
    "    3. Existe um conjunto $D\\,$ de disciplinas.  Cada disciplina tem um atributo $d\\in\\{1,2\\}$ que classifica a duração de cada aula, um atributo $a\\in\\{2,3\\}$ que define o número de aulas semanais e um atributo $\\,s\\in\\{0,1\\}\\,$ que diz se a aula necessita de uma sala grande ou não.\n",
    "    4. Existe um conjunto $P$ de professores. Cada professor tem associado um conjunto  $h$ das disciplinas que está habilitado a lecionar.\n",
    "    O horário deve verificar as seguintes restrições\n",
    "        1. Para cada disciplina todas as aulas decorrem na mesma sala e com o mesmo professor.\n",
    "        2. Nenhum professor tem duas aulas sem um intervalo de pelo menos uma hora.\n",
    "        3. O número total de horas lecionadas por cada professor está num intervalo de $\\pm 20\\%\\,$do número médio de horas lecionadas pela totalidade dos professores.\n",
    "        4. Nenhuma sala pode ser ocupada simultaneamente por mais do que uma aula e nenhum professor pode lecionar simultaneamente mais do que uma aula.\n",
    "        5. Em cada disciplina, cada aula é lecionada por um professor habilitado para essa disciplina e ocorre numa sala de tamanho apropriado à disciplina.\n",
    "\n",
    "\n",
    "    Use o package `ortools` para encontrar uma solução que verifique todas as restrições e maximize o número de partes de dia (manhãs ou tardes) que estão livres de qualquer aula.\n",
    "    \n",
    "---"
   ]
  },
  {
   "cell_type": "markdown",
   "id": "14247e65",
   "metadata": {},
   "source": [
    "## Exercício 1 - Solução"
   ]
  },
  {
   "cell_type": "code",
   "execution_count": null,
   "id": "eb635ded",
   "metadata": {},
   "outputs": [],
   "source": []
  },
  {
   "cell_type": "markdown",
   "id": "3dc3f6b4",
   "metadata": {},
   "source": [
    "### Exercício 1 - Código"
   ]
  },
  {
   "cell_type": "code",
   "execution_count": null,
   "id": "40299b58",
   "metadata": {},
   "outputs": [],
   "source": []
  },
  {
   "cell_type": "markdown",
   "id": "2f518d9e",
   "metadata": {},
   "source": [
    "### Exercício 1 - Testes"
   ]
  },
  {
   "cell_type": "code",
   "execution_count": null,
   "id": "da676a64",
   "metadata": {},
   "outputs": [],
   "source": []
  }
 ],
 "metadata": {
  "kernelspec": {
   "display_name": "Python 3 (ipykernel)",
   "language": "python",
   "name": "python3"
  },
  "language_info": {
   "codemirror_mode": {
    "name": "ipython",
    "version": 3
   },
   "file_extension": ".py",
   "mimetype": "text/x-python",
   "name": "python",
   "nbconvert_exporter": "python",
   "pygments_lexer": "ipython3",
   "version": "3.11.5"
  }
 },
 "nbformat": 4,
 "nbformat_minor": 5
}
