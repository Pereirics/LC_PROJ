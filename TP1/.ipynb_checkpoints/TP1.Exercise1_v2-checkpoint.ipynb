{
 "cells": [
  {
   "cell_type": "code",
   "execution_count": 40,
   "id": "d87e5309",
   "metadata": {},
   "outputs": [],
   "source": [
    "from ortools.linear_solver import pywraplp\n",
    "\n",
    "solver = pywraplp.Solver.CreateSolver('SCIP')\n",
    "\n",
    "dias = 1\n",
    "horas = 1\n",
    "\n",
    "# Aula - S D P T\n",
    "# Sala - 0 -> pequena, 1 -> grande\n",
    "# Tempo - 1 hora ou 2 horas\n",
    "# Disciplina - (ID, duração[1,2], numero de aulas[2,3], tipo de sala[0,1])\n",
    "# Professor - IDs de disciplinas que pode dar\n",
    "\n",
    "# Nº de salas\n",
    "S = 1\n",
    "\n",
    "# Nº de períodos de 1 hora\n",
    "T1 = 1\n",
    "\n",
    "# Nº de períodos de 2 horas\n",
    "T2 = 1\n",
    "\n",
    "# Nº de disciplinas\n",
    "D = 3\n",
    "\n",
    "# Nº de professores\n",
    "P = 2 \n",
    "\n",
    "# Atribuição de uma sala s a uma disciplina, a um professor que decorre num periodo de tempo t1/t2\n",
    "x = {}\n",
    "for s in range(S):\n",
    "    x[s] = {}\n",
    "    for dia in range(dias):\n",
    "        x[s][dia] = {}\n",
    "        for hora in range(horas):\n",
    "            x[s][dia][hora] = {}\n",
    "            for d in range(D):\n",
    "                x[s][dia][hora][d] = {}\n",
    "                for p in range(P):\n",
    "                    x[s][dia][hora][d][p] = {}\n",
    "                    for t1 in range(T1):\n",
    "                        x[s][dia][hora][d][p][t1] = {}\n",
    "                        for t2 in range(T2):\n",
    "                            x[s][dia][hora][d][p][t1][t2] = solver.BoolVar('x[%i][%i][%i][%i][%i][%i][%i]' % (s,dia,hora,d,p,t1,t2))\n",
    "\n",
    "# Para cada disciplina todas as aulas decorrem na mesma sala e com o mesmo prof\n",
    "for d in range(D):\n",
    "    solver.Add(sum([x[s][dia][hora][d][p][t1][t2] for s in range(S) for p in range(P)]) <= 1)               \n",
    "    \n",
    "# Nenhum professor tem duas aulas sem um intervalo de pelo menos uma hora\n",
    "for p in range(P):\n",
    "    for dia in range(dias):\n",
    "        for hora in range(horas):\n",
    "            for t1 in range(T1):\n",
    "                for t2 in range(T2):\n",
    "                    fim_aula = hora + t1 + t2*2\n",
    "                    solver.Add(sum(x[s][dia][fim_aula][d][p][t1_1][t2_2] for d in range(D) for t1_1 in range(T1) for t2_2 in range(T2)) <= 0)"
   ]
  },
  {
   "cell_type": "code",
   "execution_count": 41,
   "id": "f8f7ccbf",
   "metadata": {},
   "outputs": [
    {
     "name": "stdout",
     "output_type": "stream",
     "text": [
      "Solução encontrada\n"
     ]
    }
   ],
   "source": [
    "r = solver.Solve()\n",
    "if r == pywraplp.Solver.OPTIMAL:\n",
    "    print(\"Solução encontrada\")\n",
    "else:\n",
    "    print(\"Não foi encontrada solução\")\n"
   ]
  }
 ],
 "metadata": {
  "kernelspec": {
   "display_name": "Python 3 (ipykernel)",
   "language": "python",
   "name": "python3"
  },
  "language_info": {
   "codemirror_mode": {
    "name": "ipython",
    "version": 3
   },
   "file_extension": ".py",
   "mimetype": "text/x-python",
   "name": "python",
   "nbconvert_exporter": "python",
   "pygments_lexer": "ipython3",
   "version": "3.11.5"
  }
 },
 "nbformat": 4,
 "nbformat_minor": 5
}
