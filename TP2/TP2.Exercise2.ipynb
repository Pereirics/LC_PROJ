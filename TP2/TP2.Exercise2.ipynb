{
 "cells": [
  {
   "cell_type": "markdown",
   "id": "ea73e715",
   "metadata": {},
   "source": [
    "# Exercício 2 - Enunciado"
   ]
  },
  {
   "cell_type": "markdown",
   "id": "65713ef0",
   "metadata": {},
   "source": [
    "\n",
    "2. O Conway’s Game of Life é um exemplo conhecido de um autómato celular . Aqui vamos modificar as regras do autómato de forma a usar um espaço de estados finito\n",
    "    1. O espaço de estados é definido por uma grelha de células booleanas (morta=0/viva=1) de dimensão $\\,N\\times N\\,$ (com $N>3$) identificadas por índices $\\,(i,j)\\in \\{1..N\\}$.  Estas $\\;N^2\\;$ células são aqui referidas como “normais”. \n",
    "    2. Inicialmente todas as células normais estão mortas excepto  as células $\\,i,j \\leq 3\\,$que estão vivas. Um estado onde todas as células normais estão mortas é um “estado de erro”.\n",
    "    3. Adicionalmente existem $\\,2\\,N+1\\,$ “células da borda” que correspondem a um dos índices, $i$ ou $j$, ser zero. As células da borda têm valores constantes que, no estado inicial, são gerados aleatoriamente com uma probabilidade $\\,1/2\\,$ de estarem vivas.\n",
    "    4. As células normais o autómato modificam o estado de acordo com a regra “B3/S23”: i.e. a célula nasce (passa de $0$ a $1$) se tem exatamente 3 vizinhos vivos e sobrevive (mantém-se viva) se o número de vizinhos vivos é 2 ou 3, caso contrário morre ou continua morta.\n",
    "\n",
    "*A célula $\\;(i_0,j_0)\\;$e $\\,(i_1,j_1)\\,$ são vizinhas sse $\\;(i_0-i_1=\\pm 1) \\,\\lor\\, (j_0-j_1 = \\pm 1)$*\n",
    "\n",
    "Pretende-se:\n",
    "\n",
    "    1. Construir uma máquina de estados finita que represente este autómato.\n",
    "    2. Provar as seguintes propriedades:\n",
    "        1. Nunca se alcança o estado de erro\n",
    "        2. Nenhuma célula normal está permanentemente morta ou permanentemente viva."
   ]
  },
  {
   "cell_type": "markdown",
   "id": "8304be99-c6de-4c84-95f4-1897c0abc8aa",
   "metadata": {},
   "source": [
    "# Exercício 2 - Solução"
   ]
  },
  {
   "cell_type": "markdown",
   "id": "9b431a2b-e611-4223-97b8-be2cc5124f2c",
   "metadata": {},
   "source": [
    "Pretendemos construir a FSM que representa o autómato celular do GoL (Game of Life) e provar as duas propriedades do enunciado.\n",
    "\n",
    "No entanto, de forma a verificar o funcionamento esperado deste autómato, começemos pela criação da FSM e com a criação de código que procure animar o autómato."
   ]
  },
  {
   "cell_type": "markdown",
   "id": "fc36ed51-a6a4-4174-afd8-da9113506513",
   "metadata": {},
   "source": [
    "## Criação da FSM e Animação do GoL"
   ]
  },
  {
   "cell_type": "code",
   "execution_count": 1,
   "id": "d87e7cc7-f346-4ced-a3f1-93d53a6eb099",
   "metadata": {},
   "outputs": [],
   "source": [
    "from pysmt.shortcuts import Solver, Symbol,  And, Or, Implies, Not\n",
    "from pysmt.shortcuts import Equals, Int, GT, LE, LT, Plus, Minus\n",
    "from pysmt.typing import INT\n",
    "from random import choice"
   ]
  },
  {
   "cell_type": "markdown",
   "id": "73e81c6d-bc0c-4bf8-a00c-f56e610f8510",
   "metadata": {},
   "source": [
    "Começemos por definir uma classe que defina os estados deste autómato:"
   ]
  },
  {
   "cell_type": "code",
   "execution_count": 4,
   "id": "24d56fbb-4e7c-4431-bd26-bfd0af89f05b",
   "metadata": {},
   "outputs": [],
   "source": [
    "class ST:\n",
    "    def __init__(self, s=''):\n",
    "        self.i  = Symbol(s+'.i', INT)\n",
    "        self.j  = Symbol(s+'.j', INT)\n",
    "        self.dead = Symbol(s+'.dead',BOOL)\n",
    "    def __str__(self):\n",
    "        return f\"(({self.i},{self.j}), {str(self.dead)})\""
   ]
  },
  {
   "cell_type": "markdown",
   "id": "97381ea0-46c6-4e87-9b95-17e44c88817c",
   "metadata": {},
   "source": [
    "## Verificação das Propriedades"
   ]
  },
  {
   "cell_type": "code",
   "execution_count": null,
   "id": "0b8ecad6-3cc5-48e8-8e61-8e7c2cd5839e",
   "metadata": {},
   "outputs": [],
   "source": []
  }
 ],
 "metadata": {
  "authors": [
   {
    "name": "Bruno Dias da Gião A96544"
   },
   {
    "name": "João Luis da Cruz Pereira A95375"
   },
   {
    "name": "David Alberto Agra A95726"
   }
  ],
  "kernelspec": {
   "display_name": "venv",
   "language": "python",
   "name": "venv"
  },
  "language_info": {
   "codemirror_mode": {
    "name": "ipython",
    "version": 3
   },
   "file_extension": ".py",
   "mimetype": "text/x-python",
   "name": "python",
   "nbconvert_exporter": "python",
   "pygments_lexer": "ipython3",
   "version": "3.11.5"
  },
  "title": "Lógica Computacional - TP1 Exercício 2 - G01"
 },
 "nbformat": 4,
 "nbformat_minor": 5
}
