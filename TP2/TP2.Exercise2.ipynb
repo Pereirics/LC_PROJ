{
 "cells": [
  {
   "cell_type": "markdown",
   "id": "ea73e715",
   "metadata": {},
   "source": [
    "# Exercício 2 - Enunciado\n"
   ]
  },
  {
   "cell_type": "markdown",
   "id": "65713ef0",
   "metadata": {},
   "source": [
    "2. O Conway’s Game of Life é um exemplo conhecido de um autómato celular . Aqui vamos modificar as regras do autómato de forma a usar um espaço de estados finito\n",
    "    1. O espaço de estados é definido por uma grelha de células booleanas (morta=0/viva=1) de dimensão $\\,N\\times N\\,$ (com $N>3$) identificadas por índices $\\,(i,j)\\in \\{1..N\\}$.  Estas $\\;N\\uparrow2\\;$ células são aqui referidas como “normais”. \n",
    "    2. Inicialmente todas as células normais estão mortas excepto  as células $\\,i,j \\leq 3\\,$que estão vivas. Um estado onde todas as células normais estão mortas é um “estado de erro”.\n",
    "    3. Adicionalmente existem $\\,2\\,N+1\\,$ “células da borda” que correspondem a um dos índices, $i$ ou $j$, ser zero. As células da borda têm valores constantes que, no estado inicial, são gerados aleatoriamente com uma probabilidade $\\,1/2\\,$ de estarem vivas.\n",
    "    4. As células normais o autómato modificam o estado de acordo com a regra “B3/S23”: i.e. a célula nasce (passa de $0$ a $1$) se tem exatamente 3 vizinhos vivos e sobrevive (mantém-se viva) se o número de vizinhos vivos é 2 ou 3, caso contrário morre ou continua morta.\n",
    "\n",
    "*A célula $\\;(i_0,j_0)\\;$e $\\,(i_1,j_1)\\,$ são vizinhas sse $\\;(i_0-i_1=\\pm 1) \\,\\lor\\, (j_0-j_1 = \\pm 1)$*\n",
    "\n",
    "Pretende-se:\n",
    "\n",
    "    1. Construir uma máquina de estados finita que represente este autómato.\n",
    "    2. Provar as seguintes propriedades:\n",
    "        1. Nunca se alcança o estado de erro\n",
    "        2. Nenhuma célula normal está permanentemente morta ou permanentemente viva.\n"
   ]
  },
  {
   "cell_type": "markdown",
   "id": "045adc47-3d9f-4373-b69f-91260878186e",
   "metadata": {},
   "source": [
    "# Exercício 2 - Solução"
   ]
  },
  {
   "cell_type": "markdown",
   "id": "9b431a2b-e611-4223-97b8-be2cc5124f2c",
   "metadata": {},
   "source": [
    "Pretendemos construir a FSM que representa o autómato celular do GoL (Game of Life) e provar as duas propriedades do enunciado.\n",
    "\n",
    "No entanto, de forma a verificar o funcionamento esperado deste autómato, começemos pela criação da FSM e com a criação de código que procure animar o autómato."
   ]
  },
  {
   "cell_type": "markdown",
   "id": "fc36ed51-a6a4-4174-afd8-da9113506513",
   "metadata": {},
   "source": [
    "## Criação da FSM e Animação do GoL"
   ]
  },
  {
   "cell_type": "code",
   "execution_count": 1,
   "id": "d87e7cc7-f346-4ced-a3f1-93d53a6eb099",
   "metadata": {},
   "outputs": [],
   "source": [
    "from pysmt.shortcuts import Solver, Symbol,  And, Or, Implies, Not\n",
    "from pysmt.shortcuts import Equals, Int, GT, LE, LT, Plus, Minus\n",
    "from pysmt.shortcuts import is_sat, get_model, AllDifferent\n",
    "from pysmt.typing import INT\n",
    "from random import choices\n",
    "from pprint import pprint\n",
    "import matplotlib.pyplot as plt\n",
    "from matplotlib import colors\n",
    "import numpy as np"
   ]
  },
  {
   "cell_type": "markdown",
   "id": "73e81c6d-bc0c-4bf8-a00c-f56e610f8510",
   "metadata": {},
   "source": [
    "Começemos por definir uma classe que defina os estados deste autómato.\n",
    "\n",
    "Nesta conceção de estado, teremos informação sobre quais células estão vivas nomeadamente de células normais e de borda."
   ]
  },
  {
   "cell_type": "code",
   "execution_count": 21,
   "id": "24d56fbb-4e7c-4431-bd26-bfd0af89f05b",
   "metadata": {},
   "outputs": [],
   "source": [
    "class ST:\n",
    "    def __init__(self, s=''):\n",
    "        self.living = []\n",
    "        self.border = []\n",
    "    def __str__(self):\n",
    "        return f\"({str(self.living), str(self.border)})\""
   ]
  },
  {
   "cell_type": "markdown",
   "id": "856dbf96-4650-4aa4-926e-3952df5060db",
   "metadata": {},
   "source": [
    "Consideremos $N = \\{0,\\dots,9\\}$, teremos o conjunto $N \\uparrow 2$ de cardinalidade $100$ com um total de $121$ células incluindo as *Border Cells*.\n",
    "\n",
    "Ora, com isto, criemos o tabuleiro de jogo:"
   ]
  },
  {
   "cell_type": "code",
   "execution_count": 3,
   "id": "2ff1c29b-43ea-4dd3-9f03-e8a6940d3137",
   "metadata": {
    "scrolled": true
   },
   "outputs": [],
   "source": [
    "N = 10\n",
    "table = [[Symbol('c'+str(i)+','+str(j)) for j in range(N+1)] for i in range(N+1)]"
   ]
  },
  {
   "cell_type": "markdown",
   "id": "95a259a8-81b8-4d74-9385-c3ff70326333",
   "metadata": {},
   "source": [
    "Note-se também que o \"Jogo da Vida\" de Conway é **indecidível**, sendo assim, a cardinalidade do traço tenderá para o infinito.\n",
    "\n",
    "Sendo assim, limitemos superiormente a execução por um número arbitrário:"
   ]
  },
  {
   "cell_type": "code",
   "execution_count": 4,
   "id": "cc814fc3-d561-42bd-8593-aaa1c57023a5",
   "metadata": {},
   "outputs": [],
   "source": [
    "M = 100\n",
    "\n",
    "trace= [ST('ST'+str(i)) for i in range(M+1)]"
   ]
  },
  {
   "cell_type": "markdown",
   "id": "334ace04-0666-431a-b7bc-33d25e1ae93c",
   "metadata": {},
   "source": [
    "Teremos então de inicializar a tabela com os requisitos, começemos por diferenciar células normais de células de fronteira:"
   ]
  },
  {
   "cell_type": "markdown",
   "id": "ffab5ab1-f922-470c-8761-693eb10dab86",
   "metadata": {
    "scrolled": true
   },
   "source": [
    "```python\n",
    "    live_init_ncell = {table[1][1],table[1][2],table[1][3],\n",
    "                  table[2][1],table[2][2],table[2][3],\n",
    "                  table[3][1],table[3][2],table[3][3]}\n",
    "    for i in range(N+1):\n",
    "        for j in range(N+1):\n",
    "            if i == 0 or j == 0:\n",
    "                bcell.add(table[i][j])\n",
    "    dead_init_ncell = {table[i][j] for i in range(N+1)\n",
    "                                   for j in range(N+1)\n",
    "                            if table[i][j] not in live_init_ncell \n",
    "                                           and table[i][j]\n",
    "                                           not in bcell}\n",
    "```"
   ]
  },
  {
   "cell_type": "markdown",
   "id": "ceb542da",
   "metadata": {},
   "source": [
    "Com isto podemos definir a configuração inicial das células normais através de uma simples restrição lógica:"
   ]
  },
  {
   "cell_type": "markdown",
   "id": "23fbd74b-b9bc-4951-b9a9-ec89d10b9e07",
   "metadata": {},
   "source": [
    "```py\n",
    "    const_dead = Not(And(dead_init_ncell))\n",
    "    const_live = And(live_init_ncell)\n",
    "    normal = And(const_dead, const_live)\n",
    "```"
   ]
  },
  {
   "cell_type": "markdown",
   "id": "5a554416-68bf-4c89-86e6-3a0112b97a98",
   "metadata": {},
   "source": [
    "Com isto, podemos proceder a inicializar as células que se encontram na fronteira.\n",
    "\n",
    "Ora, estas são inicializadas de forma aleatória com uma probabilidade de nascer de $\\frac{1}{2}$.\n",
    "\n",
    "De notar que uma biblioteca Standard (`random`) contem a subrotina (`choices`) que permite gerar resultados aleatórios com pesos."
   ]
  },
  {
   "cell_type": "markdown",
   "id": "b1f6c64c-8f0d-4770-8329-19c4ce04d807",
   "metadata": {},
   "source": [
    "```python\n",
    "    distribution = [choices([False,True], [1/2,1/2]) for i in range(2*N+2)]\n",
    "    bcell_list = list(bcell)\n",
    "    if distribution[0][0]:\n",
    "        bord = And(bcell_list[0])\n",
    "    else:\n",
    "        bord = And(Not(bcell_list[0]))\n",
    "    for i in range(1, len(bcell_list)):\n",
    "        if distribution[i][0]:\n",
    "            bord = And(bord, bcell_list[i])\n",
    "        else:\n",
    "            bord = And(bord, Not(bcell_list[i]))\n",
    "```"
   ]
  },
  {
   "cell_type": "markdown",
   "id": "412bb3c9-a7e1-40eb-9449-cc78b5b4c46a",
   "metadata": {},
   "source": [
    "Com isto podemos definir a função init que coincider<á com a \"entrada\" no estado I da nossa máquina de estados finita:"
   ]
  },
  {
   "cell_type": "code",
   "execution_count": 18,
   "id": "88046d85-39ac-40b5-a635-3b556e85a74a",
   "metadata": {},
   "outputs": [],
   "source": [
    "def init(N, table, trace):\n",
    "    live_init_ncell = set()\n",
    "    bcell = set()\n",
    "    dead_init_ncell = set()\n",
    "\n",
    "    live_init_ncell = {table[1][1],table[1][2],table[1][3],\n",
    "                  table[2][1],table[2][2],table[2][3],\n",
    "                  table[3][1],table[3][2],table[3][3]}\n",
    "    for i in range(N+1):\n",
    "        for j in range(N+1):\n",
    "            if i == 0 or j == 0:\n",
    "                bcell.add(table[i][j])\n",
    "    dead_init_ncell = {table[i][j] for i in range(N+1)\n",
    "                                   for j in range(N+1)\n",
    "                            if table[i][j] not in live_init_ncell \n",
    "                                           and table[i][j]\n",
    "                                           not in bcell}\n",
    "    const_dead = Not(And(dead_init_ncell))\n",
    "    const_live = And(live_init_ncell)\n",
    "    normal = And(const_dead, const_live)\n",
    "    #print(normal)\n",
    "    \n",
    "    distribution = [choices([False,True], [1/2,1/2]) for i in range(2*N+2)]\n",
    "    bcell_list = list(bcell)\n",
    "    if distribution[0][0]:\n",
    "        bord = And(bcell_list[0])\n",
    "    else:\n",
    "        bord = And(Not(bcell_list[0]))\n",
    "    for i in range(1, len(bcell_list)):\n",
    "        if distribution[i][0]:\n",
    "            bord = And(bord, bcell_list[i])\n",
    "        else:\n",
    "            bord = And(bord, Not(bcell_list[i]))\n",
    "    global_const = And(normal, bord)\n",
    "    return global_const"
   ]
  },
  {
   "cell_type": "markdown",
   "id": "5d9654dd-f16e-45dd-93ee-9cd8a2b4845f",
   "metadata": {},
   "source": [
    "Agora, de forma a podermos implementar uma função de transição,\n",
    "procederemos com a implementação de alguma subrotina que\n",
    "conte o número de células vizinhas vivas e um procedimento que dite\n",
    "o que acontecerá a cada célula do tabuleiro:"
   ]
  },
  {
   "cell_type": "code",
   "execution_count": 19,
   "id": "ac3a1fb7-a322-4bc1-b788-9538414125a7",
   "metadata": {},
   "outputs": [],
   "source": [
    "def living_neigh(s, study, N, table):\n",
    "    x, y = study\n",
    "    # study_x != 0 study_y != 0\n",
    "    # i_0 - i_1 = +- 1 OR j_0 - j_1 = +- 1\n",
    "    living = []\n",
    " \n",
    "    # normal line normal column\n",
    "    if (x > 0 and x < N) and (y > 0 and y < N):\n",
    "        for i in range(x-1,x+2):\n",
    "            for j in range(y-1,y+2):\n",
    "                if (abs(x-i) == 1 or abs(y-j) == 1):\n",
    "                    if (table[i][j] in s.living or table[i][j] in s.border):\n",
    "                        living.append((i,j))\n",
    "    # final column normal line\n",
    "    elif (x == N and y < N):\n",
    "        for i in range(x-1,x):\n",
    "            for j in range(y-1,y+2):\n",
    "                if (abs(x-i) == 1 or abs(y-j) == 1):\n",
    "                    if (table[i][j] in s.living or table[i][j] in s.border):\n",
    "                        living.append((i,j))\n",
    "    # final column final line\n",
    "    elif (x == N and y == N):\n",
    "        for i in range(x-1,x):\n",
    "            for j in range(y-1,y+1):\n",
    "                if (abs(x-i) == 1 or abs(y-j) == 1):\n",
    "                    if (table[i][j] in s.living or table[i][j] in s.border):\n",
    "                        living.append((i,j))\n",
    "    return len(living);"
   ]
  },
  {
   "cell_type": "markdown",
   "id": "a36e58a8-203e-4a68-8039-f078a7b35b78",
   "metadata": {},
   "source": [
    "A implementação da regra B3\\/S23 é relativamente simples considerando a estrutura das instâncias de classe `ST`."
   ]
  },
  {
   "cell_type": "code",
   "execution_count": 20,
   "id": "471ca73d-b2eb-4705-87ca-e96c483e5804",
   "metadata": {},
   "outputs": [],
   "source": [
    "def update_table(s, s_, N, table):\n",
    "    prob = And(s.border)\n",
    "    for i in range(1, N+1):\n",
    "        for j in range(1, N+1):\n",
    "            study = (i,j)\n",
    "            n_nei = living_neigh(s, study, N, table)\n",
    "            if n_nei == 3 and table[i][j] not in s.living:\n",
    "                prob = And(prob, table[i][j])\n",
    "            elif (n_nei < 2 or n_nei > 3) and table[i][j] in s.living:\n",
    "                prob = And(prob, Not(table[i][j]))\n",
    "            elif table[i][j] not in s.living:\n",
    "                prob = And(prob, Not(table[i][j]))\n",
    "            else:\n",
    "                prob = And(prob, table[i][j])\n",
    "    return prob\n",
    "                "
   ]
  },
  {
   "attachments": {
    "834166f4-2323-4c06-a325-9fa988c52012.png": {
     "image/png": "[encoded data removed]"
    }
   },
   "cell_type": "markdown",
   "id": "5cb179c3-8292-4b91-a0b5-d46295ad681d",
   "metadata": {},
   "source": [
    "Notemos como as instâncias da classe `ST` não possuem program counter, isto porque\n",
    "a nossa máquina de estados consegue ser representada com um (ou dois) estados,\n",
    "nomeadamente o estado inicial `I` e um possível estado de erro `E`. O posterior estado será\n",
    "ignorado por questões de redundância. Então a nossa máquina pode ser representada pelo seguinte\n",
    "autómato:\n",
    "\n",
    "![image.png](attachment:834166f4-2323-4c06-a325-9fa988c52012.png)\n",
    "\n",
    "Ou seja, temos uma Máquina de Estados finita definida do seguinte modo:\n",
    "$$\\langle Q, \\delta, S \\rangle\\ ;\\ Q := \\{I\\}\\ ,\\ \\delta := \\{ (I,I)\\}\\ ,\\ S := \\{I\\} $$"
   ]
  },
  {
   "cell_type": "code",
   "execution_count": 8,
   "id": "0e8967b4-c76e-4e2d-a0a6-fc459b6e9c73",
   "metadata": {},
   "outputs": [],
   "source": [
    "def trans(s, s_, N, table):\n",
    "    return And(update_table(s, s_, N, table))\n"
   ]
  },
  {
   "cell_type": "markdown",
   "id": "ca220791-3649-48cc-90ba-8d0a08061977",
   "metadata": {},
   "source": [
    "Estamos finalmente em vias de resolver algum modo de animar o nosso problema, tentaremos,\n",
    "então animar a primeira configuração do Autómato Celular a ser estudado:"
   ]
  },
  {
   "cell_type": "markdown",
   "id": "afa0ec4b-f776-405a-a68d-f5c6437aa23a",
   "metadata": {},
   "source": [
    "Comecemos por definir uma subrotina que preencha o traço com estados válidos representantes de um tabuleiro do Jogo:"
   ]
  },
  {
   "cell_type": "code",
   "execution_count": 9,
   "id": "17d4fa51-0515-4aef-9299-d14e46dc6657",
   "metadata": {},
   "outputs": [],
   "source": [
    "def generate_trace(trace, M, init, N, table):\n",
    "    init = init(N,table,trace)\n",
    "    with Solver() as solver:\n",
    "        res = False;\n",
    "        prop = init\n",
    "        for t_ind in range(M):\n",
    "            state = trace[t_ind]\n",
    "            solver.push()\n",
    "            solver.add_assertion(prop);\n",
    "            if solver.solve():\n",
    "                trace[t_ind].living = [table[i][j]\n",
    "                                       for j in range(1,N+1)\n",
    "                                       for i in range(1, N+1)\n",
    "                                       if solver.get_value(table[i][j]).constant_value()]\n",
    "                trace[t_ind].border = [table[i][j]\n",
    "                                       for j in range(N+1)\n",
    "                                       for i in range(N+1)\n",
    "                                       if (i == 0 or j == 0)\n",
    "                                    and solver.get_value(table[i][j]).constant_value()]\n",
    "                prop = trans(trace[t_ind], trace[t_ind+1], N, table)\n",
    "            solver.pop()"
   ]
  },
  {
   "cell_type": "markdown",
   "id": "34c47188-3478-4323-9d68-35569566ddc0",
   "metadata": {},
   "source": [
    "Trivialmente, através de `matplotlib`, podemos criar uma imagem que permite, assim, animar o tabuleiro:"
   ]
  },
  {
   "cell_type": "code",
   "execution_count": 10,
   "id": "d25f1fd9-4f42-438c-8d7f-0c12a093e40a",
   "metadata": {},
   "outputs": [],
   "source": [
    "def animate_trace(trace, t_ind, N, table):\n",
    "    state = trace[t_ind]\n",
    "    living = list()\n",
    "    for i in range(N+1):\n",
    "        living.append([])\n",
    "        for j in range(N+1):\n",
    "            if (table[i][j] in state.living\n",
    "                or table[i][j] in state.border):\n",
    "                living[i].append(True)\n",
    "            else:\n",
    "                living[i].append(False)\n",
    "    plt.matshow(living , cmap='gray')\n"
   ]
  },
  {
   "cell_type": "markdown",
   "id": "28880526-ea4e-4cac-8111-106c6f4fbae9",
   "metadata": {},
   "source": [
    "E, finalmente temos a nossa configuração inicial e algumas iterações mais do Jogo da Vida."
   ]
  },
  {
   "cell_type": "code",
   "execution_count": 11,
   "id": "05c82448-f286-48ec-a12b-f97837245029",
   "metadata": {},
   "outputs": [
    {
     "data": {
      "image/png": "[encoded data removed]",
      "text/plain": [
       "<Figure size 480x480 with 1 Axes>"
      ]
     },
     "metadata": {},
     "output_type": "display_data"
    },
    {
     "data": {
      "image/png": "[encoded data removed]",
      "text/plain": [
       "<Figure size 480x480 with 1 Axes>"
      ]
     },
     "metadata": {},
     "output_type": "display_data"
    },
    {
     "data": {
      "image/png": "[encoded data removed]",
      "text/plain": [
       "<Figure size 480x480 with 1 Axes>"
      ]
     },
     "metadata": {},
     "output_type": "display_data"
    },
    {
     "data": {
      "image/png": "[encoded data removed]",
      "text/plain": [
       "<Figure size 480x480 with 1 Axes>"
      ]
     },
     "metadata": {},
     "output_type": "display_data"
    },
    {
     "data": {
      "image/png": "[encoded data removed]",
      "text/plain": [
       "<Figure size 480x480 with 1 Axes>"
      ]
     },
     "metadata": {},
     "output_type": "display_data"
    }
   ],
   "source": [
    "generate_trace(trace, M, init, N, table)\n",
    "for i in range(5):\n",
    "    animate_trace(trace, i, N, table)"
   ]
  },
  {
   "cell_type": "markdown",
   "id": "97381ea0-46c6-4e87-9b95-17e44c88817c",
   "metadata": {},
   "source": [
    "## Verificação das Propriedades"
   ]
  },
  {
   "cell_type": "markdown",
   "id": "bd3df1db-865d-40a6-b0d0-ae3dd1f5c76b",
   "metadata": {},
   "source": [
    "Passaremos agora para a segunda parte do exercício, a prova de duas propriedades."
   ]
  },
  {
   "cell_type": "markdown",
   "id": "74b00fbb-831f-49a1-9009-8882aa5944d9",
   "metadata": {},
   "source": [
    "Consideremos, então, as proposições que queremos provar:\n",
    "\n",
    "        1. Nunca se alcança o estado de erro\n",
    "        2. Nenhuma célula normal está permanentemente morta ou permanentemente viva.\n",
    "\n",
    "Notemos que é possivel encontrar proposições em lógicas SMT e FOL exatamente equivalentes às anteriores, nomeadamente:\n",
    "\n",
    "        1. A existência de uma célula viva em qualquer estado do traço é sat;\n",
    "        2. A eventual alteração de estado pelo menos uma vez de todas as células ao longo do traço é sat.\n",
    "\n",
    "Que por sua vez podemos negar de tal forma a poder utilizar em algoritmos BMC:\n",
    "\n",
    "        1. A variável `living` estar vazia em algum estado do traço é unsat;\n",
    "        2. Existir alguma célula invariável ao longo do traço é unsat."
   ]
  },
  {
   "cell_type": "markdown",
   "id": "6a312e4f-2ee7-4a5d-8f46-b974f99ca6cd",
   "metadata": {},
   "source": [
    "De salientar a linguagem usada nestas propriedades, \"eventual\" e \"qualquer\", sendo assim, temos que podemos utilizar\n",
    "uma função `bmc_always` para $1$, sendo esta uma invariante do problema e `bmc_eventually` para $2$.\n",
    "\n",
    "Definemos:"
   ]
  },
  {
   "cell_type": "code",
   "execution_count": 12,
   "id": "0b8ecad6-3cc5-48e8-8e61-8e7c2cd5839e",
   "metadata": {},
   "outputs": [],
   "source": [
    "def bmc_always(trans,inv,K,N,trace, init, table):\n",
    "    for k in range(1,K-1):\n",
    "        with Solver(name=\"z3\") as s:\n",
    "            s.add_assertion(init(N,table,trace))\n",
    "            for i in range(k-1):\n",
    "                s.add_assertion(trans(trace[i], trace[i+1],N, table))\n",
    "            s.add_assertion(inv(trace[k-1]))\n",
    "            if s.solve():\n",
    "                print(\"A propriedade é inválida\")\n",
    "                print([state.living for state in trace])\n",
    "                return\n",
    "    print(\"A propriedade é válida\")"
   ]
  },
  {
   "cell_type": "code",
   "execution_count": 13,
   "id": "4ab18f32-07c4-4f82-a4b7-576bfcadff8a",
   "metadata": {},
   "outputs": [],
   "source": [
    "def bmc_eventually(init, trans,prop,M,N,trace, table):\n",
    "    for k in range(1,M):\n",
    "         with Solver(name=\"z3\") as s:\n",
    "            s.add_assertion(init(N,table,trace))\n",
    "            for i in range(k-1):\n",
    "                s.add_assertion(trans(trace[i], trace[i+1],N, table))\n",
    "            \n",
    "            for i in range(k):\n",
    "                s.add_assertion(prop(trace,k,N, table))\n",
    "            \n",
    "            s.add_assertion(Or(trans(trace[k-1],trace[i],N, table) for i in range(k)))\n",
    "            \n",
    "            if s.solve():\n",
    "                print(\"Propriedade é inválida\")\n",
    "                print([state.living for state in trace])\n",
    "                return\n",
    "            \n",
    "    print(\"A propriedade é válida\")"
   ]
  },
  {
   "cell_type": "markdown",
   "id": "1c46603c-0cd0-48a4-885f-85197360d19c",
   "metadata": {},
   "source": [
    "A tradução da negação dos problemas vistos previamente para código PySMT é trivial:"
   ]
  },
  {
   "cell_type": "code",
   "execution_count": null,
   "id": "24463d10-85b6-427c-8fa7-ed1c4875c2ec",
   "metadata": {},
   "outputs": [],
   "source": [
    "def prop1(state):\n",
    "    return Equals(Int(len(state.living)), Int(0))"
   ]
  },
  {
   "cell_type": "markdown",
   "id": "42b49495-c36b-4836-ac24-083357bba554",
   "metadata": {},
   "source": [
    "De notar, no entanto, o modo como se verifica se existem células sem alterações no traço, nomeadamente dois ciclos que verificam se\n",
    "uma célula viva permanece sempre viva e se uma célula morta permanece sempre morta:"
   ]
  },
  {
   "cell_type": "code",
   "execution_count": 16,
   "id": "30fe503c-4ed3-4fa6-9080-723587c39291",
   "metadata": {},
   "outputs": [],
   "source": [
    "def prop2(trace, M, N, table):\n",
    "    al_li = []\n",
    "    for i in range(1,N+1):\n",
    "        for j in range(1, N+1):\n",
    "            for k in range(1,M):\n",
    "                if table[i][j] not in trace[k].living:\n",
    "                    break;\n",
    "            else:\n",
    "                al_li.append(table[i][j])\n",
    "                pass\n",
    "    al_de = []\n",
    "    for i in range(1,N+1):\n",
    "        for j in range(1, N+1):\n",
    "            for k in range(1,M):\n",
    "                if table[i][j] in trace[k].living:\n",
    "                    break;\n",
    "            else:\n",
    "                al_de.append(table[i][j])\n",
    "                pass\n",
    "    return And(And(al_li), And(al_de))"
   ]
  },
  {
   "cell_type": "markdown",
   "id": "37196d9f-d08c-4009-8d7f-a60d154cb2a0",
   "metadata": {},
   "source": [
    "Com isto só nos resta verificar a validade das propriedades:"
   ]
  },
  {
   "cell_type": "code",
   "execution_count": 15,
   "id": "b2fa3726-9007-4d78-a380-3414f3e089df",
   "metadata": {},
   "outputs": [
    {
     "name": "stdout",
     "output_type": "stream",
     "text": [
      "A propriedade é válida\n"
     ]
    }
   ],
   "source": [
    "bmc_always(trans,prop1,M,N,trace, init, table)\n",
    "\n",
    "#for i in range(M//5):\n",
    "#    animate_trace(trace, i, N, table)"
   ]
  },
  {
   "cell_type": "code",
   "execution_count": 17,
   "id": "b90d670b-e5af-45aa-9bbe-39972c682174",
   "metadata": {},
   "outputs": [
    {
     "name": "stdout",
     "output_type": "stream",
     "text": [
      "A propriedade é válida\n"
     ]
    }
   ],
   "source": [
    "bmc_eventually(init, trans,prop2 ,M,N,trace, table)\n",
    "\n",
    "#for i in range(M):\n",
    "#    animate_trace(trace, i, N, table)"
   ]
  }
 ],
 "metadata": {
  "authors": [
   {
    "name": "Bruno Dias da Gião A96544"
   },
   {
    "name": "João Luis da Cruz Pereira A95375"
   },
   {
    "name": "David Alberto Agra A95726"
   }
  ],
  "kernelspec": {
   "display_name": "venv",
   "language": "python",
   "name": "venv"
  },
  "language_info": {
   "codemirror_mode": {
    "name": "ipython",
    "version": 3
   },
   "file_extension": ".py",
   "mimetype": "text/x-python",
   "name": "python",
   "nbconvert_exporter": "python",
   "pygments_lexer": "ipython3",
   "version": "3.11.5"
  },
  "title": "Lógica Computacional - TP1 Exercício 2 - G01"
 },
 "nbformat": 4,
 "nbformat_minor": 5
}
