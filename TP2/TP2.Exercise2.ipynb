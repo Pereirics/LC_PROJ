{
 "cells": [
  {
   "cell_type": "markdown",
   "id": "ea73e715",
   "metadata": {},
   "source": [
    "# Exercício 2 - Enunciado"
   ]
  },
  {
   "cell_type": "markdown",
   "id": "65713ef0",
   "metadata": {},
   "source": [
    "\n",
    "2. O Conway’s Game of Life é um exemplo conhecido de um autómato celular . Aqui vamos modificar as regras do autómato de forma a usar um espaço de estados finito\n",
    "    1. O espaço de estados é definido por uma grelha de células booleanas (morta=0/viva=1) de dimensão $\\,N\\times N\\,$ (com $N>3$) identificadas por índices $\\,(i,j)\\in \\{1..N\\}$.  Estas $\\;N\\uparrow2\\;$ células são aqui referidas como “normais”. \n",
    "    2. Inicialmente todas as células normais estão mortas excepto  as células $\\,i,j \\leq 3\\,$que estão vivas. Um estado onde todas as células normais estão mortas é um “estado de erro”.\n",
    "    3. Adicionalmente existem $\\,2\\,N+1\\,$ “células da borda” que correspondem a um dos índices, $i$ ou $j$, ser zero. As células da borda têm valores constantes que, no estado inicial, são gerados aleatoriamente com uma probabilidade $\\,1/2\\,$ de estarem vivas.\n",
    "    4. As células normais o autómato modificam o estado de acordo com a regra “B3/S23”: i.e. a célula nasce (passa de $0$ a $1$) se tem exatamente 3 vizinhos vivos e sobrevive (mantém-se viva) se o número de vizinhos vivos é 2 ou 3, caso contrário morre ou continua morta.\n",
    "\n",
    "*A célula $\\;(i_0,j_0)\\;$e $\\,(i_1,j_1)\\,$ são vizinhas sse $\\;(i_0-i_1=\\pm 1) \\,\\lor\\, (j_0-j_1 = \\pm 1)$*\n",
    "\n",
    "Pretende-se:\n",
    "\n",
    "    1. Construir uma máquina de estados finita que represente este autómato.\n",
    "    2. Provar as seguintes propriedades:\n",
    "        1. Nunca se alcança o estado de erro\n",
    "        2. Nenhuma célula normal está permanentemente morta ou permanentemente viva."
   ]
  },
  {
   "cell_type": "markdown",
   "id": "8304be99-c6de-4c84-95f4-1897c0abc8aa",
   "metadata": {},
   "source": [
    "# Exercício 2 - Solução"
   ]
  },
  {
   "cell_type": "markdown",
   "id": "9b431a2b-e611-4223-97b8-be2cc5124f2c",
   "metadata": {},
   "source": [
    "Pretendemos construir a FSM que representa o autómato celular do GoL (Game of Life) e provar as duas propriedades do enunciado.\n",
    "\n",
    "No entanto, de forma a verificar o funcionamento esperado deste autómato, começemos pela criação da FSM e com a criação de código que procure animar o autómato."
   ]
  },
  {
   "cell_type": "markdown",
   "id": "fc36ed51-a6a4-4174-afd8-da9113506513",
   "metadata": {},
   "source": [
    "## Criação da FSM e Animação do GoL"
   ]
  },
  {
   "cell_type": "code",
   "execution_count": 4,
   "id": "d87e7cc7-f346-4ced-a3f1-93d53a6eb099",
   "metadata": {},
   "outputs": [],
   "source": [
    "from pysmt.shortcuts import Solver, Symbol,  And, Or, Implies, Not\n",
    "from pysmt.shortcuts import Equals, Int, GT, LE, LT, Plus, Minus\n",
    "from pysmt.shortcuts import is_sat, get_model, AllDifferent\n",
    "from pysmt.typing import INT\n",
    "from random import choices\n",
    "from pprint import pprint\n",
    "import matplotlib.pyplot as plt\n",
    "from matplotlib import colors\n",
    "import numpy as np"
   ]
  },
  {
   "cell_type": "markdown",
   "id": "73e81c6d-bc0c-4bf8-a00c-f56e610f8510",
   "metadata": {},
   "source": [
    "Começemos por definir uma classe que defina os estados deste autómato.\n",
    "\n",
    "Nesta conceção de estado, teremos informação sofre quais células estão vivas e em que elemento do traço nos encontramos."
   ]
  },
  {
   "cell_type": "code",
   "execution_count": 5,
   "id": "24d56fbb-4e7c-4431-bd26-bfd0af89f05b",
   "metadata": {},
   "outputs": [],
   "source": [
    "class ST:\n",
    "    def __init__(self, s=''):\n",
    "        self.living = []\n",
    "        self.pc = Symbol(s+'.pc', INT)\n",
    "    def __str__(self):\n",
    "        return f\"({str(self.cell)},  {str(self.pc)})\""
   ]
  },
  {
   "cell_type": "markdown",
   "id": "856dbf96-4650-4aa4-926e-3952df5060db",
   "metadata": {},
   "source": [
    "Consideremos $N = \\{0,\\dots,9\\}$, teremos o conjunto $N \\uparrow 2$ de cardinalidade $100$ com um total de $121$ células incluindo as *Border Cells*.\n",
    "\n",
    "Ora, com isto, criemos o tabuleiro de jogo:"
   ]
  },
  {
   "cell_type": "code",
   "execution_count": 6,
   "id": "2ff1c29b-43ea-4dd3-9f03-e8a6940d3137",
   "metadata": {
    "scrolled": true
   },
   "outputs": [],
   "source": [
    "N = 5\n",
    "table = [[Symbol('s'+str(i)+str(j)) for j in range(N+1)] for i in range(N+1)]"
   ]
  },
  {
   "cell_type": "markdown",
   "id": "95a259a8-81b8-4d74-9385-c3ff70326333",
   "metadata": {},
   "source": [
    "Note-se também que o \"Jogo da Vida\" de Conway é **indecidível**, sendo assim, a cardinalidade do traço tenderá para o infinito.\n",
    "\n",
    "Sendo assim, limitemos superiormente a execução por um número arbitrário:"
   ]
  },
  {
   "cell_type": "code",
   "execution_count": 7,
   "id": "a266c3a9-c9c9-407c-a270-050d6f5d50c3",
   "metadata": {},
   "outputs": [],
   "source": [
    "M = 500\n",
    "\n",
    "trace= [ST('s'+str(i)) for i in range(M)]"
   ]
  },
  {
   "cell_type": "markdown",
   "id": "334ace04-0666-431a-b7bc-33d25e1ae93c",
   "metadata": {},
   "source": [
    "Teremos então de inicializar a tabela com os requisitos, começemos por diferenciar células normais de células de fronteira:"
   ]
  },
  {
   "cell_type": "code",
   "execution_count": 8,
   "id": "9dcd4044-a65b-491f-b9f3-f8fe392079ca",
   "metadata": {
    "scrolled": true
   },
   "outputs": [],
   "source": [
    "live_init_ncell = {table[1][1],table[1][2],table[1][3],\n",
    "                  table[2][1],table[2][2],table[2][3],\n",
    "                  table[3][1],table[3][2],table[3][3]}\n",
    "bcell = set()\n",
    "for i in range(N+1):\n",
    "    for j in range(N+1):\n",
    "        if i == 0 or j == 0:\n",
    "            bcell.add(table[i][j])\n",
    "dead_init_ncell = {table[i][j] for i in range(N+1) for j in range(N+1) if table[i][j] not in live_init_ncell and table[i][j] not in bcell}"
   ]
  },
  {
   "cell_type": "markdown",
   "id": "5a554416-68bf-4c89-86e6-3a0112b97a98",
   "metadata": {},
   "source": [
    "Com isto podemos definir a configuração inicial das células normais através de uma simples restrição lógica:"
   ]
  },
  {
   "cell_type": "code",
   "execution_count": 9,
   "id": "7fc22ca6-7bf6-4b3f-9681-f42cd0da0f25",
   "metadata": {},
   "outputs": [],
   "source": [
    "prob = And(Not(And(dead_init_ncell)),And(live_init_ncell))"
   ]
  },
  {
   "cell_type": "markdown",
   "id": "c44a219e-7c9f-4dca-8a72-0edb0ecda041",
   "metadata": {},
   "source": [
    "Com isto, podemos proceder a inicializar as células que se encontram na fronteira.\n",
    "\n",
    "Ora, estas são inicializadas de forma aleatória com uma probabilidade de nascer de $\\frac{1}{2}$.\n",
    "\n",
    "De notar que uma biblioteca Standard (`random`) contem a subrotina (`choices`) que permite gerar resultados aleatórios com pesos."
   ]
  },
  {
   "cell_type": "code",
   "execution_count": 10,
   "id": "23460a44-f14d-4d7c-92ca-d56e98296a05",
   "metadata": {},
   "outputs": [],
   "source": [
    "distribution = [choices([False,True], [0.5,0.5]) for i in range(2*N+1)]\n",
    "bcell_list = list(bcell)\n",
    "for i in range(len(bcell_list)):\n",
    "    if distribution[i][0]:\n",
    "        prob = And(prob, bcell_list[i])\n",
    "    else:\n",
    "        prob = And(prob, Not(bcell_list[i]))"
   ]
  },
  {
   "cell_type": "markdown",
   "id": "5d9654dd-f16e-45dd-93ee-9cd8a2b4845f",
   "metadata": {},
   "source": [
    "Finalmente, podemos proceder com a implementação de alguma subrotina que conte o número de células vizinhas vivas:"
   ]
  },
  {
   "cell_type": "code",
   "execution_count": 28,
   "id": "2bc9c85d-a1c2-4e1c-9790-001b5c44407e",
   "metadata": {},
   "outputs": [],
   "source": [
    "def living_neigh(table, solver, study):\n",
    "    count = 0;\n",
    "    x, y = study\n",
    "    # i_0 - i_1 = +- 1 OR j_0 - j_1 = +- 1\n",
    "    your_arr = [[solver.get_value(table[i][j]).constant_value() for j in range(N+1) if (abs((x - i)) == 1 or abs((y - j)) == 1) and solver.get_value(table[i][j]).constant_value()] for i in range(N+1)]\n",
    "    count = len(your_arr)\n",
    "    return count;"
   ]
  },
  {
   "cell_type": "markdown",
   "id": "ca220791-3649-48cc-90ba-8d0a08061977",
   "metadata": {},
   "source": [
    "Estamos finalmente em vias de resolver algum modo de animar o nosso problema, tentaremos,\n",
    "então animar a primeira configuração do Autómato Celular a ser estudado:"
   ]
  },
  {
   "cell_type": "code",
   "execution_count": 29,
   "id": "9130778f-e379-45df-8e75-fcf92b13fe8b",
   "metadata": {},
   "outputs": [
    {
     "name": "stdout",
     "output_type": "stream",
     "text": [
      "6\n"
     ]
    },
    {
     "data": {
      "image/png": "[encoded data removed]",
      "text/plain": [
       "<Figure size 480x480 with 1 Axes>"
      ]
     },
     "metadata": {},
     "output_type": "display_data"
    }
   ],
   "source": [
    "with Solver() as solver:\n",
    "    solver.add_assertion(prob);\n",
    "    if solver.solve():\n",
    "        your_arr = [[solver.get_value(table[i][j]).constant_value() for j in range(N+1)] for i in range(N+1)]\n",
    "        plt.matshow(your_arr) #, cmap='gray')\n",
    "        print(living_neigh(table, solver, (0,0)))\n",
    "        #pprint([[solver.get_value(table[i][j]) for j in range(N)] for i in range(N)])"
   ]
  },
  {
   "cell_type": "markdown",
   "id": "97381ea0-46c6-4e87-9b95-17e44c88817c",
   "metadata": {},
   "source": [
    "## Verificação das Propriedades"
   ]
  },
  {
   "cell_type": "code",
   "execution_count": null,
   "id": "0b8ecad6-3cc5-48e8-8e61-8e7c2cd5839e",
   "metadata": {},
   "outputs": [],
   "source": []
  }
 ],
 "metadata": {
  "authors": [
   {
    "name": "Bruno Dias da Gião A96544"
   },
   {
    "name": "João Luis da Cruz Pereira A95375"
   },
   {
    "name": "David Alberto Agra A95726"
   }
  ],
  "kernelspec": {
   "display_name": "venv",
   "language": "python",
   "name": "venv"
  },
  "language_info": {
   "codemirror_mode": {
    "name": "ipython",
    "version": 3
   },
   "file_extension": ".py",
   "mimetype": "text/x-python",
   "name": "python",
   "nbconvert_exporter": "python",
   "pygments_lexer": "ipython3",
   "version": "3.11.5"
  },
  "title": "Lógica Computacional - TP1 Exercício 2 - G01"
 },
 "nbformat": 4,
 "nbformat_minor": 5
}
