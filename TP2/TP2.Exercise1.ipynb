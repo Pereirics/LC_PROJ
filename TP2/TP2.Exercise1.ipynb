{
 "cells": [
  {
   "cell_type": "markdown",
   "id": "ea73e715",
   "metadata": {},
   "source": [
    "# Exercício 1 - Enunciado"
   ]
  },
  {
   "cell_type": "markdown",
   "id": "65713ef0",
   "metadata": {},
   "source": [
    "\n",
    "1. O algoritmo estendido de Euclides (EXA) aceita dois inteiros constantes  $\\,a,b>0\\,$  e devolve inteiros $r,s,t\\,$ tais que  $\\,a*s + b*t = r\\,$  e  $\\,r = \\gcd(a,b)\\,$. \n",
    "    Para além das variáveis $\\,r,s,t\\,$ o código requer 3 variáveis adicionais $\\,r',s',t'\\,$ que representam os valores de $\\,r,s,t\\,$ no “próximo estado”.\n",
    "    ```\n",
    "    INPUT  a, b\n",
    "    assume  a > 0 and b > 0\n",
    "    r, r', s, s', t, t' = a, b, 1, 0, 0, 1\n",
    "    while r' != 0\n",
    "      q = r div r'\n",
    "      r, r', s, s', t, t' = r', r − q × r', s', s − q × s', r', t − q × t' \n",
    "    OUTPUT r, s, t\n",
    "    ````\n",
    "    1. Construa um FOTS usando BitVector de tamanho $n$ que descreva o comportamento deste programa: identifique as variáveis do modelo, o estado inicial e a relação de transição.\n",
    "    2. Considere estado de erro quando $\\,r=0\\,$ ou alguma das variáveis atinge o “overflow”.\n",
    "        Prove que o programa nunca atinge o estado de erro\n",
    "    3. Prove que a relação de Bézout $\\,$ $\\,a*s + b*t = r\\,$ é um invariante do algoritmo."
   ]
  },
  {
   "cell_type": "markdown",
   "id": "d9eb042b",
   "metadata": {
    "tags": []
   },
   "source": [
    "# Exercício 1 - Solução"
   ]
  },
  {
   "cell_type": "markdown",
   "id": "65ea9717",
   "metadata": {},
   "source": [
    "s é o coeficiente pelo qual 'a' multiplica\n",
    "t é o coeficiente pelo qual 'b' multiplica\n",
    "r é o máximo divisor comum de 'a' e 'b'\n",
    "\n",
    "a, b > 0'\\n'  \n",
    "a\\*s + b\\*t = r = mdc(a, b)  \n",
    "r = mdc(a,b)\n",
    "\n",
    "r', s', t' representam r, s, t no próximo estado\n",
    "\n",
    "1. Fazer função declare\n",
    "2. Fazer função init\n",
    "3. Fazer função trans\n",
    "4.  r = 0 ou s,t overflow é estado de erro. Provar que nunca atinge estado de erro\n",
    "5. Provar que a*s + b*t = r é um invariante"
   ]
  },
  {
   "cell_type": "code",
   "execution_count": null,
   "id": "2d2c713b-58f2-457c-94d1-7194cc5889a3",
   "metadata": {},
   "outputs": [],
   "source": [
    "from pysmt.shortcuts import *\n",
    "from pysmt.typing import INT"
   ]
  },
  {
   "cell_type": "code",
   "execution_count": null,
   "id": "0bb431f3",
   "metadata": {},
   "outputs": [],
   "source": [
    "def declare(i, bv_width):\n",
    "\n",
    "    bv_type = BVType(bv_width)\n",
    "    state = {}\n",
    "    state['s'] = Symbol('s' + str(i), bv_type)\n",
    "    state['t'] = Symbol('t' + str(i), bv_type)\n",
    "    state['r'] = Symbol('r' + str(i), bv_type)\n",
    "    state['s_prox'] = Symbol('s_prox' + str(i), bv_type)\n",
    "    state['t_prox'] = Symbol('t_prox' + str(i), bv_type)\n",
    "    state['r_prox'] = Symbol('r_prox' + str(i), bv_type)\n",
    "    state['q'] = Symbol('q' + str(i), bv_type)\n",
    "    state['pc'] = Symbol('pc' + str(i), bv_type)\n",
    "\n",
    "    return state"
   ]
  },
  {
   "cell_type": "code",
   "execution_count": null,
   "id": "dd53bd10",
   "metadata": {},
   "outputs": [],
   "source": [
    "def init(state, a, b, bv_width):\n",
    "\n",
    "    A = Equals(state['pc'], BV(0, bv_width))\n",
    "    B = GT(Int(a), Int(0))\n",
    "    C = GT(Int(b), Int(0))\n",
    "    D = Equals(state['r'], BV(a, bv_width))\n",
    "    E = Equals(state['s'], BV(1, bv_width))\n",
    "    F = Equals(state['t'], BV(0, bv_width))\n",
    "    \n",
    "    return And(A, B, C, D, E, F)"
   ]
  },
  {
   "cell_type": "code",
   "execution_count": null,
   "id": "e56941e3",
   "metadata": {},
   "outputs": [],
   "source": [
    "def trans(curr, prox, a, b, bv_width):\n",
    "           \n",
    "    t01 = And(\n",
    "        Equals(curr['pc'], BV(0, bv_width)),\n",
    "        Equals(prox['pc'], BV(1, bv_width)),\n",
    "        Equals(prox['r'], BV(a, bv_width)),\n",
    "        Equals(prox['r_prox'], BV(b, bv_width)),\n",
    "        Equals(prox['s'], BV(1, bv_width)),\n",
    "        Equals(prox['s_prox'], BV(0, bv_width)),\n",
    "        Equals(prox['t'], BV(0, bv_width)),\n",
    "        Equals(curr['t'], prox['t']),\n",
    "        Equals(prox['t_prox'], BV(1, bv_width)),\n",
    "        Equals(curr['t_prox'], prox['t_prox']),\n",
    "        Equals(curr['q'], prox['q'])\n",
    "    )\n",
    "    \n",
    "    t14 = And(\n",
    "        Equals(curr['pc'], BV(1, bv_width)),\n",
    "        Equals(prox['pc'], BV(4, bv_width)),\n",
    "        Equals(curr['r_prox'], BV(0, bv_width)),\n",
    "        Equals(curr['r_prox'], prox['r_prox']),\n",
    "        Equals(curr['r'], prox['r']),\n",
    "        Equals(curr['s'], prox['s']),\n",
    "        Equals(curr['s_prox'], prox['s_prox']),\n",
    "        Equals(curr['t'], prox['t']),\n",
    "        Equals(curr['t_prox'], prox['t_prox']),\n",
    "        Equals(curr['q'], prox['q'])\n",
    "    )\n",
    "\n",
    "    t12 = And(\n",
    "        Equals(curr['pc'], BV(1, bv_width)),\n",
    "        Equals(prox['pc'], BV(2, bv_width)),\n",
    "        Not(Equals(curr['r_prox'], BV(0, bv_width))),\n",
    "        Equals(curr['r_prox'], prox['r_prox']),\n",
    "        Equals(curr['r'], prox['r']),\n",
    "        Equals(curr['s'], prox['s']),\n",
    "        Equals(curr['s_prox'], prox['s_prox']),\n",
    "        Equals(curr['t'], prox['t']),\n",
    "        Equals(curr['t_prox'], prox['t_prox']),\n",
    "        Equals(curr['q'], prox['q'])\n",
    "    )\n",
    "\n",
    "    t23 = And(\n",
    "        Equals(curr['pc'], BV(2, bv_width)),\n",
    "        Equals(prox['pc'], BV(3, bv_width)),\n",
    "        Equals(prox['q'], BVUDiv(curr['r'], curr['r_prox'])),\n",
    "        Equals(curr['r'], prox['r']),\n",
    "        Equals(curr['r_prox'], prox['r_prox']),\n",
    "        Equals(curr['s'], prox['s']),\n",
    "        Equals(curr['s_prox'], prox['s_prox']),\n",
    "        Equals(curr['t'], prox['t']),\n",
    "        Equals(curr['t_prox'], prox['t_prox'])\n",
    "    )\n",
    "\n",
    "    t31 = And(\n",
    "        Equals(curr['pc'], BV(3, bv_width)),\n",
    "        Equals(prox['pc'], BV(1, bv_width)),\n",
    "        Equals(prox['r'], curr['r_prox']),\n",
    "        Equals(prox['r_prox'], BVSub(curr['r'], BVMul(curr['q'], curr['r_prox']))),\n",
    "        Equals(prox['s'], curr['s_prox']),\n",
    "        Equals(prox['s_prox'], BVSub(curr['s'], BVMul(curr['q'], curr['s_prox']))),\n",
    "        Equals(prox['t'], curr['t_prox']),\n",
    "        Equals(prox['t_prox'], BVSub(curr['t'], BVMul(curr['q'], curr['t_prox']))),\n",
    "        Equals(prox['q'], curr['q'])\n",
    "    )\n",
    "\n",
    "    t44 = And(\n",
    "        Equals(curr['pc'], BV(4, bv_width)),\n",
    "        Equals(prox['pc'], BV(4, bv_width)),\n",
    "        Equals(curr['r'], prox['r']),\n",
    "        Equals(curr['r_prox'], prox['r_prox']),\n",
    "        Equals(curr['s'], prox['s']),\n",
    "        Equals(curr['s_prox'], prox['s_prox']),\n",
    "        Equals(curr['t'], prox['t']),\n",
    "        Equals(curr['t_prox'], prox['t_prox']),\n",
    "        Equals(curr['q'], prox['q'])\n",
    "    )\n",
    "    \n",
    "    return Or(t01, t14, t12, t23, t31, t44)"
   ]
  },
  {
   "cell_type": "code",
   "execution_count": null,
   "id": "962a5ca3",
   "metadata": {},
   "outputs": [],
   "source": [
    "def gera_traco(i, a, b, K, bv_width):\n",
    "    \n",
    "    states = [declare(i, bv_width) for i in range(K+1)]\n",
    "\n",
    "    with Solver() as solver:\n",
    "        \n",
    "        solver.add_assertion(init(states[0], a, b, bv_width))\n",
    "        for i in range(K):\n",
    "            solver.add_assertion(trans(states[i], states[i+1], a, b, bv_width))\n",
    "        solver.add_assertion(Equals(states[-1]['pc'], BV(4, bv_width)))\n",
    "        if solver.solve():\n",
    "            print(f\"r: {solver.get_value(states[-1]['r']).bv_signed_value()}, s: {solver.get_value(states[-1]['s']).bv_signed_value()}, t: {solver.get_value(states[-1]['t']).bv_signed_value()}\")\n",
    "        else:\n",
    "            print(\"> Not feasible.\")"
   ]
  },
  {
   "cell_type": "code",
   "execution_count": null,
   "id": "c5cc95e8",
   "metadata": {},
   "outputs": [],
   "source": [
    "def bmc_always(declare,init,trans,inv, a, b, K, bv_width):\n",
    "    \n",
    "    with Solver() as solver:\n",
    "        states = [declare(i, bv_width) for i in range(K+1)]\n",
    "        solver.add_assertion(init(states[0], a, b, bv_width))\n",
    "        solver.add_assertion(Equals(states[-1]['pc'], BV(4, bv_width)))\n",
    "        \n",
    "        for k in range(K):\n",
    "            if k>0:\n",
    "                solver.add_assertion(trans(states[k-1], states[k], a, b, bv_width))\n",
    "            \n",
    "            solver.push()\n",
    "            solver.add_assertion(Not(inv(states[k], bv_width)))\n",
    "            \n",
    "            if solver.solve():\n",
    "                print(f\"> Invariant does not hold for {k+1} first states. Counter-example:\")\n",
    "                for i,state in enumerate(states[:k+1]):\n",
    "                    print(f\"> State {i}: pc = {solver.get_value(state['pc']).bv_signed_value()}\\nq = {solver.get_value(state['q']).bv_signed_value()}\\ns = {solver.get_value(state['s']).bv_signed_value()}\\nt = {solver.get_value(state['t']).bv_signed_value()}\\nr = {solver.get_value(state['r']).bv_signed_value()}\\ns' = {solver.get_value(state['s_prox']).bv_signed_value()}\\nt' = {solver.get_value(state['t_prox']).bv_signed_value()}\\nr' = {solver.get_value(state['r_prox']).bv_signed_value()}\")\n",
    "                return\n",
    "            else:\n",
    "                if k==K-1:\n",
    "                    print(f\"> Invariant holds for the first {K} states.\")\n",
    "                else:\n",
    "                    solver.pop()"
   ]
  },
  {
   "cell_type": "code",
   "execution_count": null,
   "id": "002bd9c9",
   "metadata": {},
   "outputs": [],
   "source": [
    "def nonzerooverflow(state, bv_width):\n",
    "    zero = SBV(0, bv_width)\n",
    "    max_value = BV(2**bv_width - 1, bv_width)\n",
    "    return And(BVUGT(state['r'], zero), Not(BVUGT(state['s'], max_value)), Not(BVUGT(state['t'], max_value)))"
   ]
  },
  {
   "cell_type": "code",
   "execution_count": null,
   "id": "0c4512f5",
   "metadata": {},
   "outputs": [],
   "source": [
    "def bezout(state, bv_width):\n",
    "    a_bv = BV(a, bv_width)\n",
    "    b_bv = BV(b, bv_width)\n",
    "    return Equals(BVAdd(BVMul(a_bv, state['s']), BVMul(b_bv, state['t'])), state['r'])"
   ]
  },
  {
   "cell_type": "code",
   "execution_count": null,
   "id": "acc1428c",
   "metadata": {},
   "outputs": [],
   "source": [
    "i = int(input('Insira o número do estado inicial: '))\n",
    "bv_width = int(input('Insira o número de bits par ao BitVector: '))\n",
    "K = int(input('Insira o número de estados: '))"
   ]
  },
  {
   "cell_type": "code",
   "execution_count": null,
   "id": "9726ded9",
   "metadata": {},
   "outputs": [],
   "source": [
    "a = int(input('Insira o valor de a: '))\n",
    "b = int(input('Insira o valor de b: '))"
   ]
  },
  {
   "cell_type": "code",
   "execution_count": null,
   "id": "5c569bb3",
   "metadata": {},
   "outputs": [],
   "source": [
    "gera_traco(i, a, b, K, bv_width)\n",
    "bmc_always(declare, init, trans, nonzerooverflow, a, b, K, bv_width)\n",
    "bmc_always(declare, init, trans, bezout, a, b, K, bv_width)"
   ]
  }
 ],
 "metadata": {
  "authors": [
   {
    "name": "Bruno Dias da Gião A96544"
   },
   {
    "name": "João Luis da Cruz Pereira A95375"
   },
   {
    "name": "David Alberto Agra A95726"
   }
  ],
  "kernelspec": {
   "display_name": "Python 3 (ipykernel)",
   "language": "python",
   "name": "python3"
  },
  "language_info": {
   "codemirror_mode": {
    "name": "ipython",
    "version": 3
   },
   "file_extension": ".py",
   "mimetype": "text/x-python",
   "name": "python",
   "nbconvert_exporter": "python",
   "pygments_lexer": "ipython3",
   "version": "3.11.5"
  },
  "title": "Lógica Computacional - TP1 Exercício 1 - G01"
 },
 "nbformat": 4,
 "nbformat_minor": 5
}
