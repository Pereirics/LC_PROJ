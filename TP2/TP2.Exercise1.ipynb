{
 "cells": [
  {
   "cell_type": "markdown",
   "id": "ea73e715",
   "metadata": {},
   "source": [
    "# Exercício 1 - Enunciado"
   ]
  },
  {
   "cell_type": "markdown",
   "id": "65713ef0",
   "metadata": {},
   "source": [
    "\n",
    "1. O algoritmo estendido de Euclides (EXA) aceita dois inteiros constantes  $\\,a,b>0\\,$  e devolve inteiros $r,s,t\\,$ tais que  $\\,a*s + b*t = r\\,$  e  $\\,r = \\gcd(a,b)\\,$. \n",
    "    Para além das variáveis $\\,r,s,t\\,$ o código requer 3 variáveis adicionais $\\,r',s',t'\\,$ que representam os valores de $\\,r,s,t\\,$ no “próximo estado”.\n",
    "    ```\n",
    "    INPUT  a, b\n",
    "    assume  a > 0 and b > 0\n",
    "    r, r', s, s', t, t' = a, b, 1, 0, 0, 1\n",
    "    while r' != 0\n",
    "      q = r div r'\n",
    "      r, r', s, s', t, t' = r', r − q × r', s', s − q × s', r', t − q × t' \n",
    "    OUTPUT r, s, t\n",
    "    ````\n",
    "    1. Construa um FOTS usando BitVector de tamanho $n$ que descreva o comportamento deste programa: identifique as variáveis do modelo, o estado inicial e a relação de transição.\n",
    "    2. Considere estado de erro quando $\\,r=0\\,$ ou alguma das variáveis atinge o “overflow”.\n",
    "        Prove que o programa nunca atinge o estado de erro\n",
    "    3. Prove que a relação de Bézout $\\,$ $\\,a*s + b*t = r\\,$ é um invariante do algoritmo."
   ]
  },
  {
   "cell_type": "markdown",
   "id": "d9eb042b",
   "metadata": {
    "tags": []
   },
   "source": [
    "# Exercício 1 - Solução"
   ]
  },
  {
   "cell_type": "markdown",
   "source": [
    "a)"
   ],
   "metadata": {
    "collapsed": false
   },
   "id": "d5016a6341aacd36"
  },
  {
   "cell_type": "code",
   "execution_count": 26,
   "id": "2d2c713b-58f2-457c-94d1-7194cc5889a3",
   "metadata": {
    "ExecuteTime": {
     "end_time": "2023-10-17T15:40:13.116393Z",
     "start_time": "2023-10-17T15:40:13.109403Z"
    }
   },
   "outputs": [],
   "source": [
    "from pysmt.shortcuts import *\n",
    "from pysmt.typing import *\n",
    "\n",
    "N = 32\n",
    "mx = BV(2**N-1, width=N)\n",
    "zero = BV(0, width=N)\n",
    "um = BV(1, width=N)\n",
    "\n",
    "a = Symbol(\"a\", BVType(N))\n",
    "b = Symbol(\"b\", BVType(N))\n",
    "r = Symbol(\"r\", BVType(N))\n",
    "r_prime = Symbol(\"r_prime\", BVType(N))\n",
    "s = Symbol(\"s\", BVType(N))\n",
    "s_prime = Symbol(\"s_prime\", BVType(N))\n",
    "t = Symbol(\"t\", BVType(N))\n",
    "t_prime = Symbol(\"t_prime\", BVType(N))\n",
    "q = Symbol(\"q\", BVType(N))\n",
    "\n",
    "init = And(\n",
    "    BVUGT(a, zero),\n",
    "    BVUGT(b, zero),\n",
    "    Equals(r, a),\n",
    "    Equals(r_prime, b),\n",
    "    Equals(s, um),\n",
    "    Equals(s_prime, zero),\n",
    "    Equals(t, zero),\n",
    "    Equals(t_prime, um),\n",
    "    # Implies(Equals(r_prime,zero), And(Equals(r, a), Equals(s,um), Equals(t,zero))),\n",
    ")\n",
    "\n",
    "variables = [a, b, r, r_prime, s, s_prime, t, t_prime, q]\n",
    "\n",
    "while_condition = Not(Equals(r_prime,zero))\n",
    "body = And(\n",
    "    Equals(q, BVUDiv(r, r_prime)),\n",
    "    Equals(r, BVMul(r, BVMul(q, r_prime))),\n",
    "    Equals(s, BVSub(s, BVMul(q, s_prime))),\n",
    "    Equals(t, BVSub(t, BVMul(q, t_prime))),\n",
    "    Equals(r, r_prime),\n",
    "    Equals(s, s_prime),\n",
    "    Equals(t, t_prime)\n",
    ")\n",
    "\n",
    "trans = Implies(while_condition, body)"
   ]
  },
  {
   "cell_type": "markdown",
   "source": [
    "b)"
   ],
   "metadata": {
    "collapsed": false
   },
   "id": "c7191339b6d78b51"
  },
  {
   "cell_type": "code",
   "execution_count": 27,
   "outputs": [
    {
     "name": "stdout",
     "output_type": "stream",
     "text": [
      "Nunca chega a estado de erro\n"
     ]
    }
   ],
   "source": [
    "def hasOverflowed(var):\n",
    "    return BVUGT(var, mx)\n",
    "\n",
    "erro = Or(\n",
    "    Equals(r, zero),\n",
    "    hasOverflowed(a),\n",
    "    hasOverflowed(b),\n",
    "    hasOverflowed(r),\n",
    "    hasOverflowed(r_prime),\n",
    "    hasOverflowed(s),\n",
    "    hasOverflowed(s_prime),\n",
    "    hasOverflowed(t),\n",
    "    hasOverflowed(t_prime),\n",
    "    hasOverflowed(q)\n",
    ")\n",
    "\n",
    "if is_unsat(And(init, trans, erro)):\n",
    "    print(\"Nunca chega a estado de erro\")\n",
    "else:\n",
    "    print(\"Chega a estado de erro\")"
   ],
   "metadata": {
    "collapsed": false,
    "ExecuteTime": {
     "end_time": "2023-10-17T15:40:13.125273Z",
     "start_time": "2023-10-17T15:40:13.114059Z"
    }
   },
   "id": "1ffbdaf7adad619b"
  },
  {
   "cell_type": "markdown",
   "source": [
    "c)"
   ],
   "metadata": {
    "collapsed": false
   },
   "id": "4295768f56d2686"
  },
  {
   "cell_type": "code",
   "execution_count": 28,
   "outputs": [
    {
     "name": "stdout",
     "output_type": "stream",
     "text": [
      "A relacao de bezout e uma invariante\n"
     ]
    }
   ],
   "source": [
    "bezout = Equals(BVAdd(BVMul(a, s_prime), BVMul(b, t_prime)), r_prime)\n",
    "trans = Implies(while_condition, And(body, Not(bezout)))\n",
    "\n",
    "if is_unsat(And(init, trans)):\n",
    "    print(\"A relacao de bezout e uma invariante\")\n",
    "else:\n",
    "    print(\"A relacao de bezout nao e uma invariante\")"
   ],
   "metadata": {
    "collapsed": false,
    "ExecuteTime": {
     "end_time": "2023-10-17T15:40:13.143820Z",
     "start_time": "2023-10-17T15:40:13.120336Z"
    }
   },
   "id": "1e45702867152368"
  }
 ],
 "metadata": {
  "authors": [
   {
    "name": "Bruno Dias da Gião A96544"
   },
   {
    "name": "João Luis da Cruz Pereira A95375"
   },
   {
    "name": "David Alberto Agra A95726"
   }
  ],
  "kernelspec": {
   "display_name": "Python 3 (ipykernel)",
   "language": "python",
   "name": "python3"
  },
  "language_info": {
   "codemirror_mode": {
    "name": "ipython",
    "version": 3
   },
   "file_extension": ".py",
   "mimetype": "text/x-python",
   "name": "python",
   "nbconvert_exporter": "python",
   "pygments_lexer": "ipython3",
   "version": "3.11.5"
  },
  "title": "Lógica Computacional - TP1 Exercício 1 - G01"
 },
 "nbformat": 4,
 "nbformat_minor": 5
}
