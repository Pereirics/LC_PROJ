{
 "cells": [
  {
   "cell_type": "markdown",
   "id": "ea73e715",
   "metadata": {},
   "source": [
    "# Exercício 1 - Enunciado"
   ]
  },
  {
   "cell_type": "markdown",
   "id": "65713ef0",
   "metadata": {},
   "source": [
    "\n",
    "1. O algoritmo estendido de Euclides (EXA) aceita dois inteiros constantes  $\\,a,b>0\\,$  e devolve inteiros $r,s,t\\,$ tais que  $\\,a*s + b*t = r\\,$  e  $\\,r = \\gcd(a,b)\\,$. \n",
    "    Para além das variáveis $\\,r,s,t\\,$ o código requer 3 variáveis adicionais $\\,r',s',t'\\,$ que representam os valores de $\\,r,s,t\\,$ no “próximo estado”.\n",
    "    ```\n",
    "    INPUT  a, b\n",
    "    assume  a > 0 and b > 0\n",
    "    r, r', s, s', t, t' = a, b, 1, 0, 0, 1\n",
    "    while r' != 0\n",
    "      q = r div r'\n",
    "      r, r', s, s', t, t' = r', r − q × r', s', s − q × s', r', t − q × t' \n",
    "    OUTPUT r, s, t\n",
    "    ````\n",
    "    1. Construa um FOTS usando BitVector de tamanho $n$ que descreva o comportamento deste programa: identifique as variáveis do modelo, o estado inicial e a relação de transição.\n",
    "    2. Considere estado de erro quando $\\,r=0\\,$ ou alguma das variáveis atinge o “overflow”.\n",
    "        Prove que o programa nunca atinge o estado de erro\n",
    "    3. Prove que a relação de Bézout $\\,$ $\\,a*s + b*t = r\\,$ é um invariante do algoritmo."
   ]
  },
  {
   "cell_type": "markdown",
   "id": "d9eb042b",
   "metadata": {
    "tags": []
   },
   "source": [
    "# Exercício 1 - Solução"
   ]
  },
  {
   "cell_type": "code",
   "execution_count": null,
   "id": "2d2c713b-58f2-457c-94d1-7194cc5889a3",
   "metadata": {},
   "outputs": [],
   "source": []
  }
 ],
 "metadata": {
  "authors": [
   {
    "name": "Bruno Dias da Gião A96544"
   },
   {
    "name": "João Luis da Cruz Pereira A95375"
   },
   {
    "name": "David Alberto Agra A95726"
   }
  ],
  "kernelspec": {
   "display_name": "Python 3 (ipykernel)",
   "language": "python",
   "name": "python3"
  },
  "language_info": {
   "codemirror_mode": {
    "name": "ipython",
    "version": 3
   },
   "file_extension": ".py",
   "mimetype": "text/x-python",
   "name": "python",
   "nbconvert_exporter": "python",
   "pygments_lexer": "ipython3",
   "version": "3.11.5"
  },
  "title": "Lógica Computacional - TP1 Exercício 1 - G01"
 },
 "nbformat": 4,
 "nbformat_minor": 5
}
