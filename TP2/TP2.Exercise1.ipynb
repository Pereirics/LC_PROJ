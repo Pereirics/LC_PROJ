{
 "cells": [
  {
   "cell_type": "markdown",
   "id": "ea73e715",
   "metadata": {},
   "source": [
    "# Exercício 1 - Enunciado"
   ]
  },
  {
   "cell_type": "markdown",
   "id": "65713ef0",
   "metadata": {},
   "source": [
    "\n",
    "1. O algoritmo estendido de Euclides (EXA) aceita dois inteiros constantes  $\\,a,b>0\\,$  e devolve inteiros $r,s,t\\,$ tais que  $\\,a*s + b*t = r\\,$  e  $\\,r = \\gcd(a,b)\\,$. \n",
    "    Para além das variáveis $\\,r,s,t\\,$ o código requer 3 variáveis adicionais $\\,r',s',t'\\,$ que representam os valores de $\\,r,s,t\\,$ no “próximo estado”.\n",
    "    ```\n",
    "    INPUT  a, b\n",
    "    assume  a > 0 and b > 0\n",
    "    r, r', s, s', t, t' = a, b, 1, 0, 0, 1\n",
    "    while r' != 0\n",
    "      q = r div r'\n",
    "      r, r', s, s', t, t' = r', r − q × r', s', s − q × s', r', t − q × t' \n",
    "    OUTPUT r, s, t\n",
    "    ````\n",
    "    1. Construa um FOTS usando BitVector de tamanho $n$ que descreva o comportamento deste programa: identifique as variáveis do modelo, o estado inicial e a relação de transição.\n",
    "    2. Considere estado de erro quando $\\,r=0\\,$ ou alguma das variáveis atinge o “overflow”.\n",
    "        Prove que o programa nunca atinge o estado de erro\n",
    "    3. Prove que a relação de Bézout $\\,$ $\\,a*s + b*t = r\\,$ é um invariante do algoritmo."
   ]
  },
  {
   "cell_type": "markdown",
   "id": "d9eb042b",
   "metadata": {
    "tags": []
   },
   "source": [
    "# Exercício 1 - Solução"
   ]
  },
  {
   "cell_type": "markdown",
   "id": "65ea9717",
   "metadata": {},
   "source": [
    "s é o coeficiente pelo qual 'a' multiplica\n",
    "t é o coeficiente pelo qual 'b' multiplica\n",
    "r é o máximo divisor comum de 'a' e 'b'\n",
    "\n",
    "a, b > 0'\\n'  \n",
    "a\\*s + b\\*t = r = mdc(a, b)  \n",
    "r = mdc(a,b)\n",
    "\n",
    "r', s', t' representam r, s, t no próximo estado\n",
    "\n",
    "1. Fazer função declare\n",
    "2. Fazer função init\n",
    "3. Fazer função trans\n",
    "4.  r = 0 ou s,t overflow é estado de erro. Provar que nunca atinge estado de erro\n",
    "5. Provar que a*s + b*t = r é um invariante"
   ]
  },
  {
   "cell_type": "code",
   "execution_count": 39,
   "id": "2d2c713b-58f2-457c-94d1-7194cc5889a3",
   "metadata": {},
   "outputs": [],
   "source": [
    "from pysmt.shortcuts import *\n",
    "from pysmt.typing import INT"
   ]
  },
  {
   "cell_type": "code",
   "execution_count": 40,
   "id": "0bb431f3",
   "metadata": {},
   "outputs": [],
   "source": [
    "def declare(i):\n",
    "    state = {}\n",
    "    state['s'] = Symbol('s'+str(i),INT)\n",
    "    state['t'] = Symbol('t'+str(i),INT)\n",
    "    state['r'] = Symbol('r'+str(i),INT)\n",
    "    state['s_prox'] = Symbol('s_prox'+str(i),INT)\n",
    "    state['t_prox'] = Symbol('t_prox'+str(i),INT)\n",
    "    state['r_prox'] = Symbol('r_prox'+str(i),INT)\n",
    "    state['q'] = Symbol('q'+str(i),INT)\n",
    "\n",
    "    return state"
   ]
  },
  {
   "cell_type": "code",
   "execution_count": 41,
   "id": "dd53bd10",
   "metadata": {},
   "outputs": [],
   "source": [
    "def init(state, a, b):\n",
    "    a = int(a)\n",
    "    b = int(b)\n",
    "    \n",
    "    A = Equals(state['r'], Int(a))\n",
    "    B = Equals(state['r_prox'], Int(b))\n",
    "    C = Equals(state['s'], Int(1))\n",
    "    D = Equals(state['s_prox'], Int(0))\n",
    "    E = Equals(state['t'], Int(0))\n",
    "    F = Equals(state['t_prox'], Int(1))\n",
    "    \n",
    "    return And(A, B, C, D, E, F)"
   ]
  },
  {
   "cell_type": "code",
   "execution_count": 42,
   "id": "e56941e3",
   "metadata": {},
   "outputs": [],
   "source": [
    "def trans(curr):\n",
    "    t = And(Equals(curr['q'], Div(curr['r'], curr['r_prox'])),\n",
    "            Equals(curr['r'], curr['r_prox']), \n",
    "            Equals(curr['r_prox'], Times(Minus(curr['r'], curr['q']), curr['r_prox'])), \n",
    "            Equals(curr['s'], curr['s_prox']), \n",
    "            Equals(curr['s_prox'], Minus(curr['s'], Times(curr['q'], curr['s_prox']))),\n",
    "            Equals(curr['t'], curr['t_prox']),\n",
    "            Equals(curr['t_prox'], Minus(curr['t'], Times(curr['q'], curr['t_prox']))),\n",
    "            )\n",
    "    return t"
   ]
  },
  {
   "cell_type": "code",
   "execution_count": 51,
   "id": "962a5ca3",
   "metadata": {},
   "outputs": [
    {
     "name": "stdout",
     "output_type": "stream",
     "text": [
      "> State s: s = 1\n",
      "> State t: t = 0\n",
      "> State r: r = 5\n",
      "> State s_prox: s_prox = 0\n",
      "> State t_prox: t_prox = 1\n",
      "> State r_prox: r_prox = 6\n",
      "> State q: q = 0\n"
     ]
    }
   ],
   "source": [
    "def combine(i, a, b):\n",
    "    states = declare(i)\n",
    "    \n",
    "    formula = And(Or(Not(Equals(states['r'], Int(0))), trans(states)))\n",
    "\n",
    "    with Solver() as solver:\n",
    "        # Falta algum while para verificar a condição do ciclo (pelo menos a meu ver)\n",
    "        solver.add_assertion(init(states, a, b))\n",
    "        solver.add_assertion(formula)\n",
    "        \n",
    "        #solver.push()\n",
    "        solver.add_assertion(Equals(Plus(Times(Int(a), states['s']), Times(Int(b), states['t'])), states['r']))\n",
    "        \n",
    "        if solver.solve():\n",
    "            for key, value in states.items():\n",
    "                print(f\"> State {key}: {key} = {solver.get_value(value)}\")\n",
    "        else:\n",
    "            print(\"> Not feasible.\")\n",
    "        \n",
    "        #solve.pop()\n",
    "\n",
    "combine(0, 5, 6)"
   ]
  },
  {
   "cell_type": "code",
   "execution_count": null,
   "id": "692fd51c",
   "metadata": {},
   "outputs": [],
   "source": []
  }
 ],
 "metadata": {
  "authors": [
   {
    "name": "Bruno Dias da Gião A96544"
   },
   {
    "name": "João Luis da Cruz Pereira A95375"
   },
   {
    "name": "David Alberto Agra A95726"
   }
  ],
  "kernelspec": {
   "display_name": "Python 3 (ipykernel)",
   "language": "python",
   "name": "python3"
  },
  "language_info": {
   "codemirror_mode": {
    "name": "ipython",
    "version": 3
   },
   "file_extension": ".py",
   "mimetype": "text/x-python",
   "name": "python",
   "nbconvert_exporter": "python",
   "pygments_lexer": "ipython3",
   "version": "3.11.5"
  },
  "title": "Lógica Computacional - TP1 Exercício 1 - G01"
 },
 "nbformat": 4,
 "nbformat_minor": 5
}
