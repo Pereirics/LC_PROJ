{
 "cells": [
  {
   "cell_type": "markdown",
   "id": "86977633",
   "metadata": {},
   "source": [
    "# Exercício 1 - Enunciado"
   ]
  },
  {
   "cell_type": "markdown",
   "id": "31366cc2",
   "metadata": {},
   "source": [
    "No contexto do sistema de travagem ABS (“Anti-Lock Breaking System”), pretende-se construir um autómato híbrido que descreva o sistema e que  possa ser usado para verificar as suas propriedades dinâmicas.\n",
    "\n",
    "    \n",
    "    - A componente discreta do autómato contém os modos:  `Start`,  `Free`,  `Stopping`, `Blocked`, e `Stopped`. \n",
    "        - o modo `Start` inicia o funcionamento com os valores iniciais das velocidades\n",
    "        - no modo `Free`  não existe qualquer força de travagem; \n",
    "        - no modo `Stopping` aplica-se a força de travagem alta; \n",
    "        - no modo `Blocked` as rodas estão bloqueadas em relação ao corpo mas o veículo  move-se (i.e. derrapa) com pequeno atrito ao solo; \n",
    "        - no modo `Stopped` o veículo está imobilizado.\n",
    "    - A componente contínua  do autómato usa variáveis contínuas $$\\,V,v\\,$$ para descrever a  `velocidade do corpo`   e a `velocidade linear das rodas`  ambas em relação so solo.\n",
    "    - Assume-se que o sistema de travagem exerce uma força de atrito proporcional à diferença das duas velocidades.  A dinâmica contínua, as equações de fluxo, está descrita  abaixo.\n",
    "    - Os “switchs” são a componente de projeto deste trabalho; cabe ao aluno definir quais devem ser  de modo a que o sistema tenha um comportamento desejável: imobilize-se depressa e não “derrape” muito.\n",
    "    - É imprescindível evitar que o sistema tenha “trajetórias de Zenão”. Isto é, sequências  infinitas de transições  entre dois modos em intervalos de tempo  que tendem para zero mas nunca alcançam zero.\n",
    "\n",
    "Faça \n",
    "\n",
    "1. Defina um autómato híbrido que descreva a dinâmica do sistema segundo as notas abaixo indicadas e com os “switchs” por si escolhidos.\n",
    "2. A condição de segurança estabelece que o sistema não permaneça no modo `free`  ou no modo `blocked` mais do que $$\\,\\tau\\,$$ segundos.\n",
    "3. Defina um SFOTS que modele a discretização do autómato híbrido.\n",
    "4. Verifique nesse modelo\n",
    "    1. Que as condições de segurança são invariantes do sistema\n",
    "    2. Que o sistema atinge o estado `stopped` eventualmente.\n",
    "    \n",
    "Equações de Fluxo \n",
    "\n",
    "1. Durante  a travagem não existe qualquer  força no sistema excepto as forças de atrito. Quando uma superfície se desloca em relação à outra, a força de atrito  é proporcional à força de compressão entre elas. \n",
    "2. No contacto rodas/solo a força de compressão é dada pelo o peso $$P$$ que é constante e independente do modo. Tem-se $$f = a\\, P$$ sendo  $$a$$ a constante de atrito; o valor de $$a$$ depende do modo: é baixa em `Blocked` e alta nos restantes.\n",
    "3. No contacto corpo/rodas,  a força de compressão é a força de travagem que aqui se assume como proporcional à diferença de velocidades\n",
    "\n",
    "                                                                      $$F =  c\\, (V-v)$$\n",
    "      A  constante de proporcionalidade $$c$$ depende do modo: é elevada no modo `Stopping` e baixa nos outros.\n",
    "\n",
    "4. As  equações que traduzem a dinâmica  do sistema são, em todos os modo excepto `Blocked`,\n",
    "\n",
    "                                                        $$(\\dot{V} \\,=\\, -F)\\,\\land\\, (\\dot{v} \\,=\\, -a\\, P  + F)$$   \n",
    "e , no modo `Blocked`,  a dinâmica do sistema é  regida por\n",
    "                                                         $$(V = v) \\;\\land\\; (\\,\\dot{v}\\,=\\, -a\\, P\\,)$$\n",
    "\n",
    "6. Tanto no modo `Blocked`  como no modo `Free`  existe um “timer” que impede que o controlo aí permaneça mais do que $$\\,\\tau\\,$$segundos.  Os     $$\\mathsf{switch}(V,v,t,V',v',t')\\,$$  nesses modos devem forçar esta condição. \n",
    "7. Todos os “switchs” devem ser construídos de  modo a impedir a existência de trajetórias de Zenão.\n",
    "8. No instante inicial  o modo é  `Start` e  tem-se $$\\,V = v\\,=\\,V_0$$  . A velocidade $$V_0$$ é  “input” do problema."
   ]
  },
  {
   "cell_type": "markdown",
   "id": "f5e7e976",
   "metadata": {},
   "source": [
    "# Exercício 1 - Solução"
   ]
  }
 ],
 "metadata": {
  "kernelspec": {
   "display_name": "Python 3 (ipykernel)",
   "language": "python",
   "name": "python3"
  },
  "language_info": {
   "codemirror_mode": {
    "name": "ipython",
    "version": 3
   },
   "file_extension": ".py",
   "mimetype": "text/x-python",
   "name": "python",
   "nbconvert_exporter": "python",
   "pygments_lexer": "ipython3",
   "version": "3.11.5"
  }
 },
 "nbformat": 4,
 "nbformat_minor": 5
}
