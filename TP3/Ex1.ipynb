{
 "cells": [
  {
   "cell_type": "markdown",
   "id": "838204ca-583a-4193-9c0f-1aaf1cc6c410",
   "metadata": {
    "editable": true,
    "slideshow": {
     "slide_type": ""
    },
    "tags": []
   },
   "source": [
    "# Exercício 1 - Enunciado"
   ]
  },
  {
   "cell_type": "markdown",
   "id": "76644162-0fcb-4d03-a9de-be943d3c55d7",
   "metadata": {},
   "source": [
    "Considere-se de novo o algoritmo estendido de Euclides apresentado no TP2  mas usando o tipo dos inteiros e um parâmetro $N>0$\n",
    "```\n",
    "    INPUT  a, b : Int\n",
    "    assume  a > 0 and b > 0 and a < N and b < N\n",
    "    r, r', s, s', t, t' = a, b, 1, 0, 0, 1\n",
    "    while r' != 0\n",
    "      q = r div r'\n",
    "      r, r', s, s', t, t' = r', r − q × r', s', s − q × s', t', t − q × t' \n",
    "    OUTPUT r, s, t\n",
    "```\n",
    "\n",
    "Exercício 1\n",
    "\n",
    "Este exercício é dirigido às provas de segurança do algoritmo acima.\n",
    "\n",
    "1. Construa um FOTS $\\Sigma\\,\\equiv\\,\\langle\\mathsf{X}, \\mathsf{I},\\mathsf{T}\\rangle\\,$ usando este modelo nos inteiros. \n",
    "2. Considere como propriedade de segurança\n",
    "                        `safety = (r > 0) and (r < N) and (r = a*s + b*t)`\n",
    "    Prove usando $k$-indução que esta propriedade se verifica em qualquer traço do FOTS\n",
    "3. Prove usando “Model-Checking” com interpelantes e invariantes prove também que esta propriedade é um invariante em qualquer traço de $\\,\\Sigma\\,$.\n"
   ]
  },
  {
   "cell_type": "markdown",
   "id": "99e67818-359d-46bf-88bc-1c3b0d219385",
   "metadata": {},
   "source": [
    "# Exercício 1 - Solução"
   ]
  },
  {
   "cell_type": "code",
   "execution_count": null,
   "id": "4ac05767-7f13-45a1-aa1f-9d7eb5bbabbd",
   "metadata": {},
   "outputs": [],
   "source": []
  }
 ],
 "metadata": {
  "authors": [
   {
    "name": "Bruno Dias da Gião A96544"
   },
   {
    "name": "João Luis da Cruz Pereira A95375"
   },
   {
    "name": "David Alberto Agra A95726"
   }
  ],
  "kernelspec": {
   "display_name": "venv",
   "language": "python",
   "name": "venv"
  },
  "language_info": {
   "codemirror_mode": {
    "name": "ipython",
    "version": 3
   },
   "file_extension": ".py",
   "mimetype": "text/x-python",
   "name": "python",
   "nbconvert_exporter": "python",
   "pygments_lexer": "ipython3",
   "version": "3.11.5"
  },
  "title": "Lógica Computacional - TP3 Exercício 1 - G01"
 },
 "nbformat": 4,
 "nbformat_minor": 5
}
