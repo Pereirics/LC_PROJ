{
 "cells": [
  {
   "cell_type": "markdown",
   "id": "838204ca-583a-4193-9c0f-1aaf1cc6c410",
   "metadata": {
    "slideshow": {
     "slide_type": ""
    },
    "tags": []
   },
   "source": [
    "# Exercício 1 - Enunciado"
   ]
  },
  {
   "cell_type": "markdown",
   "id": "76644162-0fcb-4d03-a9de-be943d3c55d7",
   "metadata": {},
   "source": [
    "Considere-se de novo o algoritmo estendido de Euclides apresentado no TP2  mas usando o tipo dos inteiros e um parâmetro $N>0$\n",
    "```\n",
    "    INPUT  a, b : Int\n",
    "    assume  a > 0 and b > 0 and a < N and b < N\n",
    "    r, r', s, s', t, t' = a, b, 1, 0, 0, 1\n",
    "    while r' != 0\n",
    "      q = r div r'\n",
    "      r, r', s, s', t, t' = r', r − q × r', s', s − q × s', t', t − q × t' \n",
    "    OUTPUT r, s, t\n",
    "```\n",
    "\n",
    "Este exercício é dirigido às provas de segurança do algoritmo acima.\n",
    "\n",
    "1. Construa um FOTS $\\Sigma\\,\\equiv\\,\\langle\\mathsf{X}, \\mathsf{I},\\mathsf{T}\\rangle\\,$ usando este modelo nos inteiros. \n",
    "2. Considere como propriedade de segurança\n",
    "                        `safety = (r > 0) and (r < N) and (r = a*s + b*t)`\n",
    "    Prove usando $k$-indução que esta propriedade se verifica em qualquer traço do FOTS\n",
    "3. Prove usando “Model-Checking” com interpelantes e invariantes prove também que esta propriedade é um invariante em qualquer traço de $\\,\\Sigma\\,$.\n"
   ]
  },
  {
   "cell_type": "markdown",
   "id": "99e67818-359d-46bf-88bc-1c3b0d219385",
   "metadata": {},
   "source": [
    "# Exercício 1 - Solução"
   ]
  },
  {
   "cell_type": "markdown",
   "id": "b4f1e1b7",
   "metadata": {},
   "source": [
    "## Construção do FOTS"
   ]
  },
  {
   "cell_type": "code",
   "execution_count": null,
   "id": "270d79e1-fb48-43d9-8019-4c848de5a7fd",
   "metadata": {},
   "outputs": [],
   "source": [
    "from pysmt.shortcuts import *\n",
    "from pysmt.typing import INT\n",
    "import itertools\n",
    "from random import randint"
   ]
  },
  {
   "cell_type": "markdown",
   "id": "fe8ea4cf",
   "metadata": {},
   "source": [
    "Consideremos a seguinte variação, trivialmente, equivalente do pseudocódigo apresentado, que ajudará na implementação do sistema de tal forma\n",
    "a que seja aceitável pelo solver `MathSAT` e de tal forma a que as atribuições, no cíclo, sejam lineares."
   ]
  },
  {
   "cell_type": "markdown",
   "id": "c00d1113",
   "metadata": {},
   "source": [
    "```py\n",
    "INPUT  a, b : Int\n",
    "assume  a > 0 and b > 0 and a < N and b < N\n",
    "r, r_prime, s, s_prime, t, t_prime = a, b, 1, 0, 0, 1\n",
    "while r_prime != 0\n",
    "    q = 0, cx = r, rx = 0, sx = 0, tx = 0\n",
    "    while cx >= r_prime:\n",
    "        cx -= r_prime, q += 1, rx += r_prime, sx += s_prime, tx += t_prime\n",
    "    r, r_prime, s, s_prime, t, t_prime = r_prime, r − q × rx, s_prime, s − q × sx, t_prime, t − q × tx\n",
    "OUTPUT r, s, t\n",
    "```"
   ]
  },
  {
   "cell_type": "markdown",
   "id": "4c6096e9",
   "metadata": {},
   "source": [
    "Começemos, naturalmente, pela construção do FOTS $\\Sigma$.\n",
    "\n",
    "Ora, definemos:\n",
    "\n",
    "* espaço de variáveis como $X_0,X_1,X_2,X_3,X_4,X_5,X_6 := (pc, r, r\\_prime, s, s\\_prime, t, t\\_prime, q, cx, rx, sx, tx)$"
   ]
  },
  {
   "cell_type": "code",
   "execution_count": null,
   "id": "06ee05cd-4be2-4d9b-ab8b-f6996346772e",
   "metadata": {},
   "outputs": [],
   "source": [
    "X = [\"pc\", \"r\", \"r_prime\", \"s\", \"s_prime\", \"t\", \"t_prime\", \"q\", \"cx\", \"rx\", \"sx\", \"tx\"]\n",
    "def genState(var,s,i):\n",
    "    state = {}\n",
    "    for v in var:\n",
    "        state[v] = Symbol(v+'!'+s+str(i),INT)\n",
    "    return state"
   ]
  },
  {
   "cell_type": "markdown",
   "id": "7201fff9",
   "metadata": {},
   "source": [
    "* estados iniciais sendo determinados pelo predicado\n",
    "$$init(a,b,N) = pc = 0 \\wedge a > 0 \\wedge b > 0 \\wedge N > 0 \\wedge N > a \\wedge N > b $$"
   ]
  },
  {
   "cell_type": "code",
   "execution_count": null,
   "id": "ab511b99",
   "metadata": {},
   "outputs": [],
   "source": [
    "def init(state, a, b, N):\n",
    "\n",
    "    # Pre:\n",
    "    A = Equals(state['pc'], Int(0))\n",
    "    B = GT(Int(a), Int(0))\n",
    "    C = GT(Int(b), Int(0))\n",
    "    D = GT(Int(N), Int(0))\n",
    "    E = GT(Int(N), Int(a))\n",
    "    F = GT(Int(N), Int(b))\n",
    "    return And(A,B,C,D,E,F) "
   ]
  },
  {
   "cell_type": "markdown",
   "id": "ea7f1aab",
   "metadata": {},
   "source": [
    "* e transições:\n",
    "$$\\delta(0,1), \\delta(1,2), \\delta(1,f), \\delta(2,3), \\delta(3,4), \\delta(4,3), \\delta(3,5), \\delta(5,1)\\;e\\;\\delta(6,6)$$\n",
    "tais que:"
   ]
  },
  {
   "cell_type": "code",
   "execution_count": null,
   "id": "d60ce03c-e01a-40bf-9738-739da8b44da1",
   "metadata": {},
   "outputs": [],
   "source": [
    "\n",
    "def trans(curr, prox, a, b):\n",
    "           \n",
    "    t01 = And(\n",
    "        Equals(curr['pc'], Int(0)),\n",
    "        Equals(prox['pc'], Int(1)),\n",
    "        Equals(curr['r'], Int(a)),\n",
    "        Equals(curr['r_prime'], Int(b)),\n",
    "        Equals(curr['s'], Int(1)),\n",
    "        Equals(curr['s_prime'], Int(0)),\n",
    "        Equals(curr['t'], Int(0)),\n",
    "        Equals(curr['t_prime'], Int(1)),\n",
    "        Equals(curr['q'], Int(0)),\n",
    "        Equals(curr[\"cx\"], Int(0)),\n",
    "        Equals(prox[\"rx\"], Int(0)),\n",
    "        Equals(prox[\"sx\"], Int(0)),\n",
    "        Equals(prox[\"tx\"], Int(0)),\n",
    "        Equals(curr[\"cx\"], prox[\"cx\"]),\n",
    "        Equals(prox[\"rx\"], curr['rx']),\n",
    "        Equals(prox[\"sx\"], curr['sx']),\n",
    "        Equals(prox[\"tx\"], curr['tx']),\n",
    "        Equals(curr['r'], prox['r']),\n",
    "        Equals(curr['r_prime'], prox['r_prime']),\n",
    "        Equals(curr['s'], prox['s']),\n",
    "        Equals(curr['s_prime'], prox['s_prime']),\n",
    "        Equals(curr['t'], prox['t']),\n",
    "        Equals(curr['t_prime'], prox['t_prime']),\n",
    "        Equals(curr['q'], prox['q'])\n",
    "    )\n",
    "    \n",
    "    t1f = And(\n",
    "        Equals(curr['pc'], Int(1)),\n",
    "        Equals(prox['pc'], Int(6)),\n",
    "        Equals(curr['r_prime'], Int(0)),\n",
    "        Equals(prox['r_prime'], curr['r_prime']),\n",
    "        Equals(curr['r'], prox['r']),\n",
    "        Equals(curr['s'], prox['s']),\n",
    "        Equals(curr['s_prime'], prox['s_prime']),\n",
    "        Equals(curr['t'], prox['t']),\n",
    "        Equals(curr[\"cx\"], prox[\"cx\"]),\n",
    "        Equals(prox[\"rx\"], curr['rx']),\n",
    "        Equals(prox[\"sx\"], curr['sx']),\n",
    "        Equals(prox[\"tx\"], curr['tx']),\n",
    "        Equals(curr[\"q\"], prox[\"q\"]),\n",
    "        Equals(curr['t_prime'], prox['t_prime'])\n",
    "    )\n",
    "    t12 = And(\n",
    "        Equals(curr['pc'], Int(1)),\n",
    "        Equals(prox['pc'], Int(2)),\n",
    "        Not(Equals(curr['r_prime'], Int(0))),\n",
    "        Equals(curr['r_prime'], prox['r_prime']),\n",
    "        Equals(curr['q'], prox['q']),\n",
    "        Equals(curr['r'], prox['r']),\n",
    "        Equals(curr['s'], prox['s']),\n",
    "        Equals(curr['s_prime'], prox['s_prime']),\n",
    "        Equals(curr['t'], prox['t']),\n",
    "        Equals(curr[\"cx\"], prox[\"cx\"]),\n",
    "        Equals(prox[\"rx\"], curr['rx']),\n",
    "        Equals(prox[\"sx\"], curr['sx']),\n",
    "        Equals(prox[\"tx\"], curr['tx']),\n",
    "        Equals(curr[\"q\"], prox[\"q\"]),\n",
    "        Equals(curr['t_prime'], prox['t_prime'])\n",
    "    )\n",
    "    t23 = And(\n",
    "        Equals(curr['pc'], Int(2)),\n",
    "        Equals(prox['pc'], Int(3)),\n",
    "        Equals(prox[\"cx\"], curr['r']),\n",
    "        Equals(prox[\"rx\"], Int(0)),\n",
    "        Equals(prox[\"sx\"], Int(0)),\n",
    "        Equals(prox[\"tx\"], Int(0)),\n",
    "        Equals(prox['q'], Int(0)),\n",
    "        Equals(curr['r'], prox['r']),\n",
    "        Equals(curr['r_prime'], prox['r_prime']),\n",
    "        Equals(curr['s'], prox['s']),\n",
    "        Equals(curr['s_prime'], prox['s_prime']),\n",
    "        Equals(curr['t'], prox['t']),\n",
    "        Equals(curr['t_prime'], prox['t_prime']),\n",
    "        \n",
    "    )\n",
    "    t34 = And(\n",
    "        Equals(curr['pc'], Int(3)),\n",
    "        Equals(prox['pc'], Int(4)),\n",
    "        GE(curr[\"cx\"], curr['r_prime']),\n",
    "        Equals(curr['r_prime'], prox['r_prime']),\n",
    "        Equals(curr['q'], prox['q']),\n",
    "        Equals(curr['r'], prox['r']),\n",
    "        Equals(curr['s'], prox['s']),\n",
    "        Equals(curr['s_prime'], prox['s_prime']),\n",
    "        Equals(curr['t'], prox['t']),\n",
    "        Equals(curr['t_prime'], prox['t_prime']),\n",
    "        Equals(curr[\"cx\"], prox[\"cx\"]),\n",
    "        Equals(prox[\"rx\"], curr['rx']),\n",
    "        Equals(prox[\"sx\"], curr['sx']),\n",
    "        Equals(prox[\"tx\"], curr['tx'])\n",
    "    )\n",
    "    t43 = And(        \n",
    "        Equals(curr['pc'], Int(4)),\n",
    "        Equals(prox['pc'], Int(3)),\n",
    "        Equals(prox['q'], Plus(curr['q'], Int(1))),\n",
    "        Equals(prox[\"cx\"], Minus(curr[\"cx\"], curr['r_prime'])),\n",
    "        Equals(prox[\"rx\"], Plus(curr['rx'], curr['r_prime'])),\n",
    "        Equals(prox[\"sx\"], Plus(curr['sx'], curr['s_prime'])),\n",
    "        Equals(prox[\"tx\"], Plus(curr['tx'], curr['t_prime'])),\n",
    "        Equals(curr['r'], prox['r']),\n",
    "        Equals(curr['r_prime'], prox['r_prime']),\n",
    "        Equals(curr['s'], prox['s']),\n",
    "        Equals(curr['s_prime'], prox['s_prime']),\n",
    "        Equals(curr['t'], prox['t']),\n",
    "        Equals(curr['t_prime'], prox['t_prime'])\n",
    "    )\n",
    "    t35 = And(\n",
    "        Equals(curr['pc'], Int(3)),\n",
    "        Equals(prox['pc'], Int(5)),\n",
    "        LT(curr[\"cx\"], curr['r_prime']),\n",
    "        Equals(prox['r_prime'], curr['r_prime']),\n",
    "        Equals(curr['r'], prox['r']),\n",
    "        Equals(curr['s'], prox['s']),\n",
    "        Equals(curr['s_prime'], prox['s_prime']),\n",
    "        Equals(curr['t'], prox['t']),\n",
    "        Equals(curr['t_prime'], prox['t_prime']),\n",
    "        Equals(prox['q'], curr['q']),\n",
    "        Equals(curr[\"cx\"], prox[\"cx\"]),\n",
    "        Equals(prox[\"rx\"], curr['rx']),\n",
    "        Equals(prox[\"sx\"], curr['sx']),\n",
    "        Equals(prox[\"tx\"], curr['tx'])\n",
    "\n",
    "    )\n",
    "\n",
    "\n",
    "    t51 = And(\n",
    "        Equals(curr['pc'], Int(5)),\n",
    "        Equals(prox['pc'], Int(1)),\n",
    "        Equals(prox['r'], curr['r_prime']),\n",
    "        Equals(prox['r_prime'], Minus(curr['r'], curr['rx'])),\n",
    "        Equals(prox['s'], curr['s_prime']),\n",
    "        Equals(prox['s_prime'], Minus(curr['s'], curr['sx'])),\n",
    "        Equals(prox['t'], curr['t_prime']),\n",
    "        Equals(prox['t_prime'], Minus(curr['t'], curr['tx'])),\n",
    "        Equals(prox['q'], curr['q']),\n",
    "        Equals(curr[\"cx\"], prox[\"cx\"]),\n",
    "        Equals(prox[\"rx\"], curr['rx']),\n",
    "        Equals(prox[\"sx\"], curr['sx']),\n",
    "        Equals(prox[\"tx\"], curr['tx'])\n",
    "    )\n",
    "    \n",
    "    t66 = And(\n",
    "        Equals(curr['pc'], Int(6)),\n",
    "        Equals(prox['pc'], Int(6)),\n",
    "        Equals(curr['r'], prox['r']),\n",
    "        Equals(curr['r_prime'], prox['r_prime']),\n",
    "        Equals(curr['s'], prox['s']),\n",
    "        Equals(curr['s_prime'], prox['s_prime']),\n",
    "        Equals(curr['t'], prox['t']),\n",
    "        Equals(curr['t_prime'], prox['t_prime']),\n",
    "        Equals(curr['q'], prox['q']),\n",
    "        Equals(curr['cx'], prox['cx']),\n",
    "        Equals(prox[\"rx\"], curr['rx']),\n",
    "        Equals(prox[\"sx\"], curr['sx']),\n",
    "        Equals(prox[\"tx\"], curr['tx'])\n",
    "    )\n",
    "\n",
    "    return Or(t01, t1f, t12, t23, t34, t43, t35, t51, t66)"
   ]
  },
  {
   "cell_type": "markdown",
   "id": "a32550d9",
   "metadata": {},
   "source": [
    "Definemos uma função que gera o traço de $\\Sigma$:"
   ]
  },
  {
   "cell_type": "code",
   "execution_count": null,
   "id": "59fe3943",
   "metadata": {},
   "outputs": [],
   "source": [
    "def genTrace(var,init,trans,post,n, a, b, N):\n",
    "    with Solver(name=\"z3\") as s:\n",
    "        X = [genState(var,'X',i) for i in range(n+1)]   # cria n+1 estados (com etiqueta X)\n",
    "        I = init(X[0], a, b , N)\n",
    "        Tks = [trans(X[i],X[i+1], a, b) for i in range(n)]\n",
    "        \n",
    "        error = Equals(X[-1]['pc'], Int(6))\n",
    "        \n",
    "        if s.solve([I,And(Tks), error]):      # testa se I /\\ T^n  é satisfazível\n",
    "            for i in range(n+1):\n",
    "                print(\"Estado:\",i)\n",
    "                for v in X[i]:\n",
    "                    print(\"          \",v,'=',s.get_value(X[i][v]))\n",
    "            # OUTPUT\n",
    "            print(f\"r = {s.get_value(X[-1]['r'])}, s = {s.get_value(X[-1]['s'])}, t = {s.get_value(X[-1]['t'])}\")\n",
    "        else:\n",
    "            print(\"not sat\")"
   ]
  },
  {
   "cell_type": "markdown",
   "id": "2f033c58",
   "metadata": {},
   "source": [
    "As seguintes definição são codificações das condições que pretendemos provar:"
   ]
  },
  {
   "cell_type": "code",
   "execution_count": null,
   "id": "3d7da4e0-ed5a-4b99-b7df-c2d6b866a780",
   "metadata": {},
   "outputs": [],
   "source": [
    "def safety(state, a, b, N):\n",
    "    A = GT(state['r'], Int(0))\n",
    "    B = GT(Int(N), state['r'])\n",
    "    C = Equals(state['r'], Plus(Times(Int(a), state['s']), Times(Int(b), state['t'])))\n",
    "    return And(A, B, C)\n",
    "\n",
    "def stronger(state, a, b, N):\n",
    "    return And(safety(state,a,b,N), init(state,a,b,N));\n",
    "\n",
    "def error(state, a, b, N):\n",
    "    return Not(safety(state, a, b, N))"
   ]
  },
  {
   "cell_type": "markdown",
   "id": "ad865cc5",
   "metadata": {},
   "source": [
    "Definemos também uma função que implemente $k$-induction:"
   ]
  },
  {
   "cell_type": "code",
   "execution_count": null,
   "id": "dc2572cd",
   "metadata": {},
   "outputs": [],
   "source": [
    "def kinduction_always(var, init, trans, error, n, a, b, N, inv):\n",
    "    with Solver(name=\"z3\") as solver:\n",
    "        X = [genState(var, 'X', i) for i in range(n+1)]\n",
    "        I = init(X[0], a, b, N)\n",
    "        solver.add_assertion(I)\n",
    "        \n",
    "        for i in range(n-1):\n",
    "            solver.add_assertion(trans(X[i], X[i+1], a, b))\n",
    "        \n",
    "        solver.add_assertion(Equals(X[-1]['pc'], Int(6)))\n",
    "        \n",
    "        for i in range(n):\n",
    "            solver.push()\n",
    "            solver.add_assertion(Not(inv(X[i], a, b, N)))\n",
    "            if solver.solve():\n",
    "                print(f\"> Contradição! O invariante não se verifica nos k estados iniciais.\")\n",
    "                for i, state in enumerate(X):\n",
    "                    print(f\"> State {i}: pc = {solver.get_value(state['pc'])}\\nq = {solver.get_value(state['q'])}\\ns = {solver.get_value(state['s'])}\\nt = {solver.get_value(state['t'])}\\nr = {solver.get_value(state['r'])}\\ns' = {solver.get_value(state['s_prime'])}\\nt' = {solver.get_value(state['t_prime'])}\\nr' = {solver.get_value(state['r_prime'])}\")\n",
    "                return\n",
    "            solver.pop()\n",
    "        \n",
    "        X2 = [genState(var, 'X', i+n) for i in range(n+1)]\n",
    "        \n",
    "        for i in range(n):\n",
    "            solver.add_assertion(inv(X2[i], a, b, N))\n",
    "            solver.add_assertion(trans(X2[i],X2[i+1], a, b))\n",
    "        \n",
    "        solver.add_assertion(Not(inv(X2[-1], a, b, N)))\n",
    "        \n",
    "        solver.add_assertion(Equals(X2[-1]['pc'], Int(6)))\n",
    "        \n",
    "        if solver.solve():\n",
    "            print(f\"> Contradição! O passo indutivo não se verifica.\")\n",
    "            for i, state in enumerate(X):\n",
    "                print(f\"> State {i}: pc = {solver.get_value(state['pc'])}\\nq = {solver.get_value(state['q'])}\\ns = {solver.get_value(state['s'])}\\nt = {solver.get_value(state['t'])}\\nr = {solver.get_value(state['r'])}\\ns' = {solver.get_value(state['s_prime'])}\\nt' = {solver.get_value(state['t_prime'])}\\nr' = {solver.get_value(state['r_prime'])}\")\n",
    "            return\n",
    "        \n",
    "        print(f\"> A propriedade verifica-se por k-indução (k={n}).\")"
   ]
  },
  {
   "cell_type": "markdown",
   "id": "c539020a",
   "metadata": {},
   "source": [
    "Continuemos agora para a realização do Model Checking com uso de interpolantes e invariantes."
   ]
  },
  {
   "cell_type": "code",
   "execution_count": null,
   "id": "f5c1762a",
   "metadata": {},
   "outputs": [],
   "source": [
    "def baseName(s):\n",
    "    return ''.join(list(itertools.takewhile(lambda x: x!='!', s)))\n",
    "\n",
    "def rename(form,state):\n",
    "    vs = get_free_variables(form)\n",
    "    pairs = [ (x,state[baseName(x.symbol_name())]) for x in vs ]\n",
    "    return form.substitute(dict(pairs))\n",
    "\n",
    "def same(state1,state2):\n",
    "    return And([Equals(state1[x],state2[x]) for x in state1])\n",
    "\n",
    "def invert(trans, a, b):\n",
    "    return lambda prev, next_ : trans(next_, prev, a, b)"
   ]
  },
  {
   "cell_type": "code",
   "execution_count": null,
   "id": "0c4cf9ed",
   "metadata": {},
   "outputs": [],
   "source": [
    "def model_checking(var, init, trans, error, Nb, Mb, a, b, N):\n",
    "    with Solver(name=\"z3\") as solver:\n",
    "        \n",
    "        # Criar todos os estados que poderão vir a ser necessários.\n",
    "        X = [genState(var, 'X', i) for i in range(Nb+1)]\n",
    "        Y = [genState(var, 'Y', i) for i in range(Mb+1)]\n",
    "        transt = invert(trans, a, b)\n",
    "        \n",
    "        # Estabelecer a ordem pela qual os pares (n, m) vão surgir. Por exemplo:\n",
    "        order = sorted([(a, b) for a in range(1, Nb+1) for b in range(1, Mb+1)], key=lambda tup:tup[0]+tup[1])\n",
    "\n",
    "        # Step 1 implícito na ordem de 'order' e nas definições Rn, Um.\n",
    "        for (n, m) in order:\n",
    "            # Step 2\n",
    "            I= init(X[0], a, b , N)\n",
    "            Tn = And([trans(X[i], X[i+1], a, b) for i in range(n)])\n",
    "            Rn = And(I, Tn)\n",
    "            \n",
    "            E = error(Y[0], a, b, N)\n",
    "            Bm = And([transt(Y[i], Y[i+1]) for i in range(m)])\n",
    "            Um = And(E, Bm)\n",
    "            \n",
    "            Vnm = And(Rn, same(X[n], Y[m]), Um)\n",
    "            if solver.solve([Vnm]):\n",
    "                print(\"> O sistema é inseguro.\")\n",
    "                return\n",
    "            else:\n",
    "                # Step 3\n",
    "                A = And(Rn, same(X[n], Y[m]))\n",
    "                B = Um\n",
    "                C = binary_interpolant(A, B)\n",
    "                \n",
    "                # Salvaguardar cálculo bem-sucedido do interpolante.\n",
    "                if C is None:\n",
    "                    print(\"> O interpolante é None.\")\n",
    "                    break\n",
    "                \n",
    "                # Step 4\n",
    "                C0 = rename(C, X[0])\n",
    "                T = trans(X[0], X[1], a, b)\n",
    "                C1 = rename(C, X[1])\n",
    "                \n",
    "                if not solver.solve([C0, T, Not(C1)]):\n",
    "                    # C é invariante de T.\n",
    "                    print(\"> O sistema é seguro.\")\n",
    "                    return\n",
    "                else:\n",
    "                    # Step 5.1\n",
    "                    S = rename(C, X[n])\n",
    "                    while True:\n",
    "                        # Step 5.2\n",
    "                        T = trans(X[n], Y[m], a, b)\n",
    "                        A = And(S, T)\n",
    "                        if solver.solve([A, Um]):\n",
    "                            print(\"> Não foi encontrado majorante.\")\n",
    "                            break\n",
    "                        else:\n",
    "                            # Step 5.3\n",
    "                            C = binary_interpolant(A, Um)\n",
    "                            Cn = rename(C, X[n])\n",
    "                            if not solver.solve([Cn, Not(S)]):\n",
    "                                # Step 5.4.\n",
    "                                # C(Xn) -> S é tautologia.\n",
    "                                print(\"> O sistema é seguro.\")\n",
    "                                return\n",
    "                            else:\n",
    "                                # Step 5.5.\n",
    "                                # C(Xn) -> S não é tautologia.\n",
    "                                S = Or(S, Cn)\n",
    "    print(\"> Não foi provada a segurança ou insegurança do sistema.\")                               "
   ]
  },
  {
   "cell_type": "markdown",
   "id": "aa2c1254",
   "metadata": {},
   "source": [
    "O seguinte exemplo visualizará a boa execução do código:"
   ]
  },
  {
   "cell_type": "code",
   "execution_count": null,
   "id": "e70f7215",
   "metadata": {},
   "outputs": [],
   "source": [
    "K = 30\n",
    "N = 20"
   ]
  },
  {
   "cell_type": "code",
   "execution_count": null,
   "id": "d1edccf8",
   "metadata": {},
   "outputs": [],
   "source": [
    "n = 13\n",
    "m = 13"
   ]
  },
  {
   "cell_type": "code",
   "execution_count": null,
   "id": "82195226",
   "metadata": {},
   "outputs": [],
   "source": [
    "a = 10\n",
    "b = 8"
   ]
  },
  {
   "cell_type": "code",
   "execution_count": 14,
   "id": "2b305a76",
   "metadata": {},
   "outputs": [
    {
     "name": "stdout",
     "output_type": "stream",
     "text": [
      "> Não foi encontrado majorante.\n"
     ]
    },
    {
     "ename": "KeyboardInterrupt",
     "evalue": "",
     "output_type": "error",
     "traceback": [
      "\u001b[0;31m---------------------------------------------------------------------------\u001b[0m",
      "\u001b[0;31mKeyboardInterrupt\u001b[0m                         Traceback (most recent call last)",
      "\u001b[1;32m/home/bdg/Documents/work/uni/fourth/LC/projects/TP3/Ex1.ipynb Cell 27\u001b[0m line \u001b[0;36m3\n\u001b[1;32m      <a href='vscode-notebook-cell:/home/bdg/Documents/work/uni/fourth/LC/projects/TP3/Ex1.ipynb#X35sZmlsZQ%3D%3D?line=0'>1</a>\u001b[0m genTrace(X, init, trans, error, K, a, b, N)\n\u001b[1;32m      <a href='vscode-notebook-cell:/home/bdg/Documents/work/uni/fourth/LC/projects/TP3/Ex1.ipynb#X35sZmlsZQ%3D%3D?line=1'>2</a>\u001b[0m kinduction_always(X, init, trans, error, \u001b[39m2\u001b[39m, a, b, N, safety)\n\u001b[0;32m----> <a href='vscode-notebook-cell:/home/bdg/Documents/work/uni/fourth/LC/projects/TP3/Ex1.ipynb#X35sZmlsZQ%3D%3D?line=2'>3</a>\u001b[0m model_checking(X, stronger, trans, error, n, m, a, b, N)\n",
      "\u001b[1;32m/home/bdg/Documents/work/uni/fourth/LC/projects/TP3/Ex1.ipynb Cell 27\u001b[0m line \u001b[0;36m5\n\u001b[1;32m     <a href='vscode-notebook-cell:/home/bdg/Documents/work/uni/fourth/LC/projects/TP3/Ex1.ipynb#X35sZmlsZQ%3D%3D?line=55'>56</a>\u001b[0m     \u001b[39mbreak\u001b[39;00m\n\u001b[1;32m     <a href='vscode-notebook-cell:/home/bdg/Documents/work/uni/fourth/LC/projects/TP3/Ex1.ipynb#X35sZmlsZQ%3D%3D?line=56'>57</a>\u001b[0m \u001b[39melse\u001b[39;00m:\n\u001b[1;32m     <a href='vscode-notebook-cell:/home/bdg/Documents/work/uni/fourth/LC/projects/TP3/Ex1.ipynb#X35sZmlsZQ%3D%3D?line=57'>58</a>\u001b[0m     \u001b[39m# Step 5.3\u001b[39;00m\n\u001b[0;32m---> <a href='vscode-notebook-cell:/home/bdg/Documents/work/uni/fourth/LC/projects/TP3/Ex1.ipynb#X35sZmlsZQ%3D%3D?line=58'>59</a>\u001b[0m     C \u001b[39m=\u001b[39m binary_interpolant(A, Um)\n\u001b[1;32m     <a href='vscode-notebook-cell:/home/bdg/Documents/work/uni/fourth/LC/projects/TP3/Ex1.ipynb#X35sZmlsZQ%3D%3D?line=59'>60</a>\u001b[0m     Cn \u001b[39m=\u001b[39m rename(C, X[n])\n\u001b[1;32m     <a href='vscode-notebook-cell:/home/bdg/Documents/work/uni/fourth/LC/projects/TP3/Ex1.ipynb#X35sZmlsZQ%3D%3D?line=60'>61</a>\u001b[0m     \u001b[39mif\u001b[39;00m \u001b[39mnot\u001b[39;00m solver\u001b[39m.\u001b[39msolve([Cn, Not(S)]):\n\u001b[1;32m     <a href='vscode-notebook-cell:/home/bdg/Documents/work/uni/fourth/LC/projects/TP3/Ex1.ipynb#X35sZmlsZQ%3D%3D?line=61'>62</a>\u001b[0m         \u001b[39m# Step 5.4.\u001b[39;00m\n\u001b[1;32m     <a href='vscode-notebook-cell:/home/bdg/Documents/work/uni/fourth/LC/projects/TP3/Ex1.ipynb#X35sZmlsZQ%3D%3D?line=62'>63</a>\u001b[0m         \u001b[39m# C(Xn) -> S é tautologia.\u001b[39;00m\n",
      "File \u001b[0;32m~/Documents/work/uni/fourth/LC/projects/.venv/lib/python3.10/site-packages/pysmt/shortcuts.py:1153\u001b[0m, in \u001b[0;36mbinary_interpolant\u001b[0;34m(formula_a, formula_b, solver_name, logic)\u001b[0m\n\u001b[1;32m   1149\u001b[0m         warnings\u001b[39m.\u001b[39mwarn(\u001b[39m\"\u001b[39m\u001b[39mWarning: Contextualizing formula during \u001b[39m\u001b[39m\"\u001b[39m\n\u001b[1;32m   1150\u001b[0m                       \u001b[39m\"\u001b[39m\u001b[39mbinary_interpolant\u001b[39m\u001b[39m\"\u001b[39m)\n\u001b[1;32m   1151\u001b[0m         formulas[i] \u001b[39m=\u001b[39m env\u001b[39m.\u001b[39mformula_manager\u001b[39m.\u001b[39mnormalize(f)\n\u001b[0;32m-> 1153\u001b[0m \u001b[39mreturn\u001b[39;00m env\u001b[39m.\u001b[39;49mfactory\u001b[39m.\u001b[39;49mbinary_interpolant(formulas[\u001b[39m0\u001b[39;49m], formulas[\u001b[39m1\u001b[39;49m],\n\u001b[1;32m   1154\u001b[0m                                       solver_name\u001b[39m=\u001b[39;49msolver_name,\n\u001b[1;32m   1155\u001b[0m                                       logic\u001b[39m=\u001b[39;49mlogic)\n",
      "File \u001b[0;32m~/Documents/work/uni/fourth/LC/projects/.venv/lib/python3.10/site-packages/pysmt/factory.py:563\u001b[0m, in \u001b[0;36mFactory.binary_interpolant\u001b[0;34m(self, formula_a, formula_b, solver_name, logic)\u001b[0m\n\u001b[1;32m    560\u001b[0m     logic \u001b[39m=\u001b[39m get_logic(_And(formula_a, formula_b))\n\u001b[1;32m    562\u001b[0m \u001b[39mwith\u001b[39;00m \u001b[39mself\u001b[39m\u001b[39m.\u001b[39mInterpolator(name\u001b[39m=\u001b[39msolver_name, logic\u001b[39m=\u001b[39mlogic) \u001b[39mas\u001b[39;00m itp:\n\u001b[0;32m--> 563\u001b[0m     \u001b[39mreturn\u001b[39;00m itp\u001b[39m.\u001b[39;49mbinary_interpolant(formula_a, formula_b)\n",
      "File \u001b[0;32m~/Documents/work/uni/fourth/LC/projects/.venv/lib/python3.10/site-packages/pysmt/solvers/msat.py:1219\u001b[0m, in \u001b[0;36mMSatInterpolator.binary_interpolant\u001b[0;34m(self, a, b)\u001b[0m\n\u001b[1;32m   1218\u001b[0m \u001b[39mdef\u001b[39;00m \u001b[39mbinary_interpolant\u001b[39m(\u001b[39mself\u001b[39m, a, b):\n\u001b[0;32m-> 1219\u001b[0m     res \u001b[39m=\u001b[39m \u001b[39mself\u001b[39;49m\u001b[39m.\u001b[39;49msequence_interpolant([a, b])\n\u001b[1;32m   1220\u001b[0m     \u001b[39mif\u001b[39;00m res \u001b[39mis\u001b[39;00m \u001b[39mnot\u001b[39;00m \u001b[39mNone\u001b[39;00m:\n\u001b[1;32m   1221\u001b[0m         res \u001b[39m=\u001b[39m res[\u001b[39m0\u001b[39m]\n",
      "File \u001b[0;32m~/Documents/work/uni/fourth/LC/projects/.venv/lib/python3.10/site-packages/pysmt/solvers/msat.py:1247\u001b[0m, in \u001b[0;36mMSatInterpolator.sequence_interpolant\u001b[0;34m(self, formulas)\u001b[0m\n\u001b[1;32m   1244\u001b[0m     groups\u001b[39m.\u001b[39mappend(g)\n\u001b[1;32m   1245\u001b[0m     mathsat\u001b[39m.\u001b[39mmsat_assert_formula(env, f)\n\u001b[0;32m-> 1247\u001b[0m res \u001b[39m=\u001b[39m mathsat\u001b[39m.\u001b[39;49mmsat_solve(env)\n\u001b[1;32m   1248\u001b[0m \u001b[39mif\u001b[39;00m res \u001b[39m==\u001b[39m mathsat\u001b[39m.\u001b[39mMSAT_UNKNOWN:\n\u001b[1;32m   1249\u001b[0m     \u001b[39mraise\u001b[39;00m InternalSolverError(\u001b[39m\"\u001b[39m\u001b[39mError in mathsat interpolation: \u001b[39m\u001b[39m%s\u001b[39;00m\u001b[39m\"\u001b[39m \u001b[39m%\u001b[39m\n\u001b[1;32m   1250\u001b[0m                               mathsat\u001b[39m.\u001b[39mmsat_last_error_message(env))\n",
      "\u001b[0;31mKeyboardInterrupt\u001b[0m: "
     ]
    }
   ],
   "source": [
    "\n",
    "genTrace(X, init, trans, error, K, a, b, N)\n",
    "kinduction_always(X, init, trans, error, 2, a, b, N, safety)\n",
    "model_checking(X, stronger, trans, error, n, m, a, b, N)"
   ]
  },
  {
   "cell_type": "markdown",
   "id": "f8352223",
   "metadata": {},
   "source": [
    "# Exercício 1 - Exemplos"
   ]
  },
  {
   "cell_type": "code",
   "execution_count": null,
   "id": "60c5a293",
   "metadata": {},
   "outputs": [],
   "source": [
    "N = int(input(\"> N: \")) + 1\n",
    "a = randint(1,N)\n",
    "b = randint(1,N)\n",
    "K = randint(20,50)\n",
    "n = 15\n",
    "m = 15"
   ]
  },
  {
   "cell_type": "code",
   "execution_count": null,
   "id": "a9174b0e",
   "metadata": {},
   "outputs": [],
   "source": [
    "genTrace(X, init, trans, error, K, a, b, N)\n",
    "kinduction_always(X, init, trans, error, 2, a, b, N, safety)\n",
    "model_checking(X, stronger, trans, error, n, m, a, b, N)"
   ]
  },
  {
   "cell_type": "code",
   "execution_count": null,
   "id": "d9792ff0",
   "metadata": {},
   "outputs": [],
   "source": []
  }
 ],
 "metadata": {
  "authors": [
   {
    "name": "Bruno Dias da Gião A96544"
   },
   {
    "name": "João Luis da Cruz Pereira A95375"
   },
   {
    "name": "David Alberto Agra A95726"
   }
  ],
  "kernelspec": {
   "display_name": "Python 3 (ipykernel)",
   "language": "python",
   "name": "python3"
  },
  "language_info": {
   "codemirror_mode": {
    "name": "ipython",
    "version": 3
   },
   "file_extension": ".py",
   "mimetype": "text/x-python",
   "name": "python",
   "nbconvert_exporter": "python",
   "pygments_lexer": "ipython3",
   "version": "3.11.5"
  },
  "title": "Lógica Computacional - TP3 Exercício 1 - G01"
 },
 "nbformat": 4,
 "nbformat_minor": 5
}
