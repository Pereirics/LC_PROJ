{
 "cells": [
  {
   "cell_type": "markdown",
   "id": "838204ca-583a-4193-9c0f-1aaf1cc6c410",
   "metadata": {
    "slideshow": {
     "slide_type": ""
    },
    "tags": []
   },
   "source": [
    "# Exercício 1 - Enunciado"
   ]
  },
  {
   "cell_type": "markdown",
   "id": "76644162-0fcb-4d03-a9de-be943d3c55d7",
   "metadata": {},
   "source": [
    "Considere-se de novo o algoritmo estendido de Euclides apresentado no TP2  mas usando o tipo dos inteiros e um parâmetro $N>0$\n",
    "```\n",
    "    INPUT  a, b : Int\n",
    "    assume  a > 0 and b > 0 and a < N and b < N\n",
    "    r, r', s, s', t, t' = a, b, 1, 0, 0, 1\n",
    "    while r' != 0\n",
    "      q = r div r'\n",
    "      r, r', s, s', t, t' = r', r − q × r', s', s − q × s', t', t − q × t' \n",
    "    OUTPUT r, s, t\n",
    "```\n",
    "\n",
    "Este exercício é dirigido às provas de segurança do algoritmo acima.\n",
    "\n",
    "1. Construa um FOTS $\\Sigma\\,\\equiv\\,\\langle\\mathsf{X}, \\mathsf{I},\\mathsf{T}\\rangle\\,$ usando este modelo nos inteiros. \n",
    "2. Considere como propriedade de segurança\n",
    "                        `safety = (r > 0) and (r < N) and (r = a*s + b*t)`\n",
    "    Prove usando $k$-indução que esta propriedade se verifica em qualquer traço do FOTS\n",
    "3. Prove usando “Model-Checking” com interpelantes e invariantes prove também que esta propriedade é um invariante em qualquer traço de $\\,\\Sigma\\,$.\n"
   ]
  },
  {
   "cell_type": "markdown",
   "id": "99e67818-359d-46bf-88bc-1c3b0d219385",
   "metadata": {},
   "source": [
    "# Exercício 1 - Solução"
   ]
  },
  {
   "cell_type": "code",
   "execution_count": 1,
   "id": "270d79e1-fb48-43d9-8019-4c848de5a7fd",
   "metadata": {},
   "outputs": [],
   "source": [
    "from pysmt.shortcuts import *\n",
    "from pysmt.typing import INT"
   ]
  },
  {
   "cell_type": "code",
   "execution_count": 2,
   "id": "06ee05cd-4be2-4d9b-ab8b-f6996346772e",
   "metadata": {},
   "outputs": [],
   "source": [
    "def genState(vars,s,i):\n",
    "    state = {}\n",
    "    for v in vars:\n",
    "        state[v] = Symbol(v+'!'+s+str(i),INT)\n",
    "    return state"
   ]
  },
  {
   "cell_type": "code",
   "execution_count": 3,
   "id": "d60ce03c-e01a-40bf-9738-739da8b44da1",
   "metadata": {},
   "outputs": [],
   "source": [
    "def init(state, a, b, N):\n",
    "\n",
    "    # Pre:\n",
    "    A = Equals(state['pc'], Int(0))\n",
    "    B = GT(Int(a), Int(0))\n",
    "    C = GT(Int(b), Int(0))\n",
    "    D = GT(Int(N), Int(0))\n",
    "    E = GT(Int(N), Int(a))\n",
    "    F = GT(Int(N), Int(b))\n",
    "    G = And(Equals(state['r'], Int(a)),\n",
    "        Equals(state['r_prime'], Int(b)),\n",
    "        Equals(state['s'], Int(1)),\n",
    "        Equals(state['s_prime'], Int(0)),\n",
    "        Equals(state['t'], Int(0)),\n",
    "        Equals(state['t_prime'], Int(1)),\n",
    "           Equals(state['q'], Int(0)))\n",
    "    return And(A,B,C,D,E,F, G) \n",
    "    \n",
    "def error(state):\n",
    "    return LT(state['r'], Int(0))\n",
    "\n",
    "def trans(curr, prox, a, b):\n",
    "           \n",
    "    t01 = And(\n",
    "        Equals(curr['pc'], Int(0)),\n",
    "        Equals(prox['pc'], Int(1)),\n",
    "        Equals(curr['r'], prox['r']),\n",
    "        Equals(curr['r_prime'], prox['r_prime']),\n",
    "        Equals(curr['s'], prox['s']),\n",
    "        Equals(curr['s_prime'], prox['s_prime']),\n",
    "        Equals(curr['t'], prox['t']),\n",
    "        Equals(curr['t_prime'], prox['t_prime']),\n",
    "        Equals(curr['q'], prox['q'])\n",
    "    )\n",
    "    \n",
    "    t14 = And(\n",
    "        Equals(curr['pc'], Int(1)),\n",
    "        Equals(prox['pc'], Int(4)),\n",
    "        Equals(curr['r_prime'], Int(0)),\n",
    "        Equals(prox['r_prime'], curr['r_prime']),\n",
    "        Equals(curr['r'], prox['r']),\n",
    "        Equals(curr['s'], prox['s']),\n",
    "        Equals(curr['s_prime'], prox['s_prime']),\n",
    "        Equals(curr['t'], prox['t']),\n",
    "        Equals(curr['t_prime'], prox['t_prime'])\n",
    "    )\n",
    "\n",
    "    t12 = And(\n",
    "        Equals(curr['pc'], Int(1)),\n",
    "        Equals(prox['pc'], Int(2)),\n",
    "        Not(Equals(curr['r_prime'], Int(0))),\n",
    "        Equals(curr['r_prime'], prox['r_prime']),\n",
    "        Equals(curr['r'], prox['r']),\n",
    "        Equals(curr['s'], prox['s']),\n",
    "        Equals(curr['s_prime'], prox['s_prime']),\n",
    "        Equals(curr['t'], prox['t']),\n",
    "        Equals(curr['t_prime'], prox['t_prime']),\n",
    "        Equals(curr['q'], prox['q'])\n",
    "    )\n",
    "        \n",
    "    quotient = 0\n",
    "    r = curr['r']\n",
    "    r_prime = curr['r_prime']\n",
    "    \n",
    "    while r >= r_prime:\n",
    "        r -= r_prime\n",
    "        quotient += 1\n",
    "    division = quotient\n",
    "    \n",
    "    t23 = And(\n",
    "        Equals(curr['pc'], Int(2)),\n",
    "        Equals(prox['pc'], Int(3)),\n",
    "        Equals(prox['q'], division),\n",
    "        Equals(curr['r'], prox['r']),\n",
    "        Equals(curr['r_prime'], prox['r_prime']),\n",
    "        Equals(curr['s'], prox['s']),\n",
    "        Equals(curr['s_prime'], prox['s_prime']),\n",
    "        Equals(curr['t'], prox['t']),\n",
    "        Equals(curr['t_prime'], prox['t_prime'])\n",
    "    )\n",
    "    \n",
    "    times_q_r_prox = Times(curr['q'], curr['r_prime'])\n",
    "    times_q_s_prox = Times(curr['q'], curr['s_prime'])\n",
    "    times_q_t_prox = Times(curr['q'], curr['t_prime'])\n",
    "    \n",
    "    minus_r_times = Minus(curr['r'], times_q_r_prox)\n",
    "    minus_s_times = Minus(curr['s'], times_q_s_prox)\n",
    "    minus_t_times = Minus(curr['t'], times_q_t_prox)\n",
    "\n",
    "    t31 = And(\n",
    "        Equals(curr['pc'], Int(3)),\n",
    "        Equals(prox['pc'], Int(1)),\n",
    "        Equals(prox['r'], curr['r_prime']),\n",
    "        Equals(prox['r_prime'], minus_r_times),\n",
    "        Equals(prox['s'], curr['s_prime']),\n",
    "        Equals(prox['s_prime'], minus_s_times),\n",
    "        Equals(prox['t'], curr['t_prime']),\n",
    "        Equals(prox['t_prime'], minus_t_times),\n",
    "        Equals(prox['q'], curr['q'])\n",
    "    )\n",
    "    \n",
    "    t44 = And(\n",
    "        Equals(curr['pc'], Int(4)),\n",
    "        Equals(prox['pc'], Int(4)),\n",
    "        Equals(curr['r'], prox['r']),\n",
    "        Equals(curr['r_prime'], prox['r_prime']),\n",
    "        Equals(curr['s'], prox['s']),\n",
    "        Equals(curr['s_prime'], prox['s_prime']),\n",
    "        Equals(curr['t'], prox['t']),\n",
    "        Equals(curr['t_prime'], prox['t_prime']),\n",
    "        Equals(curr['q'], prox['q'])\n",
    "    )\n",
    "    \n",
    "    return Or(t01, t14, t12, t23, t31, t44)"
   ]
  },
  {
   "cell_type": "code",
   "execution_count": 4,
   "id": "07e479cb-23c4-49ca-9338-b653a7aab033",
   "metadata": {},
   "outputs": [],
   "source": [
    "def genTrace(vars,init,trans,error,n, a, b, N):\n",
    "    with Solver(name=\"z3\") as s:\n",
    "        X = [genState(vars,'X',i) for i in range(n+1)]   # cria n+1 estados (com etiqueta X)\n",
    "        I = init(X[0], a, b , N)\n",
    "        Tks = [trans(X[i],X[i+1], a, b) for i in range(n)]\n",
    "        \n",
    "        if s.solve([I,And(Tks)]):      # testa se I /\\ T^n  é satisfazível\n",
    "            for i in range(n+1):\n",
    "                print(\"Estado:\",i)\n",
    "                for v in X[i]:\n",
    "                    print(\"          \",v,'=',s.get_value(X[i][v]))\n",
    "            # OUTPUT\n",
    "            if (s.get_value(X[-1]['r_prime']).constant_value() == 0 and s.get_value(X[-1]['pc']).constant_value() == 4):\n",
    "                print(f\"r = {s.get_value(X[-1]['r'])}, s = {s.get_value(X[-1]['s'])}, t = {s.get_value(X[-1]['t'])}\")\n",
    "        else:\n",
    "            print(\"not sat\")"
   ]
  },
  {
   "cell_type": "code",
   "execution_count": 5,
   "id": "3d7da4e0-ed5a-4b99-b7df-c2d6b866a780",
   "metadata": {},
   "outputs": [],
   "source": [
    "def safety(state, a, b, N):\n",
    "    A = GT(state['r'], Int(0))\n",
    "    B = GT(Int(N), state['r'])\n",
    "    C = Equals(state['r'], Plus(Times(Int(a), state['s']), Times(Int(b), state['t'])))\n",
    "    return And(A, B, C)\n",
    "\n",
    "def stronger(state, a,b, N):\n",
    "    return And(safety(state,a,b,N), init(state,a,b,N));"
   ]
  },
  {
   "cell_type": "code",
   "execution_count": 6,
   "id": "dc2572cd",
   "metadata": {},
   "outputs": [],
   "source": [
    "def kinduction_always(vars, init, trans, error, n, a, b, N, inv):\n",
    "    with Solver(name=\"z3\") as solver:\n",
    "        X = [genState(vars, 'X', i) for i in range(n+1)]\n",
    "        I = init(X[0], a, b, N)\n",
    "        solver.add_assertion(I)\n",
    "        \n",
    "        for i in range(n-1):\n",
    "            solver.add_assertion(trans(X[i], X[i+1], a, b))\n",
    "        \n",
    "        for i in range(n):\n",
    "            solver.push()\n",
    "            solver.add_assertion(Not(inv(X[i], a, b, N)))\n",
    "            if solver.solve():\n",
    "                print(f\"> Contradição! O invariante não se verifica nos k estados iniciais.\")\n",
    "                for i, state in enumerate(X):\n",
    "                    print(f\"> State {i}: pc = {solver.get_value(state['pc'])}\\nq = {solver.get_value(state['q'])}\\ns = {solver.get_value(state['s'])}\\nt = {solver.get_value(state['t'])}\\nr = {solver.get_value(state['r'])}\\ns' = {solver.get_value(state['s_prime'])}\\nt' = {solver.get_value(state['t_prime'])}\\nr' = {solver.get_value(state['r_prime'])}\")\n",
    "                return\n",
    "            solver.pop()\n",
    "        \n",
    "        X2 = [genState(vars, 'X', i+n) for i in range(n+1)]\n",
    "        \n",
    "        for i in range(n):\n",
    "            solver.add_assertion(inv(X2[i], a, b, N))\n",
    "            solver.add_assertion(trans(X2[i],X2[i+1], a, b))\n",
    "        \n",
    "        solver.add_assertion(Not(inv(X2[-1], a, b, N)))\n",
    "        \n",
    "        if solver.solve():\n",
    "            print(f\"> Contradição! O passo indutivo não se verifica.\")\n",
    "            for i, state in enumerate(X):\n",
    "                print(f\"> State {i}: pc = {solver.get_value(state['pc'])}\\nq = {solver.get_value(state['q'])}\\ns = {solver.get_value(state['s'])}\\nt = {solver.get_value(state['t'])}\\nr = {solver.get_value(state['r'])}\\ns' = {solver.get_value(state['s_prime'])}\\nt' = {solver.get_value(state['t_prime'])}\\nr' = {solver.get_value(state['r_prime'])}\")\n",
    "            return\n",
    "        \n",
    "        print(f\"> A propriedade verifica-se por k-indução (k={n}).\")"
   ]
  },
  {
   "cell_type": "code",
   "execution_count": 7,
   "id": "e70f7215",
   "metadata": {},
   "outputs": [],
   "source": [
    "K = 11\n",
    "N = 9"
   ]
  },
  {
   "cell_type": "code",
   "execution_count": 8,
   "id": "82195226",
   "metadata": {},
   "outputs": [],
   "source": [
    "a = 8\n",
    "b = 6"
   ]
  },
  {
   "cell_type": "code",
   "execution_count": null,
   "id": "2b305a76",
   "metadata": {},
   "outputs": [],
   "source": [
    "vars = [\"pc\", \"r\", \"r_prime\", \"s\", \"s_prime\", \"t\", \"t_prime\", \"q\"]\n",
    "genTrace(vars, stronger, trans, error, K, a, b, N)\n",
    "kinduction_always(vars, stronger, trans, error, K, a, b, N, safety)"
   ]
  }
 ],
 "metadata": {
  "authors": [
   {
    "name": "Bruno Dias da Gião A96544"
   },
   {
    "name": "João Luis da Cruz Pereira A95375"
   },
   {
    "name": "David Alberto Agra A95726"
   }
  ],
  "kernelspec": {
   "display_name": "Python 3 (ipykernel)",
   "language": "python",
   "name": "python3"
  },
  "language_info": {
   "codemirror_mode": {
    "name": "ipython",
    "version": 3
   },
   "file_extension": ".py",
   "mimetype": "text/x-python",
   "name": "python",
   "nbconvert_exporter": "python",
   "pygments_lexer": "ipython3",
   "version": "3.10.13"
  },
  "title": "Lógica Computacional - TP3 Exercício 1 - G01"
 },
 "nbformat": 4,
 "nbformat_minor": 5
}
