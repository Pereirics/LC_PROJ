{
 "cells": [
  {
   "cell_type": "markdown",
   "id": "838204ca-583a-4193-9c0f-1aaf1cc6c410",
   "metadata": {
    "slideshow": {
     "slide_type": ""
    },
    "tags": []
   },
   "source": [
    "# Exercício 1 - Enunciado"
   ]
  },
  {
   "cell_type": "markdown",
   "id": "76644162-0fcb-4d03-a9de-be943d3c55d7",
   "metadata": {},
   "source": [
    "Considere-se de novo o algoritmo estendido de Euclides apresentado no TP2  mas usando o tipo dos inteiros e um parâmetro $N>0$\n",
    "```\n",
    "    INPUT  a, b : Int\n",
    "    assume  a > 0 and b > 0 and a < N and b < N\n",
    "    r, r', s, s', t, t' = a, b, 1, 0, 0, 1\n",
    "    while r' != 0\n",
    "      q = r div r'\n",
    "      r, r', s, s', t, t' = r', r − q × r', s', s − q × s', t', t − q × t' \n",
    "    OUTPUT r, s, t\n",
    "```\n",
    "\n",
    "Este exercício é dirigido às provas de segurança do algoritmo acima.\n",
    "\n",
    "1. Construa um FOTS $\\Sigma\\,\\equiv\\,\\langle\\mathsf{X}, \\mathsf{I},\\mathsf{T}\\rangle\\,$ usando este modelo nos inteiros. \n",
    "2. Considere como propriedade de segurança\n",
    "                        `safety = (r > 0) and (r < N) and (r = a*s + b*t)`\n",
    "    Prove usando $k$-indução que esta propriedade se verifica em qualquer traço do FOTS\n",
    "3. Prove usando “Model-Checking” com interpelantes e invariantes prove também que esta propriedade é um invariante em qualquer traço de $\\,\\Sigma\\,$.\n"
   ]
  },
  {
   "cell_type": "markdown",
   "id": "99e67818-359d-46bf-88bc-1c3b0d219385",
   "metadata": {},
   "source": [
    "# Exercício 1 - Solução"
   ]
  },
  {
   "cell_type": "code",
   "execution_count": 1,
   "id": "270d79e1-fb48-43d9-8019-4c848de5a7fd",
   "metadata": {},
   "outputs": [],
   "source": [
    "from pysmt.shortcuts import *\n",
    "from pysmt.typing import INT"
   ]
  },
  {
   "cell_type": "code",
   "execution_count": 2,
   "id": "06ee05cd-4be2-4d9b-ab8b-f6996346772e",
   "metadata": {},
   "outputs": [],
   "source": [
    "def genState(vars,s,i):\n",
    "    state = {}\n",
    "    for v in vars:\n",
    "        state[v] = Symbol(v+'!'+s+str(i),INT)\n",
    "    return state"
   ]
  },
  {
   "cell_type": "code",
   "execution_count": 10,
   "id": "d60ce03c-e01a-40bf-9738-739da8b44da1",
   "metadata": {},
   "outputs": [],
   "source": [
    "def init(state, a, b, N):\n",
    "\n",
    "    # Pre:\n",
    "    A = Equals(state['pc'], Int(0))\n",
    "    B = GT(Int(a), Int(0))\n",
    "    C = GT(Int(b), Int(0))\n",
    "    D = GT(Int(N), Int(0))\n",
    "    E = GT(Int(N), Int(a))\n",
    "    F = GT(Int(N), Int(b))\n",
    "    return And(A,B,C,D,E,F) \n",
    "    \n",
    "def error(state):\n",
    "    return LT(state['r'], Int(0))\n",
    "\n",
    "def trans(curr, prox, a, b):\n",
    "           \n",
    "    t01 = And(\n",
    "        Equals(curr['pc'], Int(0)),\n",
    "        Equals(prox['pc'], Int(1)),\n",
    "        Equals(curr['r'], Int(a)),\n",
    "        Equals(curr['r_prime'], Int(b)),\n",
    "        Equals(curr['s'], Int(1)),\n",
    "        Equals(curr['s_prime'], Int(0)),\n",
    "        Equals(curr['t'], Int(0)),\n",
    "        Equals(curr['t_prime'], Int(1)),\n",
    "        Equals(curr['q'], Int(0)),\n",
    "        Equals(curr['r'], prox['r']),\n",
    "        Equals(curr['r_prime'], prox['r_prime']),\n",
    "        Equals(curr['s'], prox['s']),\n",
    "        Equals(curr['s_prime'], prox['s_prime']),\n",
    "        Equals(curr['t'], prox['t']),\n",
    "        Equals(curr['t_prime'], prox['t_prime']),\n",
    "        Equals(curr['q'], prox['q'])\n",
    "    )\n",
    "    \n",
    "    t14 = And(\n",
    "        Equals(curr['pc'], Int(1)),\n",
    "        Equals(prox['pc'], Int(4)),\n",
    "        Equals(curr['r_prime'], Int(0)),\n",
    "        Equals(prox['r_prime'], curr['r_prime']),\n",
    "        Equals(curr['r'], prox['r']),\n",
    "        Equals(curr['s'], prox['s']),\n",
    "        Equals(curr['s_prime'], prox['s_prime']),\n",
    "        Equals(curr['t'], prox['t']),\n",
    "        Equals(curr['t_prime'], prox['t_prime'])\n",
    "    )\n",
    "\n",
    "    t12 = And(\n",
    "        Equals(curr['pc'], Int(1)),\n",
    "        Equals(prox['pc'], Int(2)),\n",
    "        Not(Equals(curr['r_prime'], Int(0))),\n",
    "        Equals(curr['r_prime'], prox['r_prime']),\n",
    "        Equals(curr['r'], prox['r']),\n",
    "        Equals(curr['s'], prox['s']),\n",
    "        Equals(curr['s_prime'], prox['s_prime']),\n",
    "        Equals(curr['t'], prox['t']),\n",
    "        Equals(curr['t_prime'], prox['t_prime']),\n",
    "        Equals(curr['q'], prox['q'])\n",
    "    )\n",
    "\n",
    "    \n",
    "    t23 = And(\n",
    "        Equals(curr['pc'], Int(2)),\n",
    "        Equals(prox['pc'], Int(3)),\n",
    "        Equals(prox['q'], Times(curr['r'], curr['r_prime'])), # duh\n",
    "        Equals(curr['r'], prox['r']),\n",
    "        Equals(curr['r_prime'], prox['r_prime']),\n",
    "        Equals(curr['s'], prox['s']),\n",
    "        Equals(curr['s_prime'], prox['s_prime']),\n",
    "        Equals(curr['t'], prox['t']),\n",
    "        Equals(curr['t_prime'], prox['t_prime'])\n",
    "    )\n",
    "    \n",
    "    times_q_r_prox = Times(curr['q'], curr['r_prime']) # this must change\n",
    "    times_q_s_prox = Times(curr['q'], curr['s_prime'])\n",
    "    times_q_t_prox = Times(curr['q'], curr['t_prime'])\n",
    "    \n",
    "    minus_r_times = Minus(curr['r'], times_q_r_prox)\n",
    "    minus_s_times = Minus(curr['s'], times_q_s_prox)\n",
    "    minus_t_times = Minus(curr['t'], times_q_t_prox)\n",
    "\n",
    "    t31 = And(\n",
    "        Equals(curr['pc'], Int(3)),\n",
    "        Equals(prox['pc'], Int(1)),\n",
    "        Equals(prox['r'], curr['r_prime']),\n",
    "        Equals(prox['r_prime'], minus_r_times),\n",
    "        Equals(prox['s'], curr['s_prime']),\n",
    "        Equals(prox['s_prime'], minus_s_times),\n",
    "        Equals(prox['t'], curr['t_prime']),\n",
    "        Equals(prox['t_prime'], minus_t_times),\n",
    "        Equals(prox['q'], curr['q'])\n",
    "    )\n",
    "\n",
    "    return Or(t01, t14, t12, t23, t31)"
   ]
  },
  {
   "cell_type": "code",
   "execution_count": 18,
   "id": "07e479cb-23c4-49ca-9338-b653a7aab033",
   "metadata": {},
   "outputs": [],
   "source": [
    "def genTrace(vars,init,trans,error,n, a, b, N):\n",
    "    with Solver(name=\"msat\") as s:\n",
    "        X = [genState(vars,'X',i) for i in range(n+1)]   # cria n+1 estados (com etiqueta X)\n",
    "        I = init(X[0], a, b , N)\n",
    "        Tks = [trans(X[i],X[i+1], a, b) for i in range(n)]\n",
    "        \n",
    "        if s.solve([I,And(Tks)]):      # testa se I /\\ T^n  é satisfazível\n",
    "            for i in range(n+1):\n",
    "                print(\"Estado:\",i)\n",
    "                for v in X[i]:\n",
    "                    print(\"          \",v,'=',s.get_value(X[i][v]))\n",
    "            # OUTPUT\n",
    "            if (s.get_value(X[-1]['r_prime']).constant_value() == 0 and s.get_value(X[-1]['pc']).constant_value() == 4):\n",
    "                print(f\"r = {s.get_value(X[-1]['r'])}, s = {s.get_value(X[-1]['s'])}, t = {s.get_value(X[-1]['t'])}\")\n",
    "        else:\n",
    "            print(\"not sat\")"
   ]
  },
  {
   "cell_type": "code",
   "execution_count": 24,
   "id": "3d7da4e0-ed5a-4b99-b7df-c2d6b866a780",
   "metadata": {},
   "outputs": [],
   "source": [
    "def safety(state, a, b, N):\n",
    "    A = GT(state['r'], Int(0))\n",
    "    B = GT(Int(N), state['r'])\n",
    "    C = Equals(state['r'], Plus(Times(Int(a), state['s']), Times(Int(b), state['t']))) # this must change\n",
    "    return And(A, B, C)\n",
    "\n",
    "def stronger(state, a,b, N):\n",
    "    return And(safety(state,a,b,N), init(state,a,b,N));"
   ]
  },
  {
   "cell_type": "code",
   "execution_count": 25,
   "id": "dc2572cd",
   "metadata": {},
   "outputs": [],
   "source": [
    "def kinduction_always(vars, init, trans, error, n, a, b, N, inv):\n",
    "    with Solver(name=\"msat\") as solver:\n",
    "        X = [genState(vars, 'X', i) for i in range(n+1)]\n",
    "        I = init(X[0], a, b, N)\n",
    "        solver.add_assertion(I)\n",
    "        \n",
    "        for i in range(n-1):\n",
    "            solver.add_assertion(trans(X[i], X[i+1], a, b))\n",
    "        \n",
    "        for i in range(n):\n",
    "            solver.push()\n",
    "            solver.add_assertion(Not(inv(X[i], a, b, N)))\n",
    "            if solver.solve():\n",
    "                print(f\"> Contradição! O invariante não se verifica nos k estados iniciais.\")\n",
    "                for i, state in enumerate(X):\n",
    "                    print(f\"> State {i}: pc = {solver.get_value(state['pc'])}\\nq = {solver.get_value(state['q'])}\\ns = {solver.get_value(state['s'])}\\nt = {solver.get_value(state['t'])}\\nr = {solver.get_value(state['r'])}\\ns' = {solver.get_value(state['s_prime'])}\\nt' = {solver.get_value(state['t_prime'])}\\nr' = {solver.get_value(state['r_prime'])}\")\n",
    "                return\n",
    "            solver.pop()\n",
    "        \n",
    "        X2 = [genState(vars, 'X', i+n) for i in range(n+1)]\n",
    "        \n",
    "        for i in range(n):\n",
    "            solver.add_assertion(inv(X2[i], a, b, N))\n",
    "            solver.add_assertion(trans(X2[i],X2[i+1], a, b))\n",
    "        \n",
    "        solver.add_assertion(Not(inv(X2[-1], a, b, N)))\n",
    "        \n",
    "        if solver.solve():\n",
    "            print(f\"> Contradição! O passo indutivo não se verifica.\")\n",
    "            for i, state in enumerate(X):\n",
    "                print(f\"> State {i}: pc = {solver.get_value(state['pc'])}\\nq = {solver.get_value(state['q'])}\\ns = {solver.get_value(state['s'])}\\nt = {solver.get_value(state['t'])}\\nr = {solver.get_value(state['r'])}\\ns' = {solver.get_value(state['s_prime'])}\\nt' = {solver.get_value(state['t_prime'])}\\nr' = {solver.get_value(state['r_prime'])}\")\n",
    "            return\n",
    "        \n",
    "        print(f\"> A propriedade verifica-se por k-indução (k={n}).\")"
   ]
  },
  {
   "cell_type": "code",
   "execution_count": 26,
   "id": "e70f7215",
   "metadata": {},
   "outputs": [],
   "source": [
    "K = 8\n",
    "N = 9"
   ]
  },
  {
   "cell_type": "code",
   "execution_count": 27,
   "id": "82195226",
   "metadata": {},
   "outputs": [],
   "source": [
    "a = 8\n",
    "b = 6"
   ]
  },
  {
   "cell_type": "code",
   "execution_count": 28,
   "id": "2b305a76",
   "metadata": {},
   "outputs": [
    {
     "ename": "NonLinearError",
     "evalue": "(q!X7 * t_prime!X7)",
     "output_type": "error",
     "traceback": [
      "\u001b[0;31m---------------------------------------------------------------------------\u001b[0m",
      "\u001b[0;31mNonLinearError\u001b[0m                            Traceback (most recent call last)",
      "\u001b[1;32m/home/bdg/Documents/work/uni/fourth/LC/projects/TP3/Ex1.ipynb Cell 12\u001b[0m line \u001b[0;36m2\n\u001b[1;32m      <a href='vscode-notebook-cell:/home/bdg/Documents/work/uni/fourth/LC/projects/TP3/Ex1.ipynb#X33sZmlsZQ%3D%3D?line=0'>1</a>\u001b[0m \u001b[39mvars\u001b[39m \u001b[39m=\u001b[39m [\u001b[39m\"\u001b[39m\u001b[39mpc\u001b[39m\u001b[39m\"\u001b[39m, \u001b[39m\"\u001b[39m\u001b[39mr\u001b[39m\u001b[39m\"\u001b[39m, \u001b[39m\"\u001b[39m\u001b[39mr_prime\u001b[39m\u001b[39m\"\u001b[39m, \u001b[39m\"\u001b[39m\u001b[39ms\u001b[39m\u001b[39m\"\u001b[39m, \u001b[39m\"\u001b[39m\u001b[39ms_prime\u001b[39m\u001b[39m\"\u001b[39m, \u001b[39m\"\u001b[39m\u001b[39mt\u001b[39m\u001b[39m\"\u001b[39m, \u001b[39m\"\u001b[39m\u001b[39mt_prime\u001b[39m\u001b[39m\"\u001b[39m, \u001b[39m\"\u001b[39m\u001b[39mq\u001b[39m\u001b[39m\"\u001b[39m]\n\u001b[0;32m----> <a href='vscode-notebook-cell:/home/bdg/Documents/work/uni/fourth/LC/projects/TP3/Ex1.ipynb#X33sZmlsZQ%3D%3D?line=1'>2</a>\u001b[0m genTrace(\u001b[39mvars\u001b[39;49m, stronger, trans, error, K, a, b, N)\n\u001b[1;32m      <a href='vscode-notebook-cell:/home/bdg/Documents/work/uni/fourth/LC/projects/TP3/Ex1.ipynb#X33sZmlsZQ%3D%3D?line=2'>3</a>\u001b[0m \u001b[39m#kinduction_always(vars, stronger, trans, error, K, a, b, N, safety)\u001b[39;00m\n",
      "\u001b[1;32m/home/bdg/Documents/work/uni/fourth/LC/projects/TP3/Ex1.ipynb Cell 12\u001b[0m line \u001b[0;36m7\n\u001b[1;32m      <a href='vscode-notebook-cell:/home/bdg/Documents/work/uni/fourth/LC/projects/TP3/Ex1.ipynb#X33sZmlsZQ%3D%3D?line=3'>4</a>\u001b[0m I \u001b[39m=\u001b[39m init(X[\u001b[39m0\u001b[39m], a, b , N)\n\u001b[1;32m      <a href='vscode-notebook-cell:/home/bdg/Documents/work/uni/fourth/LC/projects/TP3/Ex1.ipynb#X33sZmlsZQ%3D%3D?line=4'>5</a>\u001b[0m Tks \u001b[39m=\u001b[39m [trans(X[i],X[i\u001b[39m+\u001b[39m\u001b[39m1\u001b[39m], a, b) \u001b[39mfor\u001b[39;00m i \u001b[39min\u001b[39;00m \u001b[39mrange\u001b[39m(n)]\n\u001b[0;32m----> <a href='vscode-notebook-cell:/home/bdg/Documents/work/uni/fourth/LC/projects/TP3/Ex1.ipynb#X33sZmlsZQ%3D%3D?line=6'>7</a>\u001b[0m \u001b[39mif\u001b[39;00m s\u001b[39m.\u001b[39;49msolve([I,And(Tks)]):      \u001b[39m# testa se I /\\ T^n  é satisfazível\u001b[39;00m\n\u001b[1;32m      <a href='vscode-notebook-cell:/home/bdg/Documents/work/uni/fourth/LC/projects/TP3/Ex1.ipynb#X33sZmlsZQ%3D%3D?line=7'>8</a>\u001b[0m     \u001b[39mfor\u001b[39;00m i \u001b[39min\u001b[39;00m \u001b[39mrange\u001b[39m(n\u001b[39m+\u001b[39m\u001b[39m1\u001b[39m):\n\u001b[1;32m      <a href='vscode-notebook-cell:/home/bdg/Documents/work/uni/fourth/LC/projects/TP3/Ex1.ipynb#X33sZmlsZQ%3D%3D?line=8'>9</a>\u001b[0m         \u001b[39mprint\u001b[39m(\u001b[39m\"\u001b[39m\u001b[39mEstado:\u001b[39m\u001b[39m\"\u001b[39m,i)\n",
      "File \u001b[0;32m~/venv/lib/python3.11/site-packages/pysmt/solvers/solver.py:359\u001b[0m, in \u001b[0;36mIncrementalTrackingSolver.solve\u001b[0;34m(self, assumptions)\u001b[0m\n\u001b[1;32m    357\u001b[0m \u001b[39mdef\u001b[39;00m \u001b[39msolve\u001b[39m(\u001b[39mself\u001b[39m, assumptions\u001b[39m=\u001b[39m\u001b[39mNone\u001b[39;00m):\n\u001b[1;32m    358\u001b[0m     \u001b[39mtry\u001b[39;00m:\n\u001b[0;32m--> 359\u001b[0m         res \u001b[39m=\u001b[39m \u001b[39mself\u001b[39;49m\u001b[39m.\u001b[39;49m_solve(assumptions\u001b[39m=\u001b[39;49massumptions)\n\u001b[1;32m    360\u001b[0m         \u001b[39mself\u001b[39m\u001b[39m.\u001b[39m_last_result \u001b[39m=\u001b[39m res\n\u001b[1;32m    361\u001b[0m         \u001b[39mreturn\u001b[39;00m res\n",
      "File \u001b[0;32m~/venv/lib/python3.11/site-packages/pysmt/decorators.py:64\u001b[0m, in \u001b[0;36mclear_pending_pop.<locals>.clear_pending_pop_wrap\u001b[0;34m(self, *args, **kwargs)\u001b[0m\n\u001b[1;32m     62\u001b[0m     \u001b[39mself\u001b[39m\u001b[39m.\u001b[39mpending_pop \u001b[39m=\u001b[39m \u001b[39mFalse\u001b[39;00m\n\u001b[1;32m     63\u001b[0m     \u001b[39mself\u001b[39m\u001b[39m.\u001b[39mpop()\n\u001b[0;32m---> 64\u001b[0m \u001b[39mreturn\u001b[39;00m f(\u001b[39mself\u001b[39;49m, \u001b[39m*\u001b[39;49margs, \u001b[39m*\u001b[39;49m\u001b[39m*\u001b[39;49mkwargs)\n",
      "File \u001b[0;32m~/venv/lib/python3.11/site-packages/pysmt/solvers/msat.py:251\u001b[0m, in \u001b[0;36mMathSAT5Solver._solve\u001b[0;34m(self, assumptions)\u001b[0m\n\u001b[1;32m    249\u001b[0m     \u001b[39mself\u001b[39m\u001b[39m.\u001b[39mpush()\n\u001b[1;32m    250\u001b[0m     \u001b[39m# this introduces new named assertions if named unsat cores.\u001b[39;00m\n\u001b[0;32m--> 251\u001b[0m     \u001b[39mself\u001b[39;49m\u001b[39m.\u001b[39;49madd_assertion(\u001b[39mself\u001b[39;49m\u001b[39m.\u001b[39;49mmgr\u001b[39m.\u001b[39;49mAnd(other_ass))\n\u001b[1;32m    253\u001b[0m n_ass \u001b[39m=\u001b[39m \u001b[39mself\u001b[39m\u001b[39m.\u001b[39m_named_assertions()\n\u001b[1;32m    254\u001b[0m \u001b[39mif\u001b[39;00m n_ass \u001b[39mis\u001b[39;00m \u001b[39mnot\u001b[39;00m \u001b[39mNone\u001b[39;00m \u001b[39mand\u001b[39;00m \u001b[39mlen\u001b[39m(n_ass) \u001b[39m>\u001b[39m \u001b[39m0\u001b[39m:\n",
      "File \u001b[0;32m~/venv/lib/python3.11/site-packages/pysmt/solvers/solver.py:350\u001b[0m, in \u001b[0;36mIncrementalTrackingSolver.add_assertion\u001b[0;34m(self, formula, named)\u001b[0m\n\u001b[1;32m    349\u001b[0m \u001b[39mdef\u001b[39;00m \u001b[39madd_assertion\u001b[39m(\u001b[39mself\u001b[39m, formula, named\u001b[39m=\u001b[39m\u001b[39mNone\u001b[39;00m):\n\u001b[0;32m--> 350\u001b[0m     tracked \u001b[39m=\u001b[39m \u001b[39mself\u001b[39;49m\u001b[39m.\u001b[39;49m_add_assertion(formula, named\u001b[39m=\u001b[39;49mnamed)\n\u001b[1;32m    351\u001b[0m     \u001b[39mself\u001b[39m\u001b[39m.\u001b[39m_assertion_stack\u001b[39m.\u001b[39mappend(tracked)\n\u001b[1;32m    352\u001b[0m     \u001b[39mself\u001b[39m\u001b[39m.\u001b[39m_last_command \u001b[39m=\u001b[39m \u001b[39m\"\u001b[39m\u001b[39massert\u001b[39m\u001b[39m\"\u001b[39m\n",
      "File \u001b[0;32m~/venv/lib/python3.11/site-packages/pysmt/decorators.py:64\u001b[0m, in \u001b[0;36mclear_pending_pop.<locals>.clear_pending_pop_wrap\u001b[0;34m(self, *args, **kwargs)\u001b[0m\n\u001b[1;32m     62\u001b[0m     \u001b[39mself\u001b[39m\u001b[39m.\u001b[39mpending_pop \u001b[39m=\u001b[39m \u001b[39mFalse\u001b[39;00m\n\u001b[1;32m     63\u001b[0m     \u001b[39mself\u001b[39m\u001b[39m.\u001b[39mpop()\n\u001b[0;32m---> 64\u001b[0m \u001b[39mreturn\u001b[39;00m f(\u001b[39mself\u001b[39;49m, \u001b[39m*\u001b[39;49margs, \u001b[39m*\u001b[39;49m\u001b[39m*\u001b[39;49mkwargs)\n",
      "File \u001b[0;32m~/venv/lib/python3.11/site-packages/pysmt/solvers/msat.py:219\u001b[0m, in \u001b[0;36mMathSAT5Solver._add_assertion\u001b[0;34m(self, formula, named)\u001b[0m\n\u001b[1;32m    216\u001b[0m     result \u001b[39m=\u001b[39m (key, named, formula)\n\u001b[1;32m    217\u001b[0m     formula \u001b[39m=\u001b[39m \u001b[39mself\u001b[39m\u001b[39m.\u001b[39mmgr\u001b[39m.\u001b[39mImplies(key, formula)\n\u001b[0;32m--> 219\u001b[0m term \u001b[39m=\u001b[39m \u001b[39mself\u001b[39;49m\u001b[39m.\u001b[39;49mconverter\u001b[39m.\u001b[39;49mconvert(formula)\n\u001b[1;32m    220\u001b[0m res \u001b[39m=\u001b[39m mathsat\u001b[39m.\u001b[39mmsat_assert_formula(\u001b[39mself\u001b[39m\u001b[39m.\u001b[39mmsat_env(), term)\n\u001b[1;32m    222\u001b[0m \u001b[39mif\u001b[39;00m res \u001b[39m!=\u001b[39m \u001b[39m0\u001b[39m:\n",
      "File \u001b[0;32m~/venv/lib/python3.11/site-packages/pysmt/decorators.py:84\u001b[0m, in \u001b[0;36mcatch_conversion_error.<locals>.catch_conversion_error_wrap\u001b[0;34m(*args, **kwargs)\u001b[0m\n\u001b[1;32m     81\u001b[0m \u001b[39m@wraps\u001b[39m(f)\n\u001b[1;32m     82\u001b[0m \u001b[39mdef\u001b[39;00m \u001b[39mcatch_conversion_error_wrap\u001b[39m(\u001b[39m*\u001b[39margs, \u001b[39m*\u001b[39m\u001b[39m*\u001b[39mkwargs):\n\u001b[1;32m     83\u001b[0m     \u001b[39mtry\u001b[39;00m:\n\u001b[0;32m---> 84\u001b[0m         res \u001b[39m=\u001b[39m f(\u001b[39m*\u001b[39;49margs, \u001b[39m*\u001b[39;49m\u001b[39m*\u001b[39;49mkwargs)\n\u001b[1;32m     85\u001b[0m     \u001b[39mexcept\u001b[39;00m pysmt\u001b[39m.\u001b[39mexceptions\u001b[39m.\u001b[39mUnsupportedOperatorError \u001b[39mas\u001b[39;00m ex:\n\u001b[1;32m     86\u001b[0m         \u001b[39mraise\u001b[39;00m pysmt\u001b[39m.\u001b[39mexceptions\u001b[39m.\u001b[39mConvertExpressionError(message\u001b[39m=\u001b[39m\n\u001b[1;32m     87\u001b[0m             \u001b[39m\"\u001b[39m\u001b[39mCould not convert the input expression. \u001b[39m\u001b[39m\"\u001b[39m \u001b[39m+\u001b[39m\n\u001b[1;32m     88\u001b[0m             \u001b[39m\"\u001b[39m\u001b[39mThe formula contains unsupported operators. \u001b[39m\u001b[39m\"\u001b[39m \u001b[39m+\u001b[39m\n\u001b[1;32m     89\u001b[0m             \u001b[39m\"\u001b[39m\u001b[39mThe error was: \u001b[39m\u001b[39m%s\u001b[39;00m\u001b[39m\"\u001b[39m \u001b[39m%\u001b[39m ex\u001b[39m.\u001b[39mmessage,\n\u001b[1;32m     90\u001b[0m         expression\u001b[39m=\u001b[39mex\u001b[39m.\u001b[39mexpression)\n",
      "File \u001b[0;32m~/venv/lib/python3.11/site-packages/pysmt/solvers/msat.py:763\u001b[0m, in \u001b[0;36mMSatConverter.convert\u001b[0;34m(self, formula)\u001b[0m\n\u001b[1;32m    761\u001b[0m \u001b[39m# Rewrite to avoid UF with bool args\u001b[39;00m\n\u001b[1;32m    762\u001b[0m rformula \u001b[39m=\u001b[39m \u001b[39mself\u001b[39m\u001b[39m.\u001b[39m_ufrewriter\u001b[39m.\u001b[39mwalk(formula)\n\u001b[0;32m--> 763\u001b[0m res \u001b[39m=\u001b[39m \u001b[39mself\u001b[39;49m\u001b[39m.\u001b[39;49mwalk(rformula)\n\u001b[1;32m    764\u001b[0m \u001b[39mif\u001b[39;00m mathsat\u001b[39m.\u001b[39mMSAT_ERROR_TERM(res):\n\u001b[1;32m    765\u001b[0m     msat_msg \u001b[39m=\u001b[39m mathsat\u001b[39m.\u001b[39mmsat_last_error_message(\u001b[39mself\u001b[39m\u001b[39m.\u001b[39mmsat_env())\n",
      "File \u001b[0;32m~/venv/lib/python3.11/site-packages/pysmt/walkers/dag.py:106\u001b[0m, in \u001b[0;36mDagWalker.walk\u001b[0;34m(self, formula, **kwargs)\u001b[0m\n\u001b[1;32m    103\u001b[0m \u001b[39mif\u001b[39;00m formula \u001b[39min\u001b[39;00m \u001b[39mself\u001b[39m\u001b[39m.\u001b[39mmemoization:\n\u001b[1;32m    104\u001b[0m     \u001b[39mreturn\u001b[39;00m \u001b[39mself\u001b[39m\u001b[39m.\u001b[39mmemoization[formula]\n\u001b[0;32m--> 106\u001b[0m res \u001b[39m=\u001b[39m \u001b[39mself\u001b[39;49m\u001b[39m.\u001b[39;49miter_walk(formula, \u001b[39m*\u001b[39;49m\u001b[39m*\u001b[39;49mkwargs)\n\u001b[1;32m    108\u001b[0m \u001b[39mif\u001b[39;00m \u001b[39mself\u001b[39m\u001b[39m.\u001b[39minvalidate_memoization:\n\u001b[1;32m    109\u001b[0m     \u001b[39mself\u001b[39m\u001b[39m.\u001b[39mmemoization\u001b[39m.\u001b[39mclear()\n",
      "File \u001b[0;32m~/venv/lib/python3.11/site-packages/pysmt/walkers/dag.py:98\u001b[0m, in \u001b[0;36mDagWalker.iter_walk\u001b[0;34m(self, formula, **kwargs)\u001b[0m\n\u001b[1;32m     96\u001b[0m \u001b[39m\u001b[39m\u001b[39m\"\"\"Performs an iterative walk of the DAG\"\"\"\u001b[39;00m\n\u001b[1;32m     97\u001b[0m \u001b[39mself\u001b[39m\u001b[39m.\u001b[39mstack\u001b[39m.\u001b[39mappend((\u001b[39mFalse\u001b[39;00m, formula))\n\u001b[0;32m---> 98\u001b[0m \u001b[39mself\u001b[39;49m\u001b[39m.\u001b[39;49m_process_stack(\u001b[39m*\u001b[39;49m\u001b[39m*\u001b[39;49mkwargs)\n\u001b[1;32m     99\u001b[0m res_key \u001b[39m=\u001b[39m \u001b[39mself\u001b[39m\u001b[39m.\u001b[39m_get_key(formula, \u001b[39m*\u001b[39m\u001b[39m*\u001b[39mkwargs)\n\u001b[1;32m    100\u001b[0m \u001b[39mreturn\u001b[39;00m \u001b[39mself\u001b[39m\u001b[39m.\u001b[39mmemoization[res_key]\n",
      "File \u001b[0;32m~/venv/lib/python3.11/site-packages/pysmt/walkers/dag.py:91\u001b[0m, in \u001b[0;36mDagWalker._process_stack\u001b[0;34m(self, **kwargs)\u001b[0m\n\u001b[1;32m     89\u001b[0m (was_expanded, formula) \u001b[39m=\u001b[39m \u001b[39mself\u001b[39m\u001b[39m.\u001b[39mstack\u001b[39m.\u001b[39mpop()\n\u001b[1;32m     90\u001b[0m \u001b[39mif\u001b[39;00m was_expanded:\n\u001b[0;32m---> 91\u001b[0m     \u001b[39mself\u001b[39;49m\u001b[39m.\u001b[39;49m_compute_node_result(formula, \u001b[39m*\u001b[39;49m\u001b[39m*\u001b[39;49mkwargs)\n\u001b[1;32m     92\u001b[0m \u001b[39melse\u001b[39;00m:\n\u001b[1;32m     93\u001b[0m     \u001b[39mself\u001b[39m\u001b[39m.\u001b[39m_push_with_children_to_stack(formula, \u001b[39m*\u001b[39m\u001b[39m*\u001b[39mkwargs)\n",
      "File \u001b[0;32m~/venv/lib/python3.11/site-packages/pysmt/walkers/dag.py:75\u001b[0m, in \u001b[0;36mDagWalker._compute_node_result\u001b[0;34m(self, formula, **kwargs)\u001b[0m\n\u001b[1;32m     71\u001b[0m         f \u001b[39m=\u001b[39m \u001b[39mself\u001b[39m\u001b[39m.\u001b[39mwalk_error\n\u001b[1;32m     73\u001b[0m     args \u001b[39m=\u001b[39m [\u001b[39mself\u001b[39m\u001b[39m.\u001b[39mmemoization[\u001b[39mself\u001b[39m\u001b[39m.\u001b[39m_get_key(s, \u001b[39m*\u001b[39m\u001b[39m*\u001b[39mkwargs)] \\\n\u001b[1;32m     74\u001b[0m             \u001b[39mfor\u001b[39;00m s \u001b[39min\u001b[39;00m \u001b[39mself\u001b[39m\u001b[39m.\u001b[39m_get_children(formula)]\n\u001b[0;32m---> 75\u001b[0m     \u001b[39mself\u001b[39m\u001b[39m.\u001b[39mmemoization[key] \u001b[39m=\u001b[39m f(formula, args\u001b[39m=\u001b[39;49margs, \u001b[39m*\u001b[39;49m\u001b[39m*\u001b[39;49mkwargs)\n\u001b[1;32m     76\u001b[0m \u001b[39melse\u001b[39;00m:\n\u001b[1;32m     77\u001b[0m     \u001b[39mpass\u001b[39;00m\n",
      "File \u001b[0;32m~/venv/lib/python3.11/site-packages/pysmt/solvers/msat.py:982\u001b[0m, in \u001b[0;36mMSatConverter.walk_times\u001b[0;34m(self, formula, args, **kwargs)\u001b[0m\n\u001b[1;32m    980\u001b[0m     nl_count \u001b[39m+\u001b[39m\u001b[39m=\u001b[39m \u001b[39m1\u001b[39m\n\u001b[1;32m    981\u001b[0m \u001b[39mif\u001b[39;00m nl_count \u001b[39m>\u001b[39m\u001b[39m=\u001b[39m \u001b[39m2\u001b[39m:\n\u001b[0;32m--> 982\u001b[0m     \u001b[39mraise\u001b[39;00m NonLinearError(formula)\n\u001b[1;32m    983\u001b[0m \u001b[39melse\u001b[39;00m:\n\u001b[1;32m    984\u001b[0m     res \u001b[39m=\u001b[39m mathsat\u001b[39m.\u001b[39mmsat_make_times(\u001b[39mself\u001b[39m\u001b[39m.\u001b[39mmsat_env(), res, x)\n",
      "\u001b[0;31mNonLinearError\u001b[0m: (q!X7 * t_prime!X7)"
     ]
    }
   ],
   "source": [
    "vars = [\"pc\", \"r\", \"r_prime\", \"s\", \"s_prime\", \"t\", \"t_prime\", \"q\"]\n",
    "genTrace(vars, stronger, trans, error, K, a, b, N)\n",
    "#kinduction_always(vars, stronger, trans, error, K, a, b, N, safety)"
   ]
  },
  {
   "cell_type": "code",
   "execution_count": null,
   "id": "e33a78a2-667f-443c-81d9-3b2aba835b9f",
   "metadata": {},
   "outputs": [],
   "source": []
  }
 ],
 "metadata": {
  "authors": [
   {
    "name": "Bruno Dias da Gião A96544"
   },
   {
    "name": "João Luis da Cruz Pereira A95375"
   },
   {
    "name": "David Alberto Agra A95726"
   }
  ],
  "kernelspec": {
   "display_name": "venv",
   "language": "python",
   "name": "venv"
  },
  "language_info": {
   "codemirror_mode": {
    "name": "ipython",
    "version": 3
   },
   "file_extension": ".py",
   "mimetype": "text/x-python",
   "name": "python",
   "nbconvert_exporter": "python",
   "pygments_lexer": "ipython3",
   "version": "3.11.5"
  },
  "title": "Lógica Computacional - TP3 Exercício 1 - G01"
 },
 "nbformat": 4,
 "nbformat_minor": 5
}
