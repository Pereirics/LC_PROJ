{
 "cells": [
  {
   "cell_type": "markdown",
   "id": "20e884dc-7ec9-477c-a3be-ea6a9515f79f",
   "metadata": {
    "collapsed": false,
    "slideshow": {
     "slide_type": ""
    },
    "tags": []
   },
   "source": [
    "# Exercício 2 - Enunciado"
   ]
  },
  {
   "cell_type": "markdown",
   "id": "71a2da70-f45a-419f-bc33-898961d90751",
   "metadata": {
    "collapsed": false
   },
   "source": [
    "Considere-se de novo o algoritmo estendido de Euclides apresentado no TP2  mas usando o tipo dos inteiros e um parâmetro $N>0$\n",
    "```python\n",
    "INPUT  a, b : Int\n",
    "assume  a > 0 and b > 0 and a < N and b < N\n",
    "r, r', s, s', t, t' = a, b, 1, 0, 0, 1\n",
    "while r' != 0\n",
    "  q = r div r'\n",
    "  r, r', s, s', t, t' = r', r − q × r', s', s − q × s', t', t − q × t' \n",
    "OUTPUT r, s, t\n",
    "```\n",
    "\n",
    "Este exercício é dirigido à prova de correção do algoritmo estendido de Euclides\n",
    "\n",
    "1. Construa a asserção lógica que representa a pós-condição do algoritmo. Note que a definição da função  $\\gcd$  é   $\\gcd(a,b)\\;\\equiv\\; \\min \\{\\,r > 0\\,|\\,\\exists\\,s,t\\,\\centerdot\\, r = a*s+b*t\\,\\}$ .\n",
    "2. Usando a metodologia do comando havoc para o ciclo, escreva o programa na linguagem dos comandos anotados (LPA). Codifique a pós-condição do algoritmo com um comando assert .\n",
    "3. Construa codificações do programa LPA através de transformadores de predicados: “weakest pre-condition” e “strongest post-condition”. \n",
    "4. Prove a correção  do programa LPA em ambas as codificações."
   ]
  },
  {
   "cell_type": "markdown",
   "id": "cc0412e8-ce3c-403e-baf8-e0d2c1d58399",
   "metadata": {
    "collapsed": false
   },
   "source": [
    "# Exercício 2 - Solução"
   ]
  },
  {
   "cell_type": "markdown",
   "id": "4fe06ce9",
   "metadata": {
    "collapsed": false
   },
   "source": [
    "```python\n",
    "assert r = gcd(a,b) and r_prime = 0 and exists s,t. gcd(a,b) = a * s + b * t\n",
    "```"
   ]
  },
  {
   "cell_type": "code",
   "execution_count": null,
   "id": "7f9ee983",
   "metadata": {
    "collapsed": false
   },
   "outputs": [],
   "source": [
    "from pysmt.shortcuts import *\n",
    "from pysmt.typing import *\n",
    "\n",
    "def prove(f):\n",
    "    with Solver(name=\"z3\") as s:\n",
    "        s.add_assertion(Not(f))\n",
    "        if s.solve():\n",
    "            print(\"Failed to prove.\")\n",
    "        else:\n",
    "            print(\"Proved.\")"
   ]
  },
  {
   "cell_type": "markdown",
   "id": "4f28db05",
   "metadata": {
    "collapsed": false
   },
   "source": [
    "```python\n",
    "INPUT  a, b : Int\n",
    "assume  a > 0 and b > 0 and a < N and b < N\n",
    "r, r', s, s', t, t', rP, sP, tP = a, b, 1, 0, 0, 1, a,1,0\n",
    "while r' != 0\n",
    "  q = r div r'\n",
    "  r, r', s, s', t, t' = r', rP − q × r', s', sP − q × s', t', tP − q × t'\n",
    "  rP = r\n",
    "  sP = s\n",
    "  tP = t\n",
    "OUTPUT r, s, t\n",
    "```\n",
    "\n",
    "``` python\n",
    "\n",
    "Programa de fluxos.\n",
    "\n",
    "Sejam pre <- a > 0 and b > 0 and a < N and b < N\n",
    "      inv <- (r > 0) and (r < N) and (exists s,t. r = a*s + b*t)\n",
    "      pos <- r = gcd(a,b) and r_prime = 0 and exists s,t. gcd(a,b) = a * s + b * t\n",
    "\n",
    "        \n",
    "assume pre;\n",
    "r := a, r' := b, s := 1, s' := 0, t := 0, t' := 1;\n",
    "assert inv;\n",
    "havoc r; havoc r'; havoc s; havoc s'; havoc t; havoc t';\n",
    "((assume r' != 0 and inv; q = r div r'; r := r', r' := r - q * r', s := s', s' := s - q * s', t := t', t' := t - q * t';\n",
    "assert inv; assume False) || assume(r' = 0) and inv)\n",
    "assert pos;\n",
    "```"
   ]
  },
  {
   "cell_type": "markdown",
   "id": "76fe619c",
   "metadata": {
    "collapsed": false
   },
   "source": [
    "Denotação lógica com WPC.\n",
    "```python\n",
    "[\n",
    "assume pre;\n",
    "r := a; r' := b; s := 1; s' := 0; t := 0; t' := 1;\n",
    "assert inv;\n",
    "havoc {r, r', s, s', t, t'};\n",
    "((assume r' != 0 and inv; q = r div r'; r := r'; r' := r - q * r'; s := s'; s' := s - q * s'; t := t'; t' := t - q * t';\n",
    " assert inv; assume False) || assume(r' = 0) and inv)\n",
    "assert pos;\n",
    "]\n",
    "=\n",
    "pre -> [ assert inv; havoc q,r, r',s,s',t,t'; ...; assert pos ] [a/r][b/r'][1/s][0/s'][0/t][1/t']\n",
    "=\n",
    "pre -> inv[a/r][b/r'][1/s][0/s'][0/t][1/t'][rP<-r][sP<-s][tP<-t] and (forall r,r',s,s',t,t',rP,sP,tP. [...; assert pos]) [a/r][b/r'][1/s][0/s'][0/t][1/t'][rP<-r][sP<-s][tP<-t]\n",
    "=\n",
    "pre -> inv[a/r][b/r'][1/s][0/s'][0/t][1/t'][rP<-r][sP<-s][tP<-t] and\n",
    "       (forall r,r',s,s',t,t',rP,sP,tP.\n",
    "           ( (r' != 0 and inv) -> inv[r/rP][s/sP][t/tP][(tP-q*t')/t'][t'/t][(sP-q*s')/s'][s'/s][(rP-q*r')/r'][r'/r][(r/r')/q]) )\n",
    "             and\n",
    "             ( (not(r' != 0) and inv) -> pos)\n",
    "       )\n",
    "```\n"
   ]
  },
  {
   "cell_type": "code",
   "execution_count": null,
   "id": "6cf55352",
   "metadata": {
    "collapsed": false
   },
   "outputs": [],
   "source": [
    "gcd = Symbol('gcd', FunctionType(INT,[INT,INT]))\n",
    "a = Symbol('a',INT)\n",
    "b = Symbol('b',INT)\n",
    "ax1 = Equals(gcd(a, Int(0)), a)\n",
    "ax2 = ForAll([a, b], Ite(GE(a, b),\n",
    "                        Equals(gcd(a, b), gcd(Minus(a, b), b)),\n",
    "                        Equals(gcd(a, b), gcd(a, Minus(b, a)))\n",
    "                    )\n",
    "            )\n",
    "ax2_a = ForAll([a, b], Ite(GE(a, b),\n",
    "                                 Equals(gcd(a, b), gcd(b, Minus(a, Times(b, Div(a,b))))),\n",
    "                                 Equals(gcd(a, b), gcd(b,a))\n",
    "                        )\n",
    "            )\n",
    "axioms = And(ax1, ax2)"
   ]
  },
  {
   "cell_type": "code",
   "execution_count": null,
   "id": "8b69760e",
   "metadata": {
    "collapsed": false
   },
   "outputs": [],
   "source": [
    "\n",
    "prove(Implies(axioms,Equals(gcd(Int(5),Int(3)),Int(1))))"
   ]
  },
  {
   "cell_type": "code",
   "execution_count": null,
   "id": "6b7470bf",
   "metadata": {
    "collapsed": false
   },
   "outputs": [],
   "source": [
    "\n",
    "r = Symbol('r', INT)\n",
    "r_prime = Symbol('r_prime', INT)\n",
    "s = Symbol('s', INT)\n",
    "s_prime = Symbol('s_prime', INT)\n",
    "t = Symbol('t', INT)\n",
    "t_prime = Symbol('t_prime', INT)\n",
    "rP = Symbol('rP', INT)\n",
    "sP = Symbol('sP', INT)\n",
    "tP = Symbol('tP', INT)\n",
    "N = Symbol('N', INT)\n",
    "q = Symbol('q', INT)\n",
    "aux = Symbol('aux', INT)\n",
    "\n",
    "\n",
    "pre = And(GT(a, Int(0)), GT(b, Int(0)), GT(N, a), GT(N, b))\n",
    "pos = And(ForAll([aux], Implies(GT(r, aux), Not(Equals(aux, Plus(Times(a, s), Times(b, t)))))), Equals(r, Plus(Times(a, s), Times(b, t))))\n",
    "inv = And(GT(r, Int(0)), GT(N, r), Equals(r, Plus(Times(a, s), Times(b, t))))\n",
    "\n",
    "\n",
    "ini = substitute(inv, {r:a, r_prime:b, s:Int(1), s_prime:Int(0), t:Int(0), t_prime:Int(1), rP:r, sP:s, tP:t})\n",
    "pres = Implies(And(Not(Equals(r_prime, Int(0))), inv), substitute(substitute(inv, {t_prime: Minus(tP, Times(q, t_prime))}, {t: t_prime}, {s_prime: Minus(sP, Times(q, s_prime))}, {s: s_prime}, {r_prime: Minus(rP, Times(q, r_prime))}, {r: r_prime}), {q: Div(r, r_prime)}))\n",
    "util = Implies(And(Equals(r_prime, Int(0)), inv), pos)\n",
    "vc = Implies(pre, And(ini, ForAll([r,r_prime,s,s_prime,t,t_prime,rP,sP,tP], And(pres, util))))\n",
    "print(\"<h3>WPC</h3>\")\n",
    "prove(Implies(axioms, vc))"
   ]
  },
  {
   "cell_type": "markdown",
   "id": "feb7009d",
   "metadata": {
    "collapsed": false
   },
   "source": [
    "Denotação lógica com SPC\n",
    "```python\n",
    "[\n",
    "assume pre;\n",
    "r := a; r' := b; s := 1; s' := 0; t := 0; t' := 1; \n",
    "assert inv;\n",
    "havoc r; havoc r'; havoc s; havoc s'; havoc t; havoc t';\n",
    "((assume r' != 0 and inv; q = r / r'; r := r'; r' := r - q * r'; s := s'; s' := s - q * s'; t := t'; t' := t - q * t';\n",
    "rP := r; sP := s; tP := t assert inv; assume False) || assume(r' = 0) and inv)\n",
    "assert pos;\n",
    "]\n",
    "=> \n",
    "[\n",
    "assume pre;\n",
    "r := a; r' := b; s := 1; s' := 0; t := 0; t' := 1; \n",
    "assert inv;\n",
    "havoc r; havoc r'; havoc s; havoc s'; havoc t; havoc t';\n",
    "((assume r' != 0 and inv; q = r / r'; r := r'; r' := r - q * r'; s := s'; s' := s - q * s'; t := t'; t' := t - q * t';\n",
    "rP := r; sP := s; tP := t assert inv; assume False) || assume(r' = 0) and inv)\n",
    "]\n",
    "-> pos\n",
    "=>\n",
    "[\n",
    "assume pre;\n",
    "r := a; r' := b; s := 1; s' := 0; t := 0; t' := 1;\n",
    "assert inv;\n",
    "havoc r, r', s, s', t, t', rP, sP, tP;\n",
    "\n"
   ]
  },
  {
   "cell_type": "code",
   "execution_count": null,
   "id": "fb3f5b25",
   "metadata": {
    "collapsed": false
   },
   "outputs": [],
   "source": [
    "r = Symbol('r', INT)\n",
    "r_prime = Symbol('r_prime', INT)\n",
    "s = Symbol('s', INT)\n",
    "s_prime = Symbol('s_prime', INT)\n",
    "t = Symbol('t', INT)\n",
    "t_prime = Symbol('t_prime', INT)\n",
    "rP = Symbol('rP', INT)\n",
    "sP = Symbol('sP', INT)\n",
    "tP = Symbol('tP', INT)\n",
    "N = Symbol('N', INT)\n",
    "q = Symbol('q', INT)\n",
    "aux = Symbol('aux', INT)\n",
    "\n",
    "\n",
    "pre = And(GT(a, Int(0)), GT(b, Int(0)), GT(N, a), GT(N, b))\n",
    "pos = And(ForAll([aux], Implies(GT(r, aux), Not(Equals(aux, Plus(Times(a, s), Times(b, t)))))), Equals(r, Plus(Times(a, s), Times(b, t))))\n",
    "inv = And(GT(r, Int(0)), GT(N, r), Equals(r, Plus(Times(a, s), Times(b, t))))\n",
    "\n",
    "\n",
    "ini = substitute(inv, {r:a, r_prime:b, s:Int(1), s_prime:Int(0), t:Int(0), t_prime:Int(1), rP:r, sP:s, tP:t})\n",
    "pres = Implies(And(Not(Equals(r_prime, Int(0))), inv), substitute(substitute(substitute(substitute(substitute(substitute(substitute(substitute(substitute(substitute(inv, {tP:t}), {sP:s}), {rP:r}), {t_prime: Minus(tP, Times(q, t_prime))}), {t: t_prime}), {s_prime: Minus(sP, Times(q, s_prime))}), {s: s_prime}), {r_prime: Minus(rP, Times(q, r_prime))}), {r: r_prime}), {q: Div(r, r_prime)}))\n",
    "util = Implies(And(Equals(r_prime, Int(0)), inv), pos)\n",
    "vc = Implies(pre, And(ini, ForAll([r,r_prime,s,s_prime,t,t_prime,rP,sP,tP], And(pres, util))))\n",
    "print(\"<h3>SPC</h3>\")\n",
    "prove(Implies(axioms, vc))"
   ]
  },
  {
   "cell_type": "code",
   "execution_count": null,
   "id": "497ea64f",
   "metadata": {
    "collapsed": false
   },
   "outputs": [],
   "source": []
  }
 ],
 "metadata": {
  "kernelspec": {
   "argv": [
    "/home/bdg/venv/bin/python",
    "-m",
    "ipykernel_launcher",
    "-f",
    "{connection_file}"
   ],
   "display_name": "venv",
   "env": null,
   "interrupt_mode": "signal",
   "language": "python",
   "metadata": {
    "debugger": true
   },
   "name": "venv"
  },
  "language_info": {
   "codemirror_mode": {
    "name": "ipython",
    "version": 3
   },
   "file_extension": ".py",
   "mimetype": "text/x-python",
   "name": "python",
   "nbconvert_exporter": "python",
   "pygments_lexer": "ipython3",
   "version": "3.11.5"
  },
  "name": "Ex2.ipynb",
  "title": "Lógica Computacional - TP3 Exercício 1 - G01"
 },
 "nbformat": 4,
 "nbformat_minor": 5
}
