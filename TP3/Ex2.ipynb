{
 "cells": [
  {
   "cell_type": "markdown",
   "id": "20e884dc-7ec9-477c-a3be-ea6a9515f79f",
   "metadata": {
    "editable": true,
    "slideshow": {
     "slide_type": ""
    },
    "tags": []
   },
   "source": [
    "# Exercício 2 - Enunciado"
   ]
  },
  {
   "cell_type": "markdown",
   "id": "71a2da70-f45a-419f-bc33-898961d90751",
   "metadata": {},
   "source": [
    "Considere-se de novo o algoritmo estendido de Euclides apresentado no TP2  mas usando o tipo dos inteiros e um parâmetro $N>0$\n",
    "```\n",
    "INPUT  a, b : Int\n",
    "assume  a > 0 and b > 0 and a < N and b < N\n",
    "r, r', s, s', t, t' = a, b, 1, 0, 0, 1\n",
    "while r' != 0\n",
    "  q = r div r'\n",
    "  r, r', s, s', t, t' = r', r − q × r', s', s − q × s', t', t − q × t' \n",
    "OUTPUT r, s, t\n",
    "```\n",
    "\n",
    "Este exercício é dirigido à prova de correção do algoritmo estendido de Euclides\n",
    "\n",
    "1. Construa a asserção lógica que representa a pós-condição do algoritmo. Note que a definição da função  $\\gcd$  é   $\\gcd(a,b)\\;\\equiv\\; \\min \\{\\,r > 0\\,|\\,\\exists\\,s,t\\,\\centerdot\\, r = a*s+b*t\\,\\}$ .\n",
    "2. Usando a metodologia do comando havoc para o ciclo, escreva o programa na linguagem dos comandos anotados (LPA). Codifique a pós-condição do algoritmo com um comando assert .\n",
    "3. Construa codificações do programa LPA através de transformadores de predicados: “weakest pre-condition” e “strongest post-condition”. \n",
    "4. Prove a correção  do programa LPA em ambas as codificações."
   ]
  },
  {
   "cell_type": "markdown",
   "id": "cc0412e8-ce3c-403e-baf8-e0d2c1d58399",
   "metadata": {},
   "source": [
    "# Exercício 2 - Solução"
   ]
  },
  {
   "cell_type": "markdown",
   "metadata": {},
   "source": [
    "```python\n",
    "assert r = gcd(a,b) and r_prime = 0 and gcd(a,b) = a * s + b * t\n",
    "```"
   ]
  },
  {
   "cell_type": "code",
   "execution_count": null,
   "id": "4ac05767-7f13-45a1-aa1f-9d7eb5bbabbd",
   "metadata": {},
   "outputs": [],
   "source": [
    "from pysmt.shortcuts import *\n",
    "from pysmt.typing import *\n",
    "\n",
    "def prove(f):\n",
    "    with Solver(name=\"z3\") as s:\n",
    "        s.add_assertion(Not(f))\n",
    "        if s.solve():\n",
    "            print(\"Failed to prove.\")\n",
    "        else:\n",
    "            print(\"Proved.\")"
   ]
  },
  {
   "cell_type": "code",
   "execution_count": null,
   "metadata": {},
   "outputs": [],
   "source": [
    "# Grammar\n",
    "\n",
    "\"\"\"\n",
    "S := CODE $\n",
    "CODE := EXPRS | CYCLES | PRECOND | POSTCOND | IFS | SKIP | | \n",
    "CYCLE := while CONDS do CODE CODE\n",
    "IFS := if CONDS then CODE IF CODE\n",
    "IF := else CODE | \n",
    "PRECOND := assume CONDS CODE\n",
    "POSTCOND := assert CONDS CODE\n",
    "CONDS := id sinal id COND CODE\n",
    "COND := and CONDS | or CONDS | \n",
    "EXPRS := ATRIBS EXPR CODE\n",
    "ATRIBS := id ATRIB atrib\n",
    "ATRIB := virg id ATRIB | \n",
    "EXPRE := EXP | EXP , EXPRE\n",
    "EXP := TERM EXP_OPS\n",
    "EXP_OPS := op_a TERM EXP_OPS | \n",
    "TERM := FACTOR TERM_OPS\n",
    "TERM_OPS := op_m FACTOR TERM_OPS | \n",
    "FACTOR := id | int | lparen EXPR rparen\n",
    "SKIP := skip CODE\n",
    "\"\"\"\n",
    "\n",
    "# TOKENS\n",
    "\"\"\"\n",
    "op_a = [\"+\",\"-\"]\n",
    "op_m = [\"*\", \"div\"]\n",
    "id = r\"[a-zA-z]+['_]*[a-zA-z]*\"\n",
    "atrib = \":=\"\n",
    "int = r'\\d+'\n",
    "sinal = [\">=\", \">\", \"<\", \"<=\", \"=\", \"!=\"]\n",
    "lparen, rparen = \"(\", \")\"\n",
    "while = \"while\"\n",
    "if = \"if\"\n",
    "then = \"then\"\n",
    "do = \"do\"\n",
    "else = \"else\"\n",
    "skip = \"skip\"\n",
    "assume = \"assume\"\n",
    "assert = \"assert\"\n",
    "\"\"\"\n",
    "\n",
    "def tokenizer(str):\n",
    "    op_a = [r\"+\",r\"-\"]\n",
    "    op_m = [r\"*\", r\"div\"]\n",
    "    id = r\"[a-zA-z]+['_]*[a-zA-z]*\"\n",
    "    atrib = r\":=\"\n",
    "    int = r'\\d+'\n",
    "    sinal = [r\">=\", r\">\", r\"<\", r\"<=\", r\"=\", r\"!=\"]\n",
    "    lparen, rparen = r\"(\", r\")\"\n",
    "    while = r\"while\"\n",
    "    if = r\"if\"\n",
    "    then = r\"then\"\n",
    "    do = r\"do\"\n",
    "    else = r\"else\"\n",
    "    skip = r\"skip\"\n",
    "    assume = r\"assume\"\n",
    "    assert = r\"assert\"\n",
    "    if str in op_a:\n",
    "        return 0;\n",
    "    if str in op_m:\n",
    "        return 1;\n",
    "    aa"
   ]
  }
 ],
 "metadata": {
  "authors": [
   {
    "name": "Bruno Dias da Gião A96544"
   },
   {
    "name": "João Luis da Cruz Pereira A95375"
   },
   {
    "name": "David Alberto Agra A95726"
   }
  ],
  "kernelspec": {
   "display_name": "venv",
   "language": "python",
   "name": "venv"
  },
  "language_info": {
   "codemirror_mode": {
    "name": "ipython",
    "version": 3
   },
   "file_extension": ".py",
   "mimetype": "text/x-python",
   "name": "python",
   "nbconvert_exporter": "python",
   "pygments_lexer": "ipython3",
   "version": "3.11.5"
  },
  "title": "Lógica Computacional - TP3 Exercício 1 - G01"
 },
 "nbformat": 4,
 "nbformat_minor": 5
}
