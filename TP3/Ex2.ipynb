{
 "cells": [
  {
   "cell_type": "markdown",
   "id": "20e884dc-7ec9-477c-a3be-ea6a9515f79f",
   "metadata": {
    "editable": true,
    "slideshow": {
     "slide_type": ""
    },
    "tags": []
   },
   "source": [
    "# Exercício 2 - Enunciado"
   ]
  },
  {
   "cell_type": "markdown",
   "id": "71a2da70-f45a-419f-bc33-898961d90751",
   "metadata": {},
   "source": [
    "Este exercício é dirigido à prova de correção do algoritmo estendido de Euclides\n",
    "\n",
    "1. Construa a asserção lógica que representa a pós-condição do algoritmo. Note que a definição da função  $\\gcd$  é   $\\gcd(a,b)\\;\\equiv\\; \\min \\{\\,r > 0\\,|\\,\\exists\\,s,t\\,\\centerdot\\, r = a*s+b*t\\,\\}$ .\n",
    "2. Usando a metodologia do comando havoc para o ciclo, escreva o programa na linguagem dos comandos anotados (LPA). Codifique a pós-condição do algoritmo com um comando assert .\n",
    "3. Construa codificações do programa LPA através de transformadores de predicados: “weakest pre-condition” e “strongest post-condition”. \n",
    "4. Prove a correção  do programa LPA em ambas as codificações."
   ]
  },
  {
   "cell_type": "markdown",
   "id": "cc0412e8-ce3c-403e-baf8-e0d2c1d58399",
   "metadata": {},
   "source": [
    "# Exercício 2 - Solução"
   ]
  },
  {
   "cell_type": "code",
   "execution_count": null,
   "id": "4ac05767-7f13-45a1-aa1f-9d7eb5bbabbd",
   "metadata": {},
   "outputs": [],
   "source": []
  }
 ],
 "metadata": {
  "authors": [
   {
    "name": "Bruno Dias da Gião A96544"
   },
   {
    "name": "João Luis da Cruz Pereira A95375"
   },
   {
    "name": "David Alberto Agra A95726"
   }
  ],
  "kernelspec": {
   "display_name": "venv",
   "language": "python",
   "name": "venv"
  },
  "language_info": {
   "codemirror_mode": {
    "name": "ipython",
    "version": 3
   },
   "file_extension": ".py",
   "mimetype": "text/x-python",
   "name": "python",
   "nbconvert_exporter": "python",
   "pygments_lexer": "ipython3",
   "version": "3.11.5"
  },
  "title": "Lógica Computacional - TP3 Exercício 1 - G01"
 },
 "nbformat": 4,
 "nbformat_minor": 5
}
