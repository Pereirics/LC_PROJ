{
 "cells": [
  {
   "cell_type": "markdown",
   "id": "20e884dc-7ec9-477c-a3be-ea6a9515f79f",
   "metadata": {
    "jupyter": {
     "outputs_hidden": false
    },
    "slideshow": {
     "slide_type": ""
    },
    "tags": []
   },
   "source": [
    "# Exercício 2 - Enunciado"
   ]
  },
  {
   "cell_type": "markdown",
   "id": "71a2da70-f45a-419f-bc33-898961d90751",
   "metadata": {
    "jupyter": {
     "outputs_hidden": false
    }
   },
   "source": [
    "Considere-se de novo o algoritmo estendido de Euclides apresentado no TP2  mas usando o tipo dos inteiros e um parâmetro $N>0$\n",
    "```\n",
    "    INPUT  a, b : Int\n",
    "    assume  a > 0 and b > 0 and a < N and b < N\n",
    "    r, r', s, s', t, t' = a, b, 1, 0, 0, 1\n",
    "    while r' != 0\n",
    "      q = r div r'\n",
    "      r, r', s, s', t, t' = r', r − q × r', s', s − q × s', t', t − q × t' \n",
    "    OUTPUT r, s, t\n",
    "```\n",
    "\n",
    "Este exercício é dirigido à prova de correção do algoritmo estendido de Euclides\n",
    "\n",
    "1. Construa a asserção lógica que representa a pós-condição do algoritmo. Note que a definição da função  $\\gcd$  é   $\\gcd(a,b)\\;\\equiv\\; \\min \\{\\,r > 0\\,|\\,\\exists\\,s,t\\,\\centerdot\\, r = a*s+b*t\\,\\}$ .\n",
    "2. Usando a metodologia do comando havoc para o ciclo, escreva o programa na linguagem dos comandos anotados (LPA). Codifique a pós-condição do algoritmo com um comando assert .\n",
    "3. Construa codificações do programa LPA através de transformadores de predicados: “weakest pre-condition” e “strongest post-condition”. \n",
    "4. Prove a correção  do programa LPA em ambas as codificações."
   ]
  },
  {
   "cell_type": "markdown",
   "id": "cc0412e8-ce3c-403e-baf8-e0d2c1d58399",
   "metadata": {
    "jupyter": {
     "outputs_hidden": false
    }
   },
   "source": [
    "# Exercício 2 - Solução"
   ]
  },
  {
   "cell_type": "markdown",
   "id": "4fe06ce9",
   "metadata": {
    "jupyter": {
     "outputs_hidden": false
    }
   },
   "source": [
    "```python\n",
    "assert r = gcd(a,b) and r_prime = 0 and exists s,t. gcd(a,b) = a * s + b * t\n",
    "```"
   ]
  },
  {
   "cell_type": "code",
   "execution_count": 18,
   "id": "7f9ee983",
   "metadata": {
    "jupyter": {
     "outputs_hidden": false
    }
   },
   "outputs": [],
   "source": [
    "from pysmt.shortcuts import *\n",
    "from pysmt.typing import *\n",
    "from random import randint\n",
    "\n",
    "def prove(f):\n",
    "    with Solver(name=\"z3\") as s:\n",
    "        s.add_assertion(Not(f))\n",
    "        if s.solve():\n",
    "            print(\"Failed to prove.\")\n",
    "        else:\n",
    "            print(\"Proved.\")"
   ]
  },
  {
   "cell_type": "markdown",
   "id": "3527589e",
   "metadata": {
    "jupyter": {
     "outputs_hidden": false
    }
   },
   "source": [
    "$$\n",
    "\\mathsf{Comando}\\mathbin{\\;::=\\;} \\mathit{var}\\gets \\mathit{exp}\\;|\\;\\mathsf{havoc}\\,\\mathit{var}\\;|\\;\\mathsf{assert}\\,\\varphi\\;|\\;\\mathsf{assume}\\,\\phi\n",
    "$$\n",
    "$$\n",
    "\\mathsf{Fluxo}\\mathbin{\\;::=\\;} \\mathsf{skip}\\;|\\;\\mathsf{Comando}\\,;\\,\\mathsf{Fluxo}\\;|\\;\\mathsf{Fluxo}\\,\\|\\,\\mathsf{Fluxo}\n",
    "$$"
   ]
  },
  {
   "cell_type": "markdown",
   "id": "fe77cf92",
   "metadata": {
    "jupyter": {
     "outputs_hidden": false
    }
   },
   "source": [
    "### Weakest pre-condition\n",
    "\n",
    "A denotação `[C]` associa a cada fluxo `C` um predicado que caracteriza a sua correcção em termos lógicos (a sua VC) segundo a técnica WPC, sendo calculada pelas seguintes regras.\n",
    "\n",
    "$\n",
    "\\begin{array}{l}\n",
    "[{\\sf skip}] = True \\\\\n",
    "[{\\sf assume}\\:\\phi] = True \\\\\n",
    "[{\\sf assert}\\:\\phi] = \\phi \\\\\n",
    "[ x = e ] = True \\\\\n",
    "[(C_1 || C_2)] = [C_1] \\wedge [C_2] \\\\\n",
    "\\\\\n",
    "[{\\sf skip}\\, ; C] = [C] \\\\\n",
    "[{\\sf assume}\\:\\phi\\, ; C] = \\phi \\to [C] \\\\\n",
    "[{\\sf assert}\\:\\phi\\, ; C] = \\phi \\wedge [C] \\\\\n",
    "[ x = e \\, ; C] = [C][e/x] \\\\\n",
    "[(C_1 || C_2)\\, ; C] = [(C_1 ; C) || (C_2 ; C)]\n",
    "\\end{array}\n",
    "$\n"
   ]
  },
  {
   "cell_type": "markdown",
   "id": "70675884",
   "metadata": {
    "jupyter": {
     "outputs_hidden": false
    }
   },
   "source": []
  },
  {
   "cell_type": "markdown",
   "id": "4f28db05",
   "metadata": {
    "jupyter": {
     "outputs_hidden": false
    }
   },
   "source": []
  },
  {
   "cell_type": "markdown",
   "id": "e284c554",
   "metadata": {
    "jupyter": {
     "outputs_hidden": false
    }
   },
   "source": [
    "```python\n",
    "INPUT  a, b : Int\n",
    "assume  a > 0 and b > 0 and a < N and b < N\n",
    "r, r', s, s', t, t' = a, b, 1, 0, 0, 1\n",
    "while r' != 0\n",
    "  q = r div r'\n",
    "  r, r', s, s', t, t' = r', r − q × r', s', s − q × s', t', t − q × t'\n",
    "OUTPUT r, s, t\n",
    "```\n",
    "Programa de fluxos.\n",
    "\n",
    "Sejam `pre <- a > 0 and b > 0 and a < N and b < N`\n",
    "    \n",
    "`inv <- (r > 0) and (r < N) and (exists s,t. r = a*s + b*t)`\n",
    "      \n",
    "`pos <- r = gcd(a,b) and r_prime = 0 and exists s,t. gcd(a,b) = a * s + b * t`\n",
    "\n",
    "```python\n",
    "assume pre;\n",
    "r := a, r_ := b, s := 1, s_ := 0, t := 0, t_ := 1;\n",
    "assert inv;\n",
    "havoc q,r, r_, s, s_, t, t_;\n",
    "((assume r_ != 0 and inv; q = r div r_; r := r_, r_ := r - q * r_, s := s_, s_ := s - q * s_, t := t_, t_ := t - q * t_;\n",
    "assert inv; assume False) || assume(r_ = 0) and inv);\n",
    "assert pos;\n",
    "```"
   ]
  },
  {
   "cell_type": "markdown",
   "id": "76fe619c",
   "metadata": {
    "jupyter": {
     "outputs_hidden": false
    }
   },
   "source": [
    "Denotação lógica com WPC.\n",
    "```python\n",
    "[\n",
    "assume pre;\n",
    "r := a, r_ := b, s := 1, s_ := 0, t := 0, t_ := 1;\n",
    "assert inv;\n",
    "havoc q,r, r_, s, s_, t, t_;\n",
    "((assume r_ != 0 and inv; q = r div r_; r := r_, r_ := r - q * r_, s := s_, s_ := s - q * s_, t := t_, t_ := t - q * t_;\n",
    "assert inv; assume False) || assume(r_ = 0) and inv);\n",
    "assert pos;\n",
    "]\n",
    "\n",
    "=>\n",
    "\n",
    "pre -> [ assert inv; havoc q,r, r_,s,s_,t,t_; ...; assert pos ] [r<-a, r_<-b, s<-1, s_<-0, t<-0, t_<-1]\n",
    "\n",
    "=>\n",
    "\n",
    "pre -> inv[r<-a,r_<-b,s<-1,s_<-0,t<-0,t_<-1] and (forall r,r_,s,s_,t,t_,. [...; assert pos])\n",
    "\n",
    "=>\n",
    "\n",
    "pre -> inv[r<-a,r_<-b,s<-1,s_<-0,t<-0,t_<-1] and\n",
    "       (forall q,r,r_,s,s_,t,t_.\n",
    "           ( (r_ != 0 and inv) -> (inv[r <- r_, r_ <- r - q * r_, s <- s_, s_ <- s - q * s_, t <- t_, t_ <- t - q * t_])[q<- r div r_]) )\n",
    "             and\n",
    "             ( (not(r_ != 0) and inv) -> pos)\n",
    "       )\n",
    "```"
   ]
  },
  {
   "cell_type": "code",
   "execution_count": 43,
   "id": "6cf55352",
   "metadata": {
    "jupyter": {
     "outputs_hidden": false
    }
   },
   "outputs": [],
   "source": [
    "gcd = Symbol('gcd', FunctionType(INT,[INT,INT]))\n",
    "aux = Symbol('aux', INT)\n",
    "r = Symbol('r', INT)\n",
    "r_prime = Symbol('r_prime', INT)\n",
    "s = Symbol('s', INT)\n",
    "s_prime = Symbol('s_prime', INT)\n",
    "t = Symbol('t', INT)\n",
    "t_prime = Symbol('t_prime', INT)\n",
    "\n",
    "a = 6\n",
    "b = 1\n",
    "\n",
    "#axioms = Ite(Equals(b, Int(0)), Equals(gcd(a, b), a), Equals(gcd(a, b), gcd(b , Minus(a, Times(Div(a, b), b)))))\n",
    "\n",
    "ax1 = Implies(Equals(Int(b),Int(0)),Equals(gcd(Int(a),Int(b)),Int(a)))\n",
    "ax2 = Implies(GT(Int(b), Int(0)),\n",
    "              Ite(GT(Int(a), Int(b)),\n",
    "                  Equals(gcd(Int(a), Int(b)), \n",
    "                         gcd(Int(b),Minus(Int(a), Times(Div(Int(a), Int(b)), Int(b))))),\n",
    "                  Equals(gcd(Int(a),Int(b)),\n",
    "                         gcd(Int(b),Int(a)))\n",
    "                )\n",
    "        )\n",
    "axioms = And(ax1, ax2)"
   ]
  },
  {
   "cell_type": "code",
   "execution_count": 44,
   "id": "36acdbd2",
   "metadata": {
    "jupyter": {
     "outputs_hidden": false
    }
   },
   "outputs": [
    {
     "name": "stdout",
     "output_type": "stream",
     "text": [
      "Failed to prove.\n"
     ]
    }
   ],
   "source": [
    "prove(Implies(axioms,Equals(gcd(Int(a),Int(b)),Int(1))))"
   ]
  },
  {
   "cell_type": "code",
   "execution_count": 46,
   "id": "6b7470bf",
   "metadata": {
    "jupyter": {
     "outputs_hidden": false
    }
   },
   "outputs": [
    {
     "ename": "AttributeError",
     "evalue": "'int' object has no attribute 'args'",
     "output_type": "error",
     "traceback": [
      "\u001b[0;31m---------------------------------------------------------------------------\u001b[0m",
      "\u001b[0;31mAttributeError\u001b[0m                            Traceback (most recent call last)",
      "Cell \u001b[0;32mIn[46], line 4\u001b[0m\n\u001b[1;32m      1\u001b[0m N \u001b[38;5;241m=\u001b[39m Symbol(\u001b[38;5;124m'\u001b[39m\u001b[38;5;124mN\u001b[39m\u001b[38;5;124m'\u001b[39m, INT)\n\u001b[1;32m      2\u001b[0m q \u001b[38;5;241m=\u001b[39m Symbol(\u001b[38;5;124m'\u001b[39m\u001b[38;5;124mq\u001b[39m\u001b[38;5;124m'\u001b[39m, INT)\n\u001b[0;32m----> 4\u001b[0m pre \u001b[38;5;241m=\u001b[39m And(GT(a, Int(\u001b[38;5;241m0\u001b[39m)), GT(b, Int(\u001b[38;5;241m0\u001b[39m)), GT(N, a), GT(N, b))\n\u001b[1;32m      6\u001b[0m \u001b[38;5;28;01mdef\u001b[39;00m \u001b[38;5;21mcontraexemplo\u001b[39m(a, b, r):\n\u001b[1;32m      7\u001b[0m     r_P \u001b[38;5;241m=\u001b[39m Symbol(\u001b[38;5;124m'\u001b[39m\u001b[38;5;124mr_P\u001b[39m\u001b[38;5;124m'\u001b[39m, INT)\n",
      "File \u001b[0;32m~/anaconda3/envs/logica/lib/python3.11/site-packages/pysmt/shortcuts.py:218\u001b[0m, in \u001b[0;36mGT\u001b[0;34m(left, right)\u001b[0m\n\u001b[1;32m    216\u001b[0m \u001b[38;5;28;01mdef\u001b[39;00m \u001b[38;5;21mGT\u001b[39m(left, right):\n\u001b[1;32m    217\u001b[0m \u001b[38;5;250m    \u001b[39m\u001b[38;5;124mr\u001b[39m\u001b[38;5;124;03m\"\"\".. math:: l > r\"\"\"\u001b[39;00m\n\u001b[0;32m--> 218\u001b[0m     \u001b[38;5;28;01mreturn\u001b[39;00m get_env()\u001b[38;5;241m.\u001b[39mformula_manager\u001b[38;5;241m.\u001b[39mGT(left, right)\n",
      "File \u001b[0;32m~/anaconda3/envs/logica/lib/python3.11/site-packages/pysmt/formula.py:305\u001b[0m, in \u001b[0;36mFormulaManager.GT\u001b[0;34m(self, left, right)\u001b[0m\n\u001b[1;32m    299\u001b[0m \u001b[38;5;28;01mdef\u001b[39;00m \u001b[38;5;21mGT\u001b[39m(\u001b[38;5;28mself\u001b[39m, left, right):\n\u001b[1;32m    300\u001b[0m \u001b[38;5;250m    \u001b[39m\u001b[38;5;124;03m\"\"\" Creates an expression of the form:\u001b[39;00m\n\u001b[1;32m    301\u001b[0m \u001b[38;5;124;03m        left > right\u001b[39;00m\n\u001b[1;32m    302\u001b[0m \n\u001b[1;32m    303\u001b[0m \u001b[38;5;124;03m    Restriction: Left and Right must be both REAL or INT type\u001b[39;00m\n\u001b[1;32m    304\u001b[0m \u001b[38;5;124;03m    \"\"\"\u001b[39;00m\n\u001b[0;32m--> 305\u001b[0m     \u001b[38;5;28;01mreturn\u001b[39;00m \u001b[38;5;28mself\u001b[39m\u001b[38;5;241m.\u001b[39mcreate_node(node_type\u001b[38;5;241m=\u001b[39mop\u001b[38;5;241m.\u001b[39mLT, args\u001b[38;5;241m=\u001b[39m(right, left))\n",
      "File \u001b[0;32m~/anaconda3/envs/logica/lib/python3.11/site-packages/pysmt/formula.py:96\u001b[0m, in \u001b[0;36mFormulaManager.create_node\u001b[0;34m(self, node_type, args, payload)\u001b[0m\n\u001b[1;32m     94\u001b[0m \u001b[38;5;28mself\u001b[39m\u001b[38;5;241m.\u001b[39m_next_free_id \u001b[38;5;241m+\u001b[39m\u001b[38;5;241m=\u001b[39m \u001b[38;5;241m1\u001b[39m\n\u001b[1;32m     95\u001b[0m \u001b[38;5;28mself\u001b[39m\u001b[38;5;241m.\u001b[39mformulae[content] \u001b[38;5;241m=\u001b[39m n\n\u001b[0;32m---> 96\u001b[0m \u001b[38;5;28mself\u001b[39m\u001b[38;5;241m.\u001b[39m_do_type_check(n)\n\u001b[1;32m     97\u001b[0m \u001b[38;5;28;01mreturn\u001b[39;00m n\n",
      "File \u001b[0;32m~/anaconda3/envs/logica/lib/python3.11/site-packages/pysmt/formula.py:81\u001b[0m, in \u001b[0;36mFormulaManager._do_type_check_real\u001b[0;34m(self, formula)\u001b[0m\n\u001b[1;32m     80\u001b[0m \u001b[38;5;28;01mdef\u001b[39;00m \u001b[38;5;21m_do_type_check_real\u001b[39m(\u001b[38;5;28mself\u001b[39m, formula):\n\u001b[0;32m---> 81\u001b[0m     \u001b[38;5;28mself\u001b[39m\u001b[38;5;241m.\u001b[39mget_type(formula)\n",
      "File \u001b[0;32m~/anaconda3/envs/logica/lib/python3.11/site-packages/pysmt/type_checker.py:43\u001b[0m, in \u001b[0;36mSimpleTypeChecker.get_type\u001b[0;34m(self, formula)\u001b[0m\n\u001b[1;32m     41\u001b[0m \u001b[38;5;28;01mdef\u001b[39;00m \u001b[38;5;21mget_type\u001b[39m(\u001b[38;5;28mself\u001b[39m, formula):\n\u001b[1;32m     42\u001b[0m \u001b[38;5;250m    \u001b[39m\u001b[38;5;124;03m\"\"\" Returns the pysmt.types type of the formula \"\"\"\u001b[39;00m\n\u001b[0;32m---> 43\u001b[0m     res \u001b[38;5;241m=\u001b[39m \u001b[38;5;28mself\u001b[39m\u001b[38;5;241m.\u001b[39mwalk(formula)\n\u001b[1;32m     44\u001b[0m     \u001b[38;5;28;01mif\u001b[39;00m \u001b[38;5;129;01mnot\u001b[39;00m \u001b[38;5;28mself\u001b[39m\u001b[38;5;241m.\u001b[39mbe_nice \u001b[38;5;129;01mand\u001b[39;00m res \u001b[38;5;129;01mis\u001b[39;00m \u001b[38;5;28;01mNone\u001b[39;00m:\n\u001b[1;32m     45\u001b[0m         \u001b[38;5;28;01mraise\u001b[39;00m PysmtTypeError(\u001b[38;5;124m\"\u001b[39m\u001b[38;5;124mThe formula \u001b[39m\u001b[38;5;124m'\u001b[39m\u001b[38;5;132;01m%s\u001b[39;00m\u001b[38;5;124m'\u001b[39m\u001b[38;5;124m is not well-formed\u001b[39m\u001b[38;5;124m\"\u001b[39m \\\n\u001b[1;32m     46\u001b[0m                              \u001b[38;5;241m%\u001b[39m \u001b[38;5;28mstr\u001b[39m(formula))\n",
      "File \u001b[0;32m~/anaconda3/envs/logica/lib/python3.11/site-packages/pysmt/walkers/dag.py:106\u001b[0m, in \u001b[0;36mDagWalker.walk\u001b[0;34m(self, formula, **kwargs)\u001b[0m\n\u001b[1;32m    103\u001b[0m \u001b[38;5;28;01mif\u001b[39;00m formula \u001b[38;5;129;01min\u001b[39;00m \u001b[38;5;28mself\u001b[39m\u001b[38;5;241m.\u001b[39mmemoization:\n\u001b[1;32m    104\u001b[0m     \u001b[38;5;28;01mreturn\u001b[39;00m \u001b[38;5;28mself\u001b[39m\u001b[38;5;241m.\u001b[39mmemoization[formula]\n\u001b[0;32m--> 106\u001b[0m res \u001b[38;5;241m=\u001b[39m \u001b[38;5;28mself\u001b[39m\u001b[38;5;241m.\u001b[39miter_walk(formula, \u001b[38;5;241m*\u001b[39m\u001b[38;5;241m*\u001b[39mkwargs)\n\u001b[1;32m    108\u001b[0m \u001b[38;5;28;01mif\u001b[39;00m \u001b[38;5;28mself\u001b[39m\u001b[38;5;241m.\u001b[39minvalidate_memoization:\n\u001b[1;32m    109\u001b[0m     \u001b[38;5;28mself\u001b[39m\u001b[38;5;241m.\u001b[39mmemoization\u001b[38;5;241m.\u001b[39mclear()\n",
      "File \u001b[0;32m~/anaconda3/envs/logica/lib/python3.11/site-packages/pysmt/walkers/dag.py:98\u001b[0m, in \u001b[0;36mDagWalker.iter_walk\u001b[0;34m(self, formula, **kwargs)\u001b[0m\n\u001b[1;32m     96\u001b[0m \u001b[38;5;250m\u001b[39m\u001b[38;5;124;03m\"\"\"Performs an iterative walk of the DAG\"\"\"\u001b[39;00m\n\u001b[1;32m     97\u001b[0m \u001b[38;5;28mself\u001b[39m\u001b[38;5;241m.\u001b[39mstack\u001b[38;5;241m.\u001b[39mappend((\u001b[38;5;28;01mFalse\u001b[39;00m, formula))\n\u001b[0;32m---> 98\u001b[0m \u001b[38;5;28mself\u001b[39m\u001b[38;5;241m.\u001b[39m_process_stack(\u001b[38;5;241m*\u001b[39m\u001b[38;5;241m*\u001b[39mkwargs)\n\u001b[1;32m     99\u001b[0m res_key \u001b[38;5;241m=\u001b[39m \u001b[38;5;28mself\u001b[39m\u001b[38;5;241m.\u001b[39m_get_key(formula, \u001b[38;5;241m*\u001b[39m\u001b[38;5;241m*\u001b[39mkwargs)\n\u001b[1;32m    100\u001b[0m \u001b[38;5;28;01mreturn\u001b[39;00m \u001b[38;5;28mself\u001b[39m\u001b[38;5;241m.\u001b[39mmemoization[res_key]\n",
      "File \u001b[0;32m~/anaconda3/envs/logica/lib/python3.11/site-packages/pysmt/walkers/dag.py:93\u001b[0m, in \u001b[0;36mDagWalker._process_stack\u001b[0;34m(self, **kwargs)\u001b[0m\n\u001b[1;32m     91\u001b[0m     \u001b[38;5;28mself\u001b[39m\u001b[38;5;241m.\u001b[39m_compute_node_result(formula, \u001b[38;5;241m*\u001b[39m\u001b[38;5;241m*\u001b[39mkwargs)\n\u001b[1;32m     92\u001b[0m \u001b[38;5;28;01melse\u001b[39;00m:\n\u001b[0;32m---> 93\u001b[0m     \u001b[38;5;28mself\u001b[39m\u001b[38;5;241m.\u001b[39m_push_with_children_to_stack(formula, \u001b[38;5;241m*\u001b[39m\u001b[38;5;241m*\u001b[39mkwargs)\n",
      "File \u001b[0;32m~/anaconda3/envs/logica/lib/python3.11/site-packages/pysmt/walkers/dag.py:54\u001b[0m, in \u001b[0;36mDagWalker._push_with_children_to_stack\u001b[0;34m(self, formula, **kwargs)\u001b[0m\n\u001b[1;32m     52\u001b[0m \u001b[38;5;250m\u001b[39m\u001b[38;5;124;03m\"\"\"Add children to the stack.\"\"\"\u001b[39;00m\n\u001b[1;32m     53\u001b[0m \u001b[38;5;28mself\u001b[39m\u001b[38;5;241m.\u001b[39mstack\u001b[38;5;241m.\u001b[39mappend((\u001b[38;5;28;01mTrue\u001b[39;00m, formula))\n\u001b[0;32m---> 54\u001b[0m \u001b[38;5;28;01mfor\u001b[39;00m s \u001b[38;5;129;01min\u001b[39;00m \u001b[38;5;28mself\u001b[39m\u001b[38;5;241m.\u001b[39m_get_children(formula):\n\u001b[1;32m     55\u001b[0m     \u001b[38;5;66;03m# Add only if not memoized already\u001b[39;00m\n\u001b[1;32m     56\u001b[0m     key \u001b[38;5;241m=\u001b[39m \u001b[38;5;28mself\u001b[39m\u001b[38;5;241m.\u001b[39m_get_key(s, \u001b[38;5;241m*\u001b[39m\u001b[38;5;241m*\u001b[39mkwargs)\n\u001b[1;32m     57\u001b[0m     \u001b[38;5;28;01mif\u001b[39;00m key \u001b[38;5;129;01mnot\u001b[39;00m \u001b[38;5;129;01min\u001b[39;00m \u001b[38;5;28mself\u001b[39m\u001b[38;5;241m.\u001b[39mmemoization:\n",
      "File \u001b[0;32m~/anaconda3/envs/logica/lib/python3.11/site-packages/pysmt/walkers/dag.py:49\u001b[0m, in \u001b[0;36mDagWalker._get_children\u001b[0;34m(self, formula)\u001b[0m\n\u001b[1;32m     48\u001b[0m \u001b[38;5;28;01mdef\u001b[39;00m \u001b[38;5;21m_get_children\u001b[39m(\u001b[38;5;28mself\u001b[39m, formula):\n\u001b[0;32m---> 49\u001b[0m     \u001b[38;5;28;01mreturn\u001b[39;00m formula\u001b[38;5;241m.\u001b[39margs()\n",
      "\u001b[0;31mAttributeError\u001b[0m: 'int' object has no attribute 'args'"
     ]
    }
   ],
   "source": [
    "N = Symbol('N', INT)\n",
    "q = Symbol('q', INT)\n",
    "\n",
    "pre = And(GT(a, Int(0)), GT(b, Int(0)), GT(N, a), GT(N, b))\n",
    "\n",
    "def contraexemplo(a, b, r):\n",
    "    r_P = Symbol('r_P', INT)\n",
    "    s_P = Symbol('s_P', INT)\n",
    "    t_P = Symbol('t_P', INT)\n",
    "    return Implies(And(GT(r_P, Int(0)), LT(r_P, r)), inv(a, b, r_P, s_P, t_P))\n",
    "\n",
    "def inv(a, b, r, s, t):\n",
    "    return And(GT(r, Int(0)), GT(N, r), Equals(r, Plus(Times(a, s), Times(b, t))))\n",
    "\n",
    "pos = And(inv(Int(a), Int(b), r, s, t), Not(contraexemplo(Int(a), Int(b), r)))\n",
    "\n",
    "ini = substitute(inv(Int(a), Int(b), r, s, t), {r:Int(a), r_prime:Int(b), s:Int(1), s_prime:Int(0), t:Int(0), t_prime:Int(1)})\n",
    "pres = Implies(And(Not(Equals(r_prime, Int(0))), inv(Int(a), Int(b), r, s, t)), \n",
    "               substitute(substitute(inv(Int(a), Int(b), r, s, t), \n",
    "                                     {r: r_prime, \n",
    "                                      r_prime: Minus(r, Times(q, r_prime)), \n",
    "                                      s: s_prime,\n",
    "                                      s_prime: Minus(s, Times(q, s_prime)),\n",
    "                                      t: t_prime,\n",
    "                                      t_prime: Minus(t, Times(q, t_prime))}\n",
    "                                    ), \n",
    "                          {q: Div(r, r_prime)}\n",
    "                         )\n",
    "              )\n",
    "\n",
    "util = Implies(And(Equals(r_prime, Int(0)), inv(Int(a), Int(b), r, s, t)), pos)\n",
    "vc = Implies(pre, And(ini, ForAll([r,r_prime,s,s_prime,t,t_prime], And(pres, util))))\n",
    "prove(vc)"
   ]
  },
  {
   "cell_type": "markdown",
   "id": "14a75da4",
   "metadata": {
    "jupyter": {
     "outputs_hidden": false
    }
   },
   "source": [
    "### Strongest post-condition\n",
    "\n",
    "Na abordagem SPC a denotação de um fluxo com um comando de atribuição introduz um quantificador existencial, o que não é adequado à verificação com SMT solvers: \n",
    "$ \\quad [ C \\; ; x = e ] \\; =  \\; \\exists a. (x = e[a/x]) \\wedge [C][a/x] $\n",
    "\n",
    "Para lidar com este problema pode-se converter o programa original ao formato \"*single assignment*\" (SA).\n",
    "Num programa SA cada variável só pode ser usada depois de ser atribuida e só pode ser atribuída uma única vez.\n",
    "\n",
    "Um programa (onde variáveis são atribuídas mais do que uma vez) pode ser reescrito num programa SA criando \"clones\" distintos das variáveis de forma a que seja possível fazer uma atribuição única a cada instância.\n",
    "\n",
    "Neste caso, a denotação `[C]` associa a cada fluxo `C` um predicado que caracteriza a sua correcção em termos lógicos (a sua VC) segundo a técnica SPC, sendo calculada pelas seguintes regras.\n",
    "\n",
    "$\n",
    "\\begin{array}{l}\n",
    "[{\\sf skip}] = True \\\\\n",
    "[{\\sf assume}\\:\\phi] = \\phi \\\\\n",
    "[{\\sf assert}\\:\\phi] = \\phi \\\\\n",
    "[x = e ] = (x = e)\\\\\n",
    "[(C_1 || C_2)] = [C_1] \\vee [C_2] \\\\\n",
    "\\\\\n",
    "[C \\, ; {\\sf skip}\\;] = [C] \\\\\n",
    "[C \\, ;{\\sf assume}\\:\\phi] = [C] \\wedge \\phi \\\\\n",
    "[C \\, ;{\\sf assert}\\:\\phi] = [C] \\to \\phi \\\\\n",
    "[ C \\, ; x = e ] = [C] \\wedge (x = e)\\\\\n",
    "[C\\,; (C_1 || C_2)] = [(C ; C_1) || (C; C_2)]\n",
    "\\end{array}\n",
    "$\n",
    "\n"
   ]
  },
  {
   "cell_type": "markdown",
   "id": "feb7009d",
   "metadata": {
    "jupyter": {
     "outputs_hidden": false
    }
   },
   "source": [
    "Denotação lógica com SPC\n",
    "```python\n",
    "[\n",
    "assume pre;\n",
    "r := a, r_ := b, s := 1, s_ := 0, t := 0, t_ := 1;\n",
    "assert inv;\n",
    "havoc q,r, r_, s, s_, t, t_;\n",
    "((assume r_ != 0 and inv; q = r div r_; r := r_, r_ := r - q * r_, s := s_, s_ := s - q * s_, t := t_, t_ := t - q * t_;\n",
    "assert inv; assume False) || assume(r_ = 0) and inv);\n",
    "assert pos\n",
    "]\n",
    "=> \n",
    "[\n",
    "assume pre;\n",
    "r := a, r_ := b, s := 1, s_ := 0, t := 0, t_ := 1;\n",
    "assert inv;\n",
    "havoc q,r, r_, s, s_, t, t_;\n",
    "((assume r_ != 0 and inv; q = r div r_; r := r_, r_ := r - q * r_, s := s_, s_ := s - q * s_, t := t_, t_ := t - q * t_;\n",
    "assert inv; assume False) || assume(r_ = 0) and inv)\n",
    "]\n",
    "-> pos\n",
    "=>\n",
    "(exists r,s,t,r_,s_,t_,q. (pre and (r := a, r_ := b, s := 1, s_ := 0, t := 0, t_ := 1) -> inv) and (r_ != 0 and inv)\n",
    "and q = r div r_ and (r := r_, r_ := r - q * r_, s := s_, s_ := s - q * s_, t := t_, t_ := t - q * t_) -> inv and False)\n",
    "or\n",
    "(exists r,s,t,r_,s_,t_,q. (pre and (r = a, r_ = b, s = 1, s_ = 0, t = 0, t_ = 1) -> inv) and (r_ = 0) and inv) -> pos\n",
    "...\n"
   ]
  },
  {
   "cell_type": "code",
   "execution_count": null,
   "id": "fb3f5b25",
   "metadata": {
    "jupyter": {
     "outputs_hidden": false
    }
   },
   "outputs": [],
   "source": [
    "a = Symbol('a',INT)\n",
    "b = Symbol('b',INT)\n",
    "r = Symbol('r', INT)\n",
    "r_prime = Symbol('r_prime', INT)\n",
    "s = Symbol('s', INT)\n",
    "s_prime = Symbol('s_prime', INT)\n",
    "t = Symbol('t', INT)\n",
    "t_prime = Symbol('t_prime', INT)\n",
    "N = Symbol('N', INT)\n",
    "q = Symbol('q', INT)\n",
    "gcd = Symbol('gcd', FunctionType(INT,[INT,INT]))\n",
    "aux = Symbol('aux', INT)\n",
    "\n",
    "pre = And(GT(a, Int(0)), GT(b, Int(0)), GT(N, a), GT(N, b))\n",
    "\n",
    "pos = And(Equals(r, gcd(a, b)), Equals(r_prime, Int(0)), Exists([s, t], Equals(gcd(a, b), Plus(Times(a, s), Times(b, t)))))\n",
    "\n",
    "inv = And(GT(r, Int(0)), GT(N, r), Equals(r, Plus(Times(a, s), Times(b, t))))\n",
    "ini = substitute(inv, {r:a, r_prime:b, s:Int(1), s_prime:Int(0), t:Int(0), t_prime:Int(1)})\n",
    "pres = Implies(And(Not(Equals(r_prime, Int(0))), inv), substitute(substitute(substitute(substitute(substitute(substitute(substitute(substitute(substitute(substitute(inv, {tP:t}), {sP:s}), {rP:r}), {t_prime: Minus(tP, Times(q, t_prime))}), {t: t_prime}), {s_prime: Minus(sP, Times(q, s_prime))}), {s: s_prime}), {r_prime: Minus(rP, Times(q, r_prime))}), {r: r_prime}), {q: Div(r, r_prime)}))\n",
    "util = Implies(And(Equals(r_prime, Int(0)), inv), pos)\n",
    "vc = Implies(pre, And(ini, ForAll([r,r_prime,s,s_prime,t,t_prime,rP,sP,tP], And(pres, util))))\n",
    "\n",
    "prove(vc)"
   ]
  }
 ],
 "metadata": {
  "kernelspec": {
   "display_name": "Python 3 (ipykernel)",
   "language": "python",
   "name": "python3"
  },
  "language_info": {
   "codemirror_mode": {
    "name": "ipython",
    "version": 3
   },
   "file_extension": ".py",
   "mimetype": "text/x-python",
   "name": "python",
   "nbconvert_exporter": "python",
   "pygments_lexer": "ipython3",
   "version": "3.11.5"
  },
  "name": "Ex2.ipynb",
  "title": "Lógica Computacional - TP3 Exercício 1 - G01"
 },
 "nbformat": 4,
 "nbformat_minor": 5
}
