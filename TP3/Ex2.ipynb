{
 "cells": [
  {
   "cell_type": "markdown",
   "id": "20e884dc-7ec9-477c-a3be-ea6a9515f79f",
   "metadata": {
    "collapsed": false,
    "jupyter": {
     "outputs_hidden": false
    },
    "slideshow": {
     "slide_type": ""
    },
    "tags": []
   },
   "source": [
    "# Exercício 2 - Enunciado"
   ]
  },
  {
   "cell_type": "markdown",
   "id": "71a2da70-f45a-419f-bc33-898961d90751",
   "metadata": {
    "collapsed": false,
    "jupyter": {
     "outputs_hidden": false
    }
   },
   "source": [
    "Considere-se de novo o algoritmo estendido de Euclides apresentado no TP2  mas usando o tipo dos inteiros e um parâmetro $N>0$\n",
    "```\n",
    "    INPUT  a, b : Int\n",
    "    assume  a > 0 and b > 0 and a < N and b < N\n",
    "    r, r', s, s', t, t' = a, b, 1, 0, 0, 1\n",
    "    while r' != 0\n",
    "      q = r div r'\n",
    "      r, r', s, s', t, t' = r', r − q × r', s', s − q × s', t', t − q × t' \n",
    "    OUTPUT r, s, t\n",
    "```\n",
    "\n",
    "Este exercício é dirigido à prova de correção do algoritmo estendido de Euclides\n",
    "\n",
    "1. Construa a asserção lógica que representa a pós-condição do algoritmo. Note que a definição da função  $\\gcd$  é   $\\gcd(a,b)\\;\\equiv\\; \\min \\{\\,r > 0\\,|\\,\\exists\\,s,t\\,\\centerdot\\, r = a*s+b*t\\,\\}$ .\n",
    "2. Usando a metodologia do comando havoc para o ciclo, escreva o programa na linguagem dos comandos anotados (LPA). Codifique a pós-condição do algoritmo com um comando assert .\n",
    "3. Construa codificações do programa LPA através de transformadores de predicados: “weakest pre-condition” e “strongest post-condition”. \n",
    "4. Prove a correção  do programa LPA em ambas as codificações."
   ]
  },
  {
   "cell_type": "markdown",
   "id": "cc0412e8-ce3c-403e-baf8-e0d2c1d58399",
   "metadata": {
    "collapsed": false,
    "jupyter": {
     "outputs_hidden": false
    }
   },
   "source": [
    "# Exercício 2 - Solução"
   ]
  },
  {
   "cell_type": "code",
   "execution_count": 88,
   "id": "f855030f-4cbf-4957-87e0-6cd217e7c059",
   "metadata": {
    "collapsed": false
   },
   "outputs": [],
   "source": [
    "from pysmt.shortcuts import *\n",
    "from pysmt.typing import *\n",
    "from random import randrange\n",
    "\n",
    "def prove(f):\n",
    "    with Solver(name=\"z3\") as s:\n",
    "        s.add_assertion(Not(f))\n",
    "        if s.solve():\n",
    "            print(\"Failed to prove.\")\n",
    "        else:\n",
    "            print(\"Proven.\")\n",
    "def static_vars(**kwargs):\n",
    "    def decorate(func):\n",
    "        for k in kwargs:\n",
    "            setattr(func, k, kwargs[k])\n",
    "        return func\n",
    "    return decorate\n",
    "\n",
    "def inv(r, s, t,a,b,N):\n",
    "    return And(LT(Int(0), r), LT(r,Int(N)), Equals(r, Plus(Times(Int(a), s), Times(Int(b), t))))\n",
    "\n",
    "\n",
    "@static_vars(counter = 0)\n",
    "def contraexemplo(r, s, t, a, b, N):\n",
    "    contraexemplo.counter+=1;\n",
    "    r_prime = Symbol(\"r\"+str(contraexemplo.counter), INT)\n",
    "    s_prime = Symbol(\"s\"+str(contraexemplo.counter), INT)\n",
    "    t_prime = Symbol(\"t\"+str(contraexemplo.counter), INT)\n",
    "    return And(LT(r_prime, Int(0)), LT(r_prime, r), inv(r_prime, s_prime, t_prime, a, b, N))\n",
    "\n",
    "N = int(input(\"> N: \"))\n",
    "a = int(randrange(1,N-1))\n",
    "b = int(randrange(1,N-1))\n"
   ]
  },
  {
   "cell_type": "markdown",
   "id": "3527589e",
   "metadata": {
    "collapsed": false,
    "jupyter": {
     "outputs_hidden": false
    }
   },
   "source": [
    "$$\n",
    "\\mathsf{Comando}\\mathbin{\\;::=\\;} \\mathit{var}\\gets \\mathit{exp}\\;|\\;\\mathsf{havoc}\\,\\mathit{var}\\;|\\;\\mathsf{assert}\\,\\varphi\\;|\\;\\mathsf{assume}\\,\\phi\n",
    "$$\n",
    "$$\n",
    "\\mathsf{Fluxo}\\mathbin{\\;::=\\;} \\mathsf{skip}\\;|\\;\\mathsf{Comando}\\,;\\,\\mathsf{Fluxo}\\;|\\;\\mathsf{Fluxo}\\,\\|\\,\\mathsf{Fluxo}\n",
    "$$"
   ]
  },
  {
   "cell_type": "markdown",
   "id": "fe77cf92",
   "metadata": {
    "collapsed": false,
    "jupyter": {
     "outputs_hidden": false
    }
   },
   "source": [
    "### Weakest pre-condition\n",
    "\n",
    "A denotação `[C]` associa a cada fluxo `C` um predicado que caracteriza a sua correcção em termos lógicos (a sua VC) segundo a técnica WPC, sendo calculada pelas seguintes regras.\n",
    "\n",
    "$\n",
    "\\begin{array}{l}\n",
    "[{\\sf skip}] = True \\\\\n",
    "[{\\sf assume}\\:\\phi] = True \\\\\n",
    "[{\\sf assert}\\:\\phi] = \\phi \\\\\n",
    "[ x = e ] = True \\\\\n",
    "[(C_1 || C_2)] = [C_1] \\wedge [C_2] \\\\\n",
    "\\\\\n",
    "[{\\sf skip}\\, ; C] = [C] \\\\\n",
    "[{\\sf assume}\\:\\phi\\, ; C] = \\phi \\to [C] \\\\\n",
    "[{\\sf assert}\\:\\phi\\, ; C] = \\phi \\wedge [C] \\\\\n",
    "[ x = e \\, ; C] = [C][e/x] \\\\\n",
    "[(C_1 || C_2)\\, ; C] = [(C_1 ; C) || (C_2 ; C)]\n",
    "\\end{array}\n",
    "$\n"
   ]
  },
  {
   "cell_type": "markdown",
   "id": "e284c554",
   "metadata": {
    "collapsed": false,
    "jupyter": {
     "outputs_hidden": false
    }
   },
   "source": [
    "```python\n",
    "INPUT  a, b : Int;\n",
    "assume  a > 0 and b > 0 and a < N and b < N;\n",
    "r, r_, s, s_, t, t_ := a, b, 1, 0, 0, 1;\n",
    "while r_ != 0 do\n",
    "    q := r div r_;\n",
    "    r,r_,s,s_,t,t_ := r_, r-q*r_, s_, s-q*s_, t_, t-q*t_\n",
    "OUTPUT r, s, t;\n",
    "```\n",
    "Programa de fluxos.\n",
    "\n",
    "Sejam `pre <- a > 0 and b > 0 and a < N and b < N`<br>\n",
    "      `inv <- (r > 0) and (r < N) and (exists s,t. r = a*s + b*t)`<br>\n",
    "  `    pos <- r = gcd(a,b) and r_prime = 0 and exists s,t. gcd(a,b) = a * s + b * t`\n",
    "\n",
    "```python\n",
    "assume pre;\n",
    "r := a, r_ := b, s := 1, s_ := 0, t := 0, t_ := 1;\n",
    "assert inv;\n",
    "havoc r, r_, s, s_, t, t_;\n",
    "((assume r_ != 0 and inv; q = r div r_; r := r_, r_ := r - q * r_, s := s_, s_ := s - q * s_, t := t_, t_ := t - q * t_;\n",
    "assert inv; assume False) || assume(r_ = 0) and inv);\n",
    "assert pos;\n",
    "```"
   ]
  },
  {
   "cell_type": "markdown",
   "id": "76fe619c",
   "metadata": {
    "collapsed": false,
    "jupyter": {
     "outputs_hidden": false
    }
   },
   "source": [
    "Denotação lógica com WPC.\n",
    "```python\n",
    "[\n",
    "assume pre;\n",
    "r := a, r_ := b, s := 1, s_ := 0, t := 0, t_ := 1;\n",
    "assert inv;\n",
    "havoc q,r, r_, s, s_, t, t_;\n",
    "((assume r_ != 0 and inv; q = r div r_; r := r_, r_ := r - q * r_, s := s_, s_ := s - q * s_, t := t_, t_ := t - q * t_;\n",
    "assert inv; assume False) || assume(r_ = 0) and inv);\n",
    "assert pos;\n",
    "]\n",
    "\n",
    "=>\n",
    "\n",
    "pre -> [ assert inv; havoc q,r, r_,s,s_,t,t_; ...; assert pos ] [r<-a, r_<-b, s<-1, s_<-0, t<-0, t_<-1]\n",
    "\n",
    "=>\n",
    "\n",
    "pre -> inv[r<-a,r_<-b,s<-1,s_<-0,t<-0,t_<-1] and (forall r,r_,s,s_,t,t_,. [...; assert pos])\n",
    "\n",
    "=>\n",
    "\n",
    "pre -> inv[r<-a,r_<-b,s<-1,s_<-0,t<-0,t_<-1] and\n",
    "       (forall q,r,r_,s,s_,t,t_.\n",
    "           ( (r_ != 0 and inv) -> (inv[r <- r_, r_ <- r - q * r_, s <- s_, s_ <- s - q * s_, t <- t_, t_ <- t - q * t_])[q<- r div r_]) )\n",
    "             and\n",
    "             ( (not(r_ != 0) and inv) -> pos)\n",
    "       )\n",
    "```"
   ]
  },
  {
   "cell_type": "code",
   "execution_count": 89,
   "id": "6cf55352",
   "metadata": {
    "collapsed": false,
    "jupyter": {
     "outputs_hidden": false
    }
   },
   "outputs": [],
   "source": [
    "aux = Symbol('aux', INT)\n",
    "r = Symbol('r', INT)\n",
    "r_prime = Symbol('r_prime', INT)\n",
    "s = Symbol('s', INT)\n",
    "s_prime = Symbol('s_prime', INT)\n",
    "t = Symbol('t', INT)\n",
    "t_prime = Symbol('t_prime', INT)\n",
    "q = Symbol('q', INT)\n"
   ]
  },
  {
   "cell_type": "code",
   "execution_count": 90,
   "id": "6b7470bf",
   "metadata": {
    "collapsed": false,
    "jupyter": {
     "outputs_hidden": false
    }
   },
   "outputs": [
    {
     "name": "stdout",
     "output_type": "stream",
     "text": [
      "Failed to prove.\n"
     ]
    }
   ],
   "source": [
    "\n",
    "pre = And(GT(Int(a), Int(0)), GT(Int(b), Int(0)), GT(Int(N), Int(a)), GT(Int(N), Int(a)))\n",
    "\n",
    "\n",
    "pos = And(inv(r, s, t, a, b, N), Not(contraexemplo(r,s,t,a,b,N)))\n",
    "\n",
    "ini = substitute(inv(r,s,t,a,b,N), {r:Int(a), r_prime:Int(b), s:Int(1), s_prime:Int(0), t:Int(0), t_prime:Int(1)})\n",
    "pres = Implies(And(Not(Equals(r_prime, Int(0))), inv(r,s,t,a,b,N)), \n",
    "               substitute(substitute(inv(r, s, t,a,b,N), \n",
    "                                     {r: r_prime, \n",
    "                                      r_prime: Minus(r, Times(q, r_prime)), \n",
    "                                      s: s_prime,\n",
    "                                      s_prime: Minus(s, Times(q, s_prime)),\n",
    "                                      t: t_prime,\n",
    "                                      t_prime: Minus(t, Times(q, t_prime))}\n",
    "                                    ), \n",
    "                          {q: Div(r, r_prime)}\n",
    "                         )\n",
    "              )\n",
    "\n",
    "util = Implies(And(Equals(r_prime, Int(0)), inv(r, s, t,a,b,N)), pos)\n",
    "vc = Implies(pre, And(ini, ForAll([r,r_prime,s,s_prime,t,t_prime], And(pres, util))))\n",
    "prove(vc)"
   ]
  },
  {
   "cell_type": "markdown",
   "id": "14a75da4",
   "metadata": {
    "collapsed": false,
    "jupyter": {
     "outputs_hidden": false
    }
   },
   "source": [
    "### Strongest post-condition\n",
    "\n",
    "Na abordagem SPC a denotação de um fluxo com um comando de atribuição introduz um quantificador existencial, o que não é adequado à verificação com SMT solvers: \n",
    "$ \\quad [ C \\; ; x = e ] \\; =  \\; \\exists a. (x = e[a/x]) \\wedge [C][a/x] $\n",
    "\n",
    "Para lidar com este problema pode-se converter o programa original ao formato \"*single assignment*\" (SA).\n",
    "Num programa SA cada variável só pode ser usada depois de ser atribuida e só pode ser atribuída uma única vez.\n",
    "\n",
    "Um programa (onde variáveis são atribuídas mais do que uma vez) pode ser reescrito num programa SA criando \"clones\" distintos das variáveis de forma a que seja possível fazer uma atribuição única a cada instância.\n",
    "\n",
    "Neste caso, a denotação `[C]` associa a cada fluxo `C` um predicado que caracteriza a sua correcção em termos lógicos (a sua VC) segundo a técnica SPC, sendo calculada pelas seguintes regras.\n",
    "\n",
    "$\n",
    "\\begin{array}{l}\n",
    "[{\\sf skip}] = True \\\\\n",
    "[{\\sf assume}\\:\\phi] = \\phi \\\\\n",
    "[{\\sf assert}\\:\\phi] = \\phi \\\\\n",
    "[x = e ] = (x = e)\\\\\n",
    "[(C_1 || C_2)] = [C_1] \\vee [C_2] \\\\\n",
    "\\\\\n",
    "[C \\, ; {\\sf skip}\\;] = [C] \\\\\n",
    "[C \\, ;{\\sf assume}\\:\\phi] = [C] \\wedge \\phi \\\\\n",
    "[C \\, ;{\\sf assert}\\:\\phi] = [C] \\to \\phi \\\\\n",
    "[ C \\, ; x = e ] = [C] \\wedge (x = e)\\\\\n",
    "[C\\,; (C_1 || C_2)] = [(C ; C_1) || (C; C_2)]\n",
    "\\end{array}\n",
    "$\n",
    "\n"
   ]
  },
  {
   "cell_type": "markdown",
   "id": "feb7009d",
   "metadata": {
    "collapsed": false,
    "jupyter": {
     "outputs_hidden": false
    }
   },
   "source": [
    "Denotação lógica com SPC\n",
    "```python\n",
    "[\n",
    "assume pre;\n",
    "r := a, r_ := b, s := 1, s_ := 0, t := 0, t_ := 1;\n",
    "assert inv;\n",
    "havoc q,r, r_, s, s_, t, t_;\n",
    "((assume r_ != 0 and inv; q = r div r_; r := r_, r_ := r - q * r_, s := s_, s_ := s - q * s_, t := t_, t_ := t - q * t_;\n",
    "assert inv; assume False) || assume(r_ = 0) and inv);\n",
    "assert pos\n",
    "]\n",
    "=> \n",
    "[\n",
    "assume pre;\n",
    "r := a, r_ := b, s := 1, s_ := 0, t := 0, t_ := 1;\n",
    "assert inv;\n",
    "havoc q,r, r_, s, s_, t, t_;\n",
    "((assume r_ != 0 and inv; q = r div r_; r := r_, r_ := r - q * r_, s := s_, s_ := s - q * s_, t := t_, t_ := t - q * t_;\n",
    "assert inv; assume False) || assume(r_ = 0) and inv)\n",
    "]\n",
    "-> pos\n",
    "=>\n",
    "(exists r,s,t,r_,s_,t_,q. (pre and (r := a, r_ := b, s := 1, s_ := 0, t := 0, t_ := 1) -> inv) and (r_ != 0 and inv)\n",
    "and q = r div r_ and (r := r_, r_ := r - q * r_, s := s_, s_ := s - q * s_, t := t_, t_ := t - q * t_) -> inv and False)\n",
    "or\n",
    "(exists r,s,t,r_,s_,t_,q. (pre and (r = a, r_ = b, s = 1, s_ = 0, t = 0, t_ = 1) -> inv) and (r_ = 0) and inv) -> pos\n",
    "...\n"
   ]
  },
  {
   "cell_type": "code",
   "execution_count": 91,
   "id": "fb3f5b25",
   "metadata": {
    "collapsed": false,
    "jupyter": {
     "outputs_hidden": false
    }
   },
   "outputs": [
    {
     "ename": "NameError",
     "evalue": "name 'tP' is not defined",
     "output_type": "error",
     "traceback": [
      "\u001b[0;31m---------------------------------------------------------------------------\u001b[0m",
      "\u001b[0;31mNameError\u001b[0m                                 Traceback (most recent call last)",
      "Cell \u001b[0;32mIn[91], line 20\u001b[0m\n\u001b[1;32m     18\u001b[0m inv \u001b[38;5;241m=\u001b[39m And(GT(r, Int(\u001b[38;5;241m0\u001b[39m)), GT(N, r), Equals(r, Plus(Times(a, s), Times(b, t))))\n\u001b[1;32m     19\u001b[0m ini \u001b[38;5;241m=\u001b[39m substitute(inv, {r:a, r_prime:b, s:Int(\u001b[38;5;241m1\u001b[39m), s_prime:Int(\u001b[38;5;241m0\u001b[39m), t:Int(\u001b[38;5;241m0\u001b[39m), t_prime:Int(\u001b[38;5;241m1\u001b[39m)})\n\u001b[0;32m---> 20\u001b[0m pres \u001b[38;5;241m=\u001b[39m Implies(And(Not(Equals(r_prime, Int(\u001b[38;5;241m0\u001b[39m))), inv), substitute(substitute(substitute(substitute(substitute(substitute(substitute(substitute(substitute(substitute(inv, {\u001b[43mtP\u001b[49m:t}), {sP:s}), {rP:r}), {t_prime: Minus(tP, Times(q, t_prime))}), {t: t_prime}), {s_prime: Minus(sP, Times(q, s_prime))}), {s: s_prime}), {r_prime: Minus(rP, Times(q, r_prime))}), {r: r_prime}), {q: Div(r, r_prime)}))\n\u001b[1;32m     21\u001b[0m util \u001b[38;5;241m=\u001b[39m Implies(And(Equals(r_prime, Int(\u001b[38;5;241m0\u001b[39m)), inv), pos)\n\u001b[1;32m     22\u001b[0m vc \u001b[38;5;241m=\u001b[39m Implies(pre, And(ini, ForAll([r,r_prime,s,s_prime,t,t_prime,rP,sP,tP], And(pres, util))))\n",
      "\u001b[0;31mNameError\u001b[0m: name 'tP' is not defined"
     ]
    }
   ],
   "source": [
    "a = Symbol('a',INT)\n",
    "b = Symbol('b',INT)\n",
    "r = Symbol('r', INT)\n",
    "r_prime = Symbol('r_prime', INT)\n",
    "s = Symbol('s', INT)\n",
    "s_prime = Symbol('s_prime', INT)\n",
    "t = Symbol('t', INT)\n",
    "t_prime = Symbol('t_prime', INT)\n",
    "N = Symbol('N', INT)\n",
    "q = Symbol('q', INT)\n",
    "gcd = Symbol('gcd', FunctionType(INT,[INT,INT]))\n",
    "aux = Symbol('aux', INT)\n",
    "\n",
    "pre = And(GT(a, Int(0)), GT(b, Int(0)), GT(N, a), GT(N, b))\n",
    "\n",
    "pos = And(Equals(r, gcd(a, b)), Equals(r_prime, Int(0)), Exists([s, t], Equals(gcd(a, b), Plus(Times(a, s), Times(b, t)))))\n",
    "\n",
    "inv = And(GT(r, Int(0)), GT(N, r), Equals(r, Plus(Times(a, s), Times(b, t))))\n",
    "ini = substitute(inv, {r:a, r_prime:b, s:Int(1), s_prime:Int(0), t:Int(0), t_prime:Int(1)})\n",
    "pres = Implies(And(Not(Equals(r_prime, Int(0))), inv), substitute(substitute(substitute(substitute(substitute(substitute(substitute(substitute(substitute(substitute(inv, {tP:t}), {sP:s}), {rP:r}), {t_prime: Minus(tP, Times(q, t_prime))}), {t: t_prime}), {s_prime: Minus(sP, Times(q, s_prime))}), {s: s_prime}), {r_prime: Minus(rP, Times(q, r_prime))}), {r: r_prime}), {q: Div(r, r_prime)}))\n",
    "util = Implies(And(Equals(r_prime, Int(0)), inv), pos)\n",
    "vc = Implies(pre, And(ini, ForAll([r,r_prime,s,s_prime,t,t_prime,rP,sP,tP], And(pres, util))))\n",
    "\n",
    "prove(vc)"
   ]
  }
 ],
 "metadata": {
  "kernelspec": {
   "argv": [
    "python",
    "-m",
    "ipykernel_launcher",
    "-f",
    "{connection_file}"
   ],
   "display_name": "Python 3 (ipykernel)",
   "env": null,
   "interrupt_mode": "signal",
   "language": "python",
   "metadata": {
    "debugger": true
   },
   "name": "python3"
  },
  "language_info": {
   "codemirror_mode": {
    "name": "ipython",
    "version": 3
   },
   "file_extension": ".py",
   "mimetype": "text/x-python",
   "name": "python",
   "nbconvert_exporter": "python",
   "pygments_lexer": "ipython3",
   "version": "3.11.5"
  },
  "name": "Ex2.ipynb",
  "title": "Lógica Computacional - TP3 Exercício 1 - G01"
 },
 "nbformat": 4,
 "nbformat_minor": 5
}
